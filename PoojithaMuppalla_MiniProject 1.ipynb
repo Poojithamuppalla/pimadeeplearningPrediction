{
 "cells": [
  {
   "cell_type": "markdown",
   "metadata": {},
   "source": [
    "# Mini-Project--1"
   ]
  },
  {
   "cell_type": "markdown",
   "metadata": {},
   "source": [
    "## Application of Deep Neural Networks in Diabetes Biomarkers prediction Development"
   ]
  },
  {
   "cell_type": "markdown",
   "metadata": {},
   "source": [
    "## Abstract : \n",
    "\n",
    "Machine learning and Deep Learning are popular technologies which are innovating the world, predicting outcomes and plays an important role in making good decisions. In a sector like healthcare, it is interesting to note how deep learning and machine learning can be beneficial in diagnosis and treatment of diseases like Diabetes.Diabetes is one of the most popular disease affecting the patients due to lack of insulin content in the body.Biomarkers are basically the indicators which helps in diagnosis of a health condition or disease. This plays an important role in diagnostic department of healthcare sector. Through this project, we are trying to implement deep learning technique in healthcare. \n",
    "\n",
    "This project aims using different machine learning and deep learning techniques to identify different diabetes biomarkers present in the blood sample of various patients. Developing a neural network model to predict whether person will have diabetes. "
   ]
  },
  {
   "cell_type": "markdown",
   "metadata": {},
   "source": [
    "## Purpose :\n",
    "\n",
    "Purpose of the project is to use different machine learning techniques and also deep learning techniques to predict the output and compare the performance of deep neural networks over traditional machine learning models."
   ]
  },
  {
   "cell_type": "markdown",
   "metadata": {},
   "source": [
    "## Acknowledgements:\n",
    "The Dataset is aquired from Kaggle competition which is located at https://www.kaggle.com/uciml/pima-indians-diabetes-database. The entire data is belong to National Institute of Diabetes and Digestive and Kidney Diseases "
   ]
  },
  {
   "cell_type": "markdown",
   "metadata": {},
   "source": [
    "## About the data set\n",
    "The datasets consist of several medical predictor (independent) variables and one target (dependent) variable, Outcome. Independent variables include the number of pregnancies the patient has had, their BMI, insulin level, age, and so on."
   ]
  },
  {
   "cell_type": "markdown",
   "metadata": {},
   "source": [
    "## Techniques Used: \n",
    "\n",
    "We will be using different machine learning as well as deep learning techniques to understand and predict the given outcome.\n",
    "\n",
    "### Machine Learning techniques Used:\n",
    "Decision Tree, Random Forests, KNN etc. \n",
    "\n",
    "### Deep Learning Techniques Used: \n",
    "\n",
    "Artificial Neural Network with different number of layers, neurons and activation functions. \n",
    "\n",
    "### Evaluation Metrics Used:\n",
    "\n",
    "We will be employing Accuracy, AUC-ROC curve, binary cross entropy. We will be plotting the graphs to check training and validation accuracy as well as training and validation loss."
   ]
  },
  {
   "cell_type": "markdown",
   "metadata": {},
   "source": [
    "## About Dataset\n",
    "\n",
    "Dataset has been taken from Kaggle. \n",
    "This dataset comprises of blood sample of different patients used to depict whether person will have diabetes or not.\n",
    "\n",
    "Sample Size : 768\n",
    "\n",
    "No of features: 9\n",
    "\n",
    "Type of problem: Binary classification. "
   ]
  },
  {
   "cell_type": "markdown",
   "metadata": {},
   "source": [
    "### Exploring the dataset \n",
    "\n",
    "We will be reading the dataset and importing into a dataframe and understand different statistical aspects of the dataset. We will check if null values are present in the dataset."
   ]
  },
  {
   "cell_type": "code",
   "execution_count": 1,
   "metadata": {},
   "outputs": [
    {
     "data": {
      "text/html": [
       "        <script type=\"text/javascript\">\n",
       "        window.PlotlyConfig = {MathJaxConfig: 'local'};\n",
       "        if (window.MathJax) {MathJax.Hub.Config({SVG: {font: \"STIX-Web\"}});}\n",
       "        if (typeof require !== 'undefined') {\n",
       "        require.undef(\"plotly\");\n",
       "        requirejs.config({\n",
       "            paths: {\n",
       "                'plotly': ['https://cdn.plot.ly/plotly-latest.min']\n",
       "            }\n",
       "        });\n",
       "        require(['plotly'], function(Plotly) {\n",
       "            window._Plotly = Plotly;\n",
       "        });\n",
       "        }\n",
       "        </script>\n",
       "        "
      ]
     },
     "metadata": {},
     "output_type": "display_data"
    }
   ],
   "source": [
    "#importing sklearn and traditional Python machine learning libraries\n",
    "import numpy as np\n",
    "import pandas as pd\n",
    "import matplotlib.pyplot as plt\n",
    "%matplotlib inline  \n",
    "import plotly.offline as py\n",
    "import plotly.express as px\n",
    "import plotly.graph_objs as go\n",
    "from plotly.offline import download_plotlyjs,init_notebook_mode,plot, iplot\n",
    "import plotly.tools as tls\n",
    "import plotly.figure_factory as ff\n",
    "py.init_notebook_mode(connected=True)\n",
    "from mlxtend.preprocessing import minmax_scaling\n",
    "from scipy import stats\n",
    "import seaborn as sns\n",
    "import statsmodels.api as sm\n",
    "from sklearn.model_selection import train_test_split\n",
    "from sklearn.preprocessing import StandardScaler\n",
    "from sklearn.metrics import confusion_matrix, precision_recall_curve, roc_auc_score, roc_curve, accuracy_score\n",
    "from sklearn.ensemble import RandomForestClassifier\n",
    "from sklearn.ensemble import GradientBoostingClassifier\n",
    "from sklearn.model_selection import GridSearchCV\n",
    "from sklearn.metrics import accuracy_score\n",
    "from sklearn.neighbors import KNeighborsClassifier\n",
    "## For scaling data \n",
    "from mlxtend.preprocessing import minmax_scaling \n",
    "# Tensorflow \n",
    "import tensorflow as tf\n",
    "# importing keras, tensorflow and related modules\n",
    "import tensorflow as tf\n",
    "from tensorflow.keras import layers\n",
    "import keras\n",
    "from keras.models import Sequential # intitialize the ANN\n",
    "from keras.layers import Dense, Dropout      # create layers\n",
    "from keras.optimizers import Adam, SGD, RMSprop"
   ]
  },
  {
   "cell_type": "code",
   "execution_count": 2,
   "metadata": {},
   "outputs": [],
   "source": [
    "# importing the dataset and initializing a dataframe.\n",
    "diabetes_df=pd.read_csv(\"https://raw.githubusercontent.com/Poojithamuppalla/pimadeeplearningPrediction/main/diabetes.csv\", decimal = ',')\n",
    "\n"
   ]
  },
  {
   "cell_type": "markdown",
   "metadata": {},
   "source": [
    "### Exploratory Data Analysis and Data Cleaning\n",
    "\n",
    "Here, we will be exploring the data and check for null values, improper formats and other data related issues. We will resolve these issues and clean the data which can be furthur used for building the model. "
   ]
  },
  {
   "cell_type": "code",
   "execution_count": 3,
   "metadata": {},
   "outputs": [
    {
     "data": {
      "text/html": [
       "<div>\n",
       "<style scoped>\n",
       "    .dataframe tbody tr th:only-of-type {\n",
       "        vertical-align: middle;\n",
       "    }\n",
       "\n",
       "    .dataframe tbody tr th {\n",
       "        vertical-align: top;\n",
       "    }\n",
       "\n",
       "    .dataframe thead th {\n",
       "        text-align: right;\n",
       "    }\n",
       "</style>\n",
       "<table border=\"1\" class=\"dataframe\">\n",
       "  <thead>\n",
       "    <tr style=\"text-align: right;\">\n",
       "      <th></th>\n",
       "      <th>Pregnancies</th>\n",
       "      <th>Glucose</th>\n",
       "      <th>BloodPressure</th>\n",
       "      <th>SkinThickness</th>\n",
       "      <th>Insulin</th>\n",
       "      <th>BMI</th>\n",
       "      <th>DiabetesPedigreeFunction</th>\n",
       "      <th>Age</th>\n",
       "      <th>Outcome</th>\n",
       "    </tr>\n",
       "  </thead>\n",
       "  <tbody>\n",
       "    <tr>\n",
       "      <th>0</th>\n",
       "      <td>6</td>\n",
       "      <td>148</td>\n",
       "      <td>72</td>\n",
       "      <td>35</td>\n",
       "      <td>0</td>\n",
       "      <td>33.6</td>\n",
       "      <td>0.627</td>\n",
       "      <td>50</td>\n",
       "      <td>1</td>\n",
       "    </tr>\n",
       "    <tr>\n",
       "      <th>1</th>\n",
       "      <td>1</td>\n",
       "      <td>85</td>\n",
       "      <td>66</td>\n",
       "      <td>29</td>\n",
       "      <td>0</td>\n",
       "      <td>26.6</td>\n",
       "      <td>0.351</td>\n",
       "      <td>31</td>\n",
       "      <td>0</td>\n",
       "    </tr>\n",
       "    <tr>\n",
       "      <th>2</th>\n",
       "      <td>8</td>\n",
       "      <td>183</td>\n",
       "      <td>64</td>\n",
       "      <td>0</td>\n",
       "      <td>0</td>\n",
       "      <td>23.3</td>\n",
       "      <td>0.672</td>\n",
       "      <td>32</td>\n",
       "      <td>1</td>\n",
       "    </tr>\n",
       "    <tr>\n",
       "      <th>3</th>\n",
       "      <td>1</td>\n",
       "      <td>89</td>\n",
       "      <td>66</td>\n",
       "      <td>23</td>\n",
       "      <td>94</td>\n",
       "      <td>28.1</td>\n",
       "      <td>0.167</td>\n",
       "      <td>21</td>\n",
       "      <td>0</td>\n",
       "    </tr>\n",
       "    <tr>\n",
       "      <th>4</th>\n",
       "      <td>0</td>\n",
       "      <td>137</td>\n",
       "      <td>40</td>\n",
       "      <td>35</td>\n",
       "      <td>168</td>\n",
       "      <td>43.1</td>\n",
       "      <td>2.288</td>\n",
       "      <td>33</td>\n",
       "      <td>1</td>\n",
       "    </tr>\n",
       "  </tbody>\n",
       "</table>\n",
       "</div>"
      ],
      "text/plain": [
       "   Pregnancies  Glucose  BloodPressure  SkinThickness  Insulin   BMI  \\\n",
       "0            6      148             72             35        0  33.6   \n",
       "1            1       85             66             29        0  26.6   \n",
       "2            8      183             64              0        0  23.3   \n",
       "3            1       89             66             23       94  28.1   \n",
       "4            0      137             40             35      168  43.1   \n",
       "\n",
       "  DiabetesPedigreeFunction  Age  Outcome  \n",
       "0                    0.627   50        1  \n",
       "1                    0.351   31        0  \n",
       "2                    0.672   32        1  \n",
       "3                    0.167   21        0  \n",
       "4                    2.288   33        1  "
      ]
     },
     "execution_count": 3,
     "metadata": {},
     "output_type": "execute_result"
    }
   ],
   "source": [
    "diabetes_df.head()"
   ]
  },
  {
   "cell_type": "code",
   "execution_count": 4,
   "metadata": {},
   "outputs": [
    {
     "data": {
      "text/plain": [
       "(768, 9)"
      ]
     },
     "execution_count": 4,
     "metadata": {},
     "output_type": "execute_result"
    }
   ],
   "source": [
    "diabetes_df.shape"
   ]
  },
  {
   "cell_type": "code",
   "execution_count": 5,
   "metadata": {},
   "outputs": [
    {
     "name": "stdout",
     "output_type": "stream",
     "text": [
      "<class 'pandas.core.frame.DataFrame'>\n",
      "RangeIndex: 768 entries, 0 to 767\n",
      "Data columns (total 9 columns):\n",
      " #   Column                    Non-Null Count  Dtype \n",
      "---  ------                    --------------  ----- \n",
      " 0   Pregnancies               768 non-null    int64 \n",
      " 1   Glucose                   768 non-null    int64 \n",
      " 2   BloodPressure             768 non-null    int64 \n",
      " 3   SkinThickness             768 non-null    int64 \n",
      " 4   Insulin                   768 non-null    int64 \n",
      " 5   BMI                       768 non-null    object\n",
      " 6   DiabetesPedigreeFunction  768 non-null    object\n",
      " 7   Age                       768 non-null    int64 \n",
      " 8   Outcome                   768 non-null    int64 \n",
      "dtypes: int64(7), object(2)\n",
      "memory usage: 54.1+ KB\n"
     ]
    },
    {
     "data": {
      "text/plain": [
       "None"
      ]
     },
     "metadata": {},
     "output_type": "display_data"
    }
   ],
   "source": [
    "\n",
    "display(diabetes_df.info())"
   ]
  },
  {
   "cell_type": "code",
   "execution_count": 6,
   "metadata": {},
   "outputs": [
    {
     "data": {
      "image/png": "[encoded data removed]",
      "text/plain": [
       "<Figure size 1440x1440 with 9 Axes>"
      ]
     },
     "metadata": {
      "needs_background": "light"
     },
     "output_type": "display_data"
    }
   ],
   "source": [
    "# Visulazing the distibution of the data for every feature\n",
    "plt.figure(figsize=(20, 20))\n",
    "\n",
    "for i, column in enumerate(diabetes_df.columns, 1):\n",
    "    plt.subplot(3, 3, i)\n",
    "    diabetes_df[diabetes_df[\"Outcome\"] == 0][column].hist(bins=35, color='blue', label='Have Diabetes = NO', alpha=0.6)\n",
    "    diabetes_df[diabetes_df[\"Outcome\"] == 1][column].hist(bins=35, color='red', label='Have Diabetes = YES', alpha=0.6)\n",
    "    plt.legend()\n",
    "    plt.xlabel(column)"
   ]
  },
  {
   "cell_type": "markdown",
   "metadata": {},
   "source": [
    "### Affected People from Diabetes"
   ]
  },
  {
   "cell_type": "markdown",
   "metadata": {},
   "source": [
    "### Data Pre-processing and Exploratory Data Analysis\n",
    "\n",
    "Before any model building, it is essential to understand the data properly, understand the importance of various features of the dataset. It is essential to clean the dataset and prepare it for model building so that predicting outcome is easier and more efficient. \n",
    "\n",
    "One part of data pre-processing is checking for the missing values in the dataset. Below line of code executed shows number of missing values in the dataset. "
   ]
  },
  {
   "cell_type": "code",
   "execution_count": 7,
   "metadata": {},
   "outputs": [
    {
     "data": {
      "text/plain": [
       "False"
      ]
     },
     "execution_count": 7,
     "metadata": {},
     "output_type": "execute_result"
    }
   ],
   "source": [
    "# checking whether there are any missing values in the dataset.\n",
    "diabetes_df.isnull().values.any()"
   ]
  },
  {
   "cell_type": "code",
   "execution_count": 8,
   "metadata": {},
   "outputs": [
    {
     "data": {
      "text/html": [
       "<div>\n",
       "<style scoped>\n",
       "    .dataframe tbody tr th:only-of-type {\n",
       "        vertical-align: middle;\n",
       "    }\n",
       "\n",
       "    .dataframe tbody tr th {\n",
       "        vertical-align: top;\n",
       "    }\n",
       "\n",
       "    .dataframe thead th {\n",
       "        text-align: right;\n",
       "    }\n",
       "</style>\n",
       "<table border=\"1\" class=\"dataframe\">\n",
       "  <thead>\n",
       "    <tr style=\"text-align: right;\">\n",
       "      <th></th>\n",
       "      <th>count</th>\n",
       "      <th>mean</th>\n",
       "      <th>std</th>\n",
       "      <th>min</th>\n",
       "      <th>25%</th>\n",
       "      <th>50%</th>\n",
       "      <th>75%</th>\n",
       "      <th>max</th>\n",
       "    </tr>\n",
       "  </thead>\n",
       "  <tbody>\n",
       "    <tr>\n",
       "      <th>Pregnancies</th>\n",
       "      <td>768.0</td>\n",
       "      <td>3.845052</td>\n",
       "      <td>3.369578</td>\n",
       "      <td>0.0</td>\n",
       "      <td>1.0</td>\n",
       "      <td>3.0</td>\n",
       "      <td>6.00</td>\n",
       "      <td>17.0</td>\n",
       "    </tr>\n",
       "    <tr>\n",
       "      <th>Glucose</th>\n",
       "      <td>768.0</td>\n",
       "      <td>120.894531</td>\n",
       "      <td>31.972618</td>\n",
       "      <td>0.0</td>\n",
       "      <td>99.0</td>\n",
       "      <td>117.0</td>\n",
       "      <td>140.25</td>\n",
       "      <td>199.0</td>\n",
       "    </tr>\n",
       "    <tr>\n",
       "      <th>BloodPressure</th>\n",
       "      <td>768.0</td>\n",
       "      <td>69.105469</td>\n",
       "      <td>19.355807</td>\n",
       "      <td>0.0</td>\n",
       "      <td>62.0</td>\n",
       "      <td>72.0</td>\n",
       "      <td>80.00</td>\n",
       "      <td>122.0</td>\n",
       "    </tr>\n",
       "    <tr>\n",
       "      <th>SkinThickness</th>\n",
       "      <td>768.0</td>\n",
       "      <td>20.536458</td>\n",
       "      <td>15.952218</td>\n",
       "      <td>0.0</td>\n",
       "      <td>0.0</td>\n",
       "      <td>23.0</td>\n",
       "      <td>32.00</td>\n",
       "      <td>99.0</td>\n",
       "    </tr>\n",
       "    <tr>\n",
       "      <th>Insulin</th>\n",
       "      <td>768.0</td>\n",
       "      <td>79.799479</td>\n",
       "      <td>115.244002</td>\n",
       "      <td>0.0</td>\n",
       "      <td>0.0</td>\n",
       "      <td>30.5</td>\n",
       "      <td>127.25</td>\n",
       "      <td>846.0</td>\n",
       "    </tr>\n",
       "    <tr>\n",
       "      <th>Age</th>\n",
       "      <td>768.0</td>\n",
       "      <td>33.240885</td>\n",
       "      <td>11.760232</td>\n",
       "      <td>21.0</td>\n",
       "      <td>24.0</td>\n",
       "      <td>29.0</td>\n",
       "      <td>41.00</td>\n",
       "      <td>81.0</td>\n",
       "    </tr>\n",
       "    <tr>\n",
       "      <th>Outcome</th>\n",
       "      <td>768.0</td>\n",
       "      <td>0.348958</td>\n",
       "      <td>0.476951</td>\n",
       "      <td>0.0</td>\n",
       "      <td>0.0</td>\n",
       "      <td>0.0</td>\n",
       "      <td>1.00</td>\n",
       "      <td>1.0</td>\n",
       "    </tr>\n",
       "  </tbody>\n",
       "</table>\n",
       "</div>"
      ],
      "text/plain": [
       "               count        mean         std   min   25%    50%     75%    max\n",
       "Pregnancies    768.0    3.845052    3.369578   0.0   1.0    3.0    6.00   17.0\n",
       "Glucose        768.0  120.894531   31.972618   0.0  99.0  117.0  140.25  199.0\n",
       "BloodPressure  768.0   69.105469   19.355807   0.0  62.0   72.0   80.00  122.0\n",
       "SkinThickness  768.0   20.536458   15.952218   0.0   0.0   23.0   32.00   99.0\n",
       "Insulin        768.0   79.799479  115.244002   0.0   0.0   30.5  127.25  846.0\n",
       "Age            768.0   33.240885   11.760232  21.0  24.0   29.0   41.00   81.0\n",
       "Outcome        768.0    0.348958    0.476951   0.0   0.0    0.0    1.00    1.0"
      ]
     },
     "execution_count": 8,
     "metadata": {},
     "output_type": "execute_result"
    }
   ],
   "source": [
    "diabetes_df.describe().T"
   ]
  },
  {
   "cell_type": "markdown",
   "metadata": {},
   "source": [
    "Its great to see that there is no null element present. Thus we do not need to fill or drop empty cells. However on close inspection I found that there are many '0' values that doesn't make anysense. So we are considering them as null values."
   ]
  },
  {
   "cell_type": "markdown",
   "metadata": {},
   "source": [
    "Data is related to healthcare Industry having 768 observations with 9 variable. Target variable is Outcome. It looks like there is no missing value, and boolean, float , integers are different datatypes available. Well descriptive analysis shows that variable Glucose, BoodPressure,SckinThickness, Insulin and BMI have minimum value 0 which does not make any sense, these values are either missing or outliers, But i am not going to alter them so that i can see actual statistics of Data. I can see in Pregnancies column, minimum is 0 (May be this is sign for no pregnancy) which is considerable, But maximum month of pregnancy is 17 which does not make any sense. Variance among different predictor variable is varying at large scale , Scaling data will be helpful for Predective modelling."
   ]
  },
  {
   "cell_type": "code",
   "execution_count": 9,
   "metadata": {},
   "outputs": [],
   "source": [
    "\n",
    "diabetes_df[['Glucose','BloodPressure','SkinThickness','Insulin','BMI','DiabetesPedigreeFunction','Age']] = diabetes_df[['Glucose','BloodPressure','SkinThickness','Insulin','BMI','DiabetesPedigreeFunction','Age']].replace(0,np.NaN) "
   ]
  },
  {
   "cell_type": "code",
   "execution_count": 10,
   "metadata": {},
   "outputs": [
    {
     "data": {
      "text/plain": [
       "Pregnancies                   0\n",
       "Glucose                       5\n",
       "BloodPressure                35\n",
       "SkinThickness               227\n",
       "Insulin                     374\n",
       "BMI                           0\n",
       "DiabetesPedigreeFunction      0\n",
       "Age                           0\n",
       "Outcome                       0\n",
       "dtype: int64"
      ]
     },
     "execution_count": 10,
     "metadata": {},
     "output_type": "execute_result"
    }
   ],
   "source": [
    "## Checking the new null values found.\n",
    "diabetes_df.isnull().sum()"
   ]
  },
  {
   "cell_type": "code",
   "execution_count": 11,
   "metadata": {},
   "outputs": [
    {
     "data": {
      "text/plain": [
       "count    768.000000\n",
       "mean       3.845052\n",
       "std        3.369578\n",
       "min        0.000000\n",
       "25%        1.000000\n",
       "50%        3.000000\n",
       "75%        6.000000\n",
       "max       17.000000\n",
       "Name: Pregnancies, dtype: float64"
      ]
     },
     "execution_count": 11,
     "metadata": {},
     "output_type": "execute_result"
    }
   ],
   "source": [
    "diabetes_df['Pregnancies'].describe()"
   ]
  },
  {
   "cell_type": "code",
   "execution_count": 12,
   "metadata": {},
   "outputs": [
    {
     "data": {
      "image/png": "[encoded data removed]",
      "text/plain": [
       "<Figure size 960x480 with 2 Axes>"
      ]
     },
     "metadata": {
      "needs_background": "light"
     },
     "output_type": "display_data"
    }
   ],
   "source": [
    "fig,axes = plt.subplots(nrows=1,ncols=2,dpi=120,figsize = (8,4))\n",
    "\n",
    "plot00=sns.distplot(diabetes_df['Pregnancies'],ax=axes[0],color='m')\n",
    "axes[0].set_title('Distribution of Pregnancy',fontdict={'fontsize':8})\n",
    "axes[0].set_xlabel('Pregnancy Class',fontdict={'fontsize':7})\n",
    "axes[0].set_ylabel('Frequency/Distrubtion',fontdict={'fontsize':7})\n",
    "plt.tight_layout()\n",
    "\n",
    "\n",
    "plot01=sns.boxplot('Pregnancies',data=diabetes_df,ax=axes[1],orient = 'v',color='c')\n",
    "axes[1].set_title('Five Point Summary',fontdict={'fontsize':8})\n",
    "plt.tight_layout()"
   ]
  },
  {
   "cell_type": "markdown",
   "metadata": {},
   "source": [
    "Well, we are done with Pregnancy variable. Let us see next one."
   ]
  },
  {
   "cell_type": "code",
   "execution_count": 13,
   "metadata": {},
   "outputs": [
    {
     "data": {
      "text/plain": [
       "count    763.000000\n",
       "mean     121.686763\n",
       "std       30.535641\n",
       "min       44.000000\n",
       "25%       99.000000\n",
       "50%      117.000000\n",
       "75%      141.000000\n",
       "max      199.000000\n",
       "Name: Glucose, dtype: float64"
      ]
     },
     "execution_count": 13,
     "metadata": {},
     "output_type": "execute_result"
    }
   ],
   "source": [
    "diabetes_df['Glucose'].describe()"
   ]
  },
  {
   "cell_type": "code",
   "execution_count": 14,
   "metadata": {},
   "outputs": [
    {
     "data": {
      "image/png": "[encoded data removed]",
      "text/plain": [
       "<Figure size 960x480 with 2 Axes>"
      ]
     },
     "metadata": {
      "needs_background": "light"
     },
     "output_type": "display_data"
    }
   ],
   "source": [
    "fig,axes = plt.subplots(nrows=1,ncols=2,dpi=120,figsize = (8,4))\n",
    "\n",
    "plot00=sns.distplot(diabetes_df['Glucose'],ax=axes[0],color='b')\n",
    "axes[0].set_title('Distribution of Glucose',fontdict={'fontsize':8})\n",
    "axes[0].set_xlabel('Glucose Class',fontdict={'fontsize':7})\n",
    "axes[0].set_ylabel('Frequency/Distrubtion',fontdict={'fontsize':7})\n",
    "plt.tight_layout()\n",
    "\n",
    "\n",
    "plot01=sns.boxplot('Glucose',data=diabetes_df,ax=axes[1],orient = 'v',color='m')\n",
    "axes[1].set_title('Five Point Summary',fontdict={'fontsize':8})\n",
    "plt.tight_layout()"
   ]
  },
  {
   "cell_type": "markdown",
   "metadata": {},
   "source": [
    "Glucose = 0, does not make any sense."
   ]
  },
  {
   "cell_type": "code",
   "execution_count": 15,
   "metadata": {},
   "outputs": [],
   "source": [
    "# Define missing plot to detect all missing values in dataset\n",
    "def missing_plot(dataset, key) :\n",
    "    null_feat = pd.DataFrame(len(dataset[key]) - dataset.isnull().sum(), columns = ['Count'])\n",
    "    percentage_null = pd.DataFrame((dataset.isnull().sum())/len(dataset[key])*100, columns = ['Count'])\n",
    "    percentage_null = percentage_null.round(2)\n",
    "\n",
    "    trace = go.Bar(x = null_feat.index, y = null_feat['Count'] ,opacity = 0.8, text = percentage_null['Count'],  textposition = 'auto',marker=dict(color = '#7EC0EE',\n",
    "            line=dict(color='#000000',width=1.5)))\n",
    "\n",
    "    layout = dict(title =  \"Missing Values (count & %)\")\n",
    "\n",
    "    fig = dict(data = [trace], layout=layout)\n",
    "    py.iplot(fig)\n",
    "    "
   ]
  },
  {
   "cell_type": "code",
   "execution_count": 16,
   "metadata": {},
   "outputs": [
    {
     "data": {
      "application/vnd.plotly.v1+json": {
       "config": {
        "linkText": "Export to plot.ly",
        "plotlyServerURL": "https://plot.ly",
        "showLink": false
       },
       "data": [
        {
         "marker": {
          "color": "#7EC0EE",
          "line": {
           "color": "#000000",
           "width": 1.5
          }
         },
         "opacity": 0.8,
         "text": [
          0,
          0.65,
          4.56,
          29.56,
          48.7,
          0,
          0,
          0,
          0
         ],
         "textposition": "auto",
         "type": "bar",
         "x": [
          "Pregnancies",
          "Glucose",
          "BloodPressure",
          "SkinThickness",
          "Insulin",
          "BMI",
          "DiabetesPedigreeFunction",
          "Age",
          "Outcome"
         ],
         "y": [
          768,
          763,
          733,
          541,
          394,
          768,
          768,
          768,
          768
         ]
        }
       ],
       "layout": {
        "template": {
         "data": {
          "bar": [
           {
            "error_x": {
             "color": "#2a3f5f"
            },
            "error_y": {
             "color": "#2a3f5f"
            },
            "marker": {
             "line": {
              "color": "#E5ECF6",
              "width": 0.5
             }
            },
            "type": "bar"
           }
          ],
          "barpolar": [
           {
            "marker": {
             "line": {
              "color": "#E5ECF6",
              "width": 0.5
             }
            },
            "type": "barpolar"
           }
          ],
          "carpet": [
           {
            "aaxis": {
             "endlinecolor": "#2a3f5f",
             "gridcolor": "white",
             "linecolor": "white",
             "minorgridcolor": "white",
             "startlinecolor": "#2a3f5f"
            },
            "baxis": {
             "endlinecolor": "#2a3f5f",
             "gridcolor": "white",
             "linecolor": "white",
             "minorgridcolor": "white",
             "startlinecolor": "#2a3f5f"
            },
            "type": "carpet"
           }
          ],
          "choropleth": [
           {
            "colorbar": {
             "outlinewidth": 0,
             "ticks": ""
            },
            "type": "choropleth"
           }
          ],
          "contour": [
           {
            "colorbar": {
             "outlinewidth": 0,
             "ticks": ""
            },
            "colorscale": [
             [
              0,
              "#0d0887"
             ],
             [
              0.1111111111111111,
              "#46039f"
             ],
             [
              0.2222222222222222,
              "#7201a8"
             ],
             [
              0.3333333333333333,
              "#9c179e"
             ],
             [
              0.4444444444444444,
              "#bd3786"
             ],
             [
              0.5555555555555556,
              "#d8576b"
             ],
             [
              0.6666666666666666,
              "#ed7953"
             ],
             [
              0.7777777777777778,
              "#fb9f3a"
             ],
             [
              0.8888888888888888,
              "#fdca26"
             ],
             [
              1,
              "#f0f921"
             ]
            ],
            "type": "contour"
           }
          ],
          "contourcarpet": [
           {
            "colorbar": {
             "outlinewidth": 0,
             "ticks": ""
            },
            "type": "contourcarpet"
           }
          ],
          "heatmap": [
           {
            "colorbar": {
             "outlinewidth": 0,
             "ticks": ""
            },
            "colorscale": [
             [
              0,
              "#0d0887"
             ],
             [
              0.1111111111111111,
              "#46039f"
             ],
             [
              0.2222222222222222,
              "#7201a8"
             ],
             [
              0.3333333333333333,
              "#9c179e"
             ],
             [
              0.4444444444444444,
              "#bd3786"
             ],
             [
              0.5555555555555556,
              "#d8576b"
             ],
             [
              0.6666666666666666,
              "#ed7953"
             ],
             [
              0.7777777777777778,
              "#fb9f3a"
             ],
             [
              0.8888888888888888,
              "#fdca26"
             ],
             [
              1,
              "#f0f921"
             ]
            ],
            "type": "heatmap"
           }
          ],
          "heatmapgl": [
           {
            "colorbar": {
             "outlinewidth": 0,
             "ticks": ""
            },
            "colorscale": [
             [
              0,
              "#0d0887"
             ],
             [
              0.1111111111111111,
              "#46039f"
             ],
             [
              0.2222222222222222,
              "#7201a8"
             ],
             [
              0.3333333333333333,
              "#9c179e"
             ],
             [
              0.4444444444444444,
              "#bd3786"
             ],
             [
              0.5555555555555556,
              "#d8576b"
             ],
             [
              0.6666666666666666,
              "#ed7953"
             ],
             [
              0.7777777777777778,
              "#fb9f3a"
             ],
             [
              0.8888888888888888,
              "#fdca26"
             ],
             [
              1,
              "#f0f921"
             ]
            ],
            "type": "heatmapgl"
           }
          ],
          "histogram": [
           {
            "marker": {
             "colorbar": {
              "outlinewidth": 0,
              "ticks": ""
             }
            },
            "type": "histogram"
           }
          ],
          "histogram2d": [
           {
            "colorbar": {
             "outlinewidth": 0,
             "ticks": ""
            },
            "colorscale": [
             [
              0,
              "#0d0887"
             ],
             [
              0.1111111111111111,
              "#46039f"
             ],
             [
              0.2222222222222222,
              "#7201a8"
             ],
             [
              0.3333333333333333,
              "#9c179e"
             ],
             [
              0.4444444444444444,
              "#bd3786"
             ],
             [
              0.5555555555555556,
              "#d8576b"
             ],
             [
              0.6666666666666666,
              "#ed7953"
             ],
             [
              0.7777777777777778,
              "#fb9f3a"
             ],
             [
              0.8888888888888888,
              "#fdca26"
             ],
             [
              1,
              "#f0f921"
             ]
            ],
            "type": "histogram2d"
           }
          ],
          "histogram2dcontour": [
           {
            "colorbar": {
             "outlinewidth": 0,
             "ticks": ""
            },
            "colorscale": [
             [
              0,
              "#0d0887"
             ],
             [
              0.1111111111111111,
              "#46039f"
             ],
             [
              0.2222222222222222,
              "#7201a8"
             ],
             [
              0.3333333333333333,
              "#9c179e"
             ],
             [
              0.4444444444444444,
              "#bd3786"
             ],
             [
              0.5555555555555556,
              "#d8576b"
             ],
             [
              0.6666666666666666,
              "#ed7953"
             ],
             [
              0.7777777777777778,
              "#fb9f3a"
             ],
             [
              0.8888888888888888,
              "#fdca26"
             ],
             [
              1,
              "#f0f921"
             ]
            ],
            "type": "histogram2dcontour"
           }
          ],
          "mesh3d": [
           {
            "colorbar": {
             "outlinewidth": 0,
             "ticks": ""
            },
            "type": "mesh3d"
           }
          ],
          "parcoords": [
           {
            "line": {
             "colorbar": {
              "outlinewidth": 0,
              "ticks": ""
             }
            },
            "type": "parcoords"
           }
          ],
          "pie": [
           {
            "automargin": true,
            "type": "pie"
           }
          ],
          "scatter": [
           {
            "marker": {
             "colorbar": {
              "outlinewidth": 0,
              "ticks": ""
             }
            },
            "type": "scatter"
           }
          ],
          "scatter3d": [
           {
            "line": {
             "colorbar": {
              "outlinewidth": 0,
              "ticks": ""
             }
            },
            "marker": {
             "colorbar": {
              "outlinewidth": 0,
              "ticks": ""
             }
            },
            "type": "scatter3d"
           }
          ],
          "scattercarpet": [
           {
            "marker": {
             "colorbar": {
              "outlinewidth": 0,
              "ticks": ""
             }
            },
            "type": "scattercarpet"
           }
          ],
          "scattergeo": [
           {
            "marker": {
             "colorbar": {
              "outlinewidth": 0,
              "ticks": ""
             }
            },
            "type": "scattergeo"
           }
          ],
          "scattergl": [
           {
            "marker": {
             "colorbar": {
              "outlinewidth": 0,
              "ticks": ""
             }
            },
            "type": "scattergl"
           }
          ],
          "scattermapbox": [
           {
            "marker": {
             "colorbar": {
              "outlinewidth": 0,
              "ticks": ""
             }
            },
            "type": "scattermapbox"
           }
          ],
          "scatterpolar": [
           {
            "marker": {
             "colorbar": {
              "outlinewidth": 0,
              "ticks": ""
             }
            },
            "type": "scatterpolar"
           }
          ],
          "scatterpolargl": [
           {
            "marker": {
             "colorbar": {
              "outlinewidth": 0,
              "ticks": ""
             }
            },
            "type": "scatterpolargl"
           }
          ],
          "scatterternary": [
           {
            "marker": {
             "colorbar": {
              "outlinewidth": 0,
              "ticks": ""
             }
            },
            "type": "scatterternary"
           }
          ],
          "surface": [
           {
            "colorbar": {
             "outlinewidth": 0,
             "ticks": ""
            },
            "colorscale": [
             [
              0,
              "#0d0887"
             ],
             [
              0.1111111111111111,
              "#46039f"
             ],
             [
              0.2222222222222222,
              "#7201a8"
             ],
             [
              0.3333333333333333,
              "#9c179e"
             ],
             [
              0.4444444444444444,
              "#bd3786"
             ],
             [
              0.5555555555555556,
              "#d8576b"
             ],
             [
              0.6666666666666666,
              "#ed7953"
             ],
             [
              0.7777777777777778,
              "#fb9f3a"
             ],
             [
              0.8888888888888888,
              "#fdca26"
             ],
             [
              1,
              "#f0f921"
             ]
            ],
            "type": "surface"
           }
          ],
          "table": [
           {
            "cells": {
             "fill": {
              "color": "#EBF0F8"
             },
             "line": {
              "color": "white"
             }
            },
            "header": {
             "fill": {
              "color": "#C8D4E3"
             },
             "line": {
              "color": "white"
             }
            },
            "type": "table"
           }
          ]
         },
         "layout": {
          "annotationdefaults": {
           "arrowcolor": "#2a3f5f",
           "arrowhead": 0,
           "arrowwidth": 1
          },
          "coloraxis": {
           "colorbar": {
            "outlinewidth": 0,
            "ticks": ""
           }
          },
          "colorscale": {
           "diverging": [
            [
             0,
             "#8e0152"
            ],
            [
             0.1,
             "#c51b7d"
            ],
            [
             0.2,
             "#de77ae"
            ],
            [
             0.3,
             "#f1b6da"
            ],
            [
             0.4,
             "#fde0ef"
            ],
            [
             0.5,
             "#f7f7f7"
            ],
            [
             0.6,
             "#e6f5d0"
            ],
            [
             0.7,
             "#b8e186"
            ],
            [
             0.8,
             "#7fbc41"
            ],
            [
             0.9,
             "#4d9221"
            ],
            [
             1,
             "#276419"
            ]
           ],
           "sequential": [
            [
             0,
             "#0d0887"
            ],
            [
             0.1111111111111111,
             "#46039f"
            ],
            [
             0.2222222222222222,
             "#7201a8"
            ],
            [
             0.3333333333333333,
             "#9c179e"
            ],
            [
             0.4444444444444444,
             "#bd3786"
            ],
            [
             0.5555555555555556,
             "#d8576b"
            ],
            [
             0.6666666666666666,
             "#ed7953"
            ],
            [
             0.7777777777777778,
             "#fb9f3a"
            ],
            [
             0.8888888888888888,
             "#fdca26"
            ],
            [
             1,
             "#f0f921"
            ]
           ],
           "sequentialminus": [
            [
             0,
             "#0d0887"
            ],
            [
             0.1111111111111111,
             "#46039f"
            ],
            [
             0.2222222222222222,
             "#7201a8"
            ],
            [
             0.3333333333333333,
             "#9c179e"
            ],
            [
             0.4444444444444444,
             "#bd3786"
            ],
            [
             0.5555555555555556,
             "#d8576b"
            ],
            [
             0.6666666666666666,
             "#ed7953"
            ],
            [
             0.7777777777777778,
             "#fb9f3a"
            ],
            [
             0.8888888888888888,
             "#fdca26"
            ],
            [
             1,
             "#f0f921"
            ]
           ]
          },
          "colorway": [
           "#636efa",
           "#EF553B",
           "#00cc96",
           "#ab63fa",
           "#FFA15A",
           "#19d3f3",
           "#FF6692",
           "#B6E880",
           "#FF97FF",
           "#FECB52"
          ],
          "font": {
           "color": "#2a3f5f"
          },
          "geo": {
           "bgcolor": "white",
           "lakecolor": "white",
           "landcolor": "#E5ECF6",
           "showlakes": true,
           "showland": true,
           "subunitcolor": "white"
          },
          "hoverlabel": {
           "align": "left"
          },
          "hovermode": "closest",
          "mapbox": {
           "style": "light"
          },
          "paper_bgcolor": "white",
          "plot_bgcolor": "#E5ECF6",
          "polar": {
           "angularaxis": {
            "gridcolor": "white",
            "linecolor": "white",
            "ticks": ""
           },
           "bgcolor": "#E5ECF6",
           "radialaxis": {
            "gridcolor": "white",
            "linecolor": "white",
            "ticks": ""
           }
          },
          "scene": {
           "xaxis": {
            "backgroundcolor": "#E5ECF6",
            "gridcolor": "white",
            "gridwidth": 2,
            "linecolor": "white",
            "showbackground": true,
            "ticks": "",
            "zerolinecolor": "white"
           },
           "yaxis": {
            "backgroundcolor": "#E5ECF6",
            "gridcolor": "white",
            "gridwidth": 2,
            "linecolor": "white",
            "showbackground": true,
            "ticks": "",
            "zerolinecolor": "white"
           },
           "zaxis": {
            "backgroundcolor": "#E5ECF6",
            "gridcolor": "white",
            "gridwidth": 2,
            "linecolor": "white",
            "showbackground": true,
            "ticks": "",
            "zerolinecolor": "white"
           }
          },
          "shapedefaults": {
           "line": {
            "color": "#2a3f5f"
           }
          },
          "ternary": {
           "aaxis": {
            "gridcolor": "white",
            "linecolor": "white",
            "ticks": ""
           },
           "baxis": {
            "gridcolor": "white",
            "linecolor": "white",
            "ticks": ""
           },
           "bgcolor": "#E5ECF6",
           "caxis": {
            "gridcolor": "white",
            "linecolor": "white",
            "ticks": ""
           }
          },
          "title": {
           "x": 0.05
          },
          "xaxis": {
           "automargin": true,
           "gridcolor": "white",
           "linecolor": "white",
           "ticks": "",
           "title": {
            "standoff": 15
           },
           "zerolinecolor": "white",
           "zerolinewidth": 2
          },
          "yaxis": {
           "automargin": true,
           "gridcolor": "white",
           "linecolor": "white",
           "ticks": "",
           "title": {
            "standoff": 15
           },
           "zerolinecolor": "white",
           "zerolinewidth": 2
          }
         }
        },
        "title": {
         "text": "Missing Values (count & %)"
        }
       }
      },
      "text/html": [
       "<div>                            <div id=\"9694e4ec-6a46-4763-973d-9e81114930f9\" class=\"plotly-graph-div\" style=\"height:525px; width:100%;\"></div>            <script type=\"text/javascript\">                require([\"plotly\"], function(Plotly) {                    window.PLOTLYENV=window.PLOTLYENV || {};                                    if (document.getElementById(\"9694e4ec-6a46-4763-973d-9e81114930f9\")) {                    Plotly.newPlot(                        \"9694e4ec-6a46-4763-973d-9e81114930f9\",                        [{\"marker\": {\"color\": \"#7EC0EE\", \"line\": {\"color\": \"#000000\", \"width\": 1.5}}, \"opacity\": 0.8, \"text\": [0.0, 0.65, 4.56, 29.56, 48.7, 0.0, 0.0, 0.0, 0.0], \"textposition\": \"auto\", \"type\": \"bar\", \"x\": [\"Pregnancies\", \"Glucose\", \"BloodPressure\", \"SkinThickness\", \"Insulin\", \"BMI\", \"DiabetesPedigreeFunction\", \"Age\", \"Outcome\"], \"y\": [768, 763, 733, 541, 394, 768, 768, 768, 768]}],                        {\"template\": {\"data\": {\"bar\": [{\"error_x\": {\"color\": \"#2a3f5f\"}, \"error_y\": {\"color\": \"#2a3f5f\"}, \"marker\": {\"line\": {\"color\": \"#E5ECF6\", \"width\": 0.5}}, \"type\": \"bar\"}], \"barpolar\": [{\"marker\": {\"line\": {\"color\": \"#E5ECF6\", \"width\": 0.5}}, \"type\": \"barpolar\"}], \"carpet\": [{\"aaxis\": {\"endlinecolor\": \"#2a3f5f\", \"gridcolor\": \"white\", \"linecolor\": \"white\", \"minorgridcolor\": \"white\", \"startlinecolor\": \"#2a3f5f\"}, \"baxis\": {\"endlinecolor\": \"#2a3f5f\", \"gridcolor\": \"white\", \"linecolor\": \"white\", \"minorgridcolor\": \"white\", \"startlinecolor\": \"#2a3f5f\"}, \"type\": \"carpet\"}], \"choropleth\": [{\"colorbar\": {\"outlinewidth\": 0, \"ticks\": \"\"}, \"type\": \"choropleth\"}], \"contour\": [{\"colorbar\": {\"outlinewidth\": 0, \"ticks\": \"\"}, \"colorscale\": [[0.0, \"#0d0887\"], [0.1111111111111111, \"#46039f\"], [0.2222222222222222, \"#7201a8\"], [0.3333333333333333, \"#9c179e\"], [0.4444444444444444, \"#bd3786\"], [0.5555555555555556, \"#d8576b\"], [0.6666666666666666, \"#ed7953\"], [0.7777777777777778, \"#fb9f3a\"], [0.8888888888888888, \"#fdca26\"], [1.0, \"#f0f921\"]], \"type\": \"contour\"}], \"contourcarpet\": [{\"colorbar\": {\"outlinewidth\": 0, \"ticks\": \"\"}, \"type\": \"contourcarpet\"}], \"heatmap\": [{\"colorbar\": {\"outlinewidth\": 0, \"ticks\": \"\"}, \"colorscale\": [[0.0, \"#0d0887\"], [0.1111111111111111, \"#46039f\"], [0.2222222222222222, \"#7201a8\"], [0.3333333333333333, \"#9c179e\"], [0.4444444444444444, \"#bd3786\"], [0.5555555555555556, \"#d8576b\"], [0.6666666666666666, \"#ed7953\"], [0.7777777777777778, \"#fb9f3a\"], [0.8888888888888888, \"#fdca26\"], [1.0, \"#f0f921\"]], \"type\": \"heatmap\"}], \"heatmapgl\": [{\"colorbar\": {\"outlinewidth\": 0, \"ticks\": \"\"}, \"colorscale\": [[0.0, \"#0d0887\"], [0.1111111111111111, \"#46039f\"], [0.2222222222222222, \"#7201a8\"], [0.3333333333333333, \"#9c179e\"], [0.4444444444444444, \"#bd3786\"], [0.5555555555555556, \"#d8576b\"], [0.6666666666666666, \"#ed7953\"], [0.7777777777777778, \"#fb9f3a\"], [0.8888888888888888, \"#fdca26\"], [1.0, \"#f0f921\"]], \"type\": \"heatmapgl\"}], \"histogram\": [{\"marker\": {\"colorbar\": {\"outlinewidth\": 0, \"ticks\": \"\"}}, \"type\": \"histogram\"}], \"histogram2d\": [{\"colorbar\": {\"outlinewidth\": 0, \"ticks\": \"\"}, \"colorscale\": [[0.0, \"#0d0887\"], [0.1111111111111111, \"#46039f\"], [0.2222222222222222, \"#7201a8\"], [0.3333333333333333, \"#9c179e\"], [0.4444444444444444, \"#bd3786\"], [0.5555555555555556, \"#d8576b\"], [0.6666666666666666, \"#ed7953\"], [0.7777777777777778, \"#fb9f3a\"], [0.8888888888888888, \"#fdca26\"], [1.0, \"#f0f921\"]], \"type\": \"histogram2d\"}], \"histogram2dcontour\": [{\"colorbar\": {\"outlinewidth\": 0, \"ticks\": \"\"}, \"colorscale\": [[0.0, \"#0d0887\"], [0.1111111111111111, \"#46039f\"], [0.2222222222222222, \"#7201a8\"], [0.3333333333333333, \"#9c179e\"], [0.4444444444444444, \"#bd3786\"], [0.5555555555555556, \"#d8576b\"], [0.6666666666666666, \"#ed7953\"], [0.7777777777777778, \"#fb9f3a\"], [0.8888888888888888, \"#fdca26\"], [1.0, \"#f0f921\"]], \"type\": \"histogram2dcontour\"}], \"mesh3d\": [{\"colorbar\": {\"outlinewidth\": 0, \"ticks\": \"\"}, \"type\": \"mesh3d\"}], \"parcoords\": [{\"line\": {\"colorbar\": {\"outlinewidth\": 0, \"ticks\": \"\"}}, \"type\": \"parcoords\"}], \"pie\": [{\"automargin\": true, \"type\": \"pie\"}], \"scatter\": [{\"marker\": {\"colorbar\": {\"outlinewidth\": 0, \"ticks\": \"\"}}, \"type\": \"scatter\"}], \"scatter3d\": [{\"line\": {\"colorbar\": {\"outlinewidth\": 0, \"ticks\": \"\"}}, \"marker\": {\"colorbar\": {\"outlinewidth\": 0, \"ticks\": \"\"}}, \"type\": \"scatter3d\"}], \"scattercarpet\": [{\"marker\": {\"colorbar\": {\"outlinewidth\": 0, \"ticks\": \"\"}}, \"type\": \"scattercarpet\"}], \"scattergeo\": [{\"marker\": {\"colorbar\": {\"outlinewidth\": 0, \"ticks\": \"\"}}, \"type\": \"scattergeo\"}], \"scattergl\": [{\"marker\": {\"colorbar\": {\"outlinewidth\": 0, \"ticks\": \"\"}}, \"type\": \"scattergl\"}], \"scattermapbox\": [{\"marker\": {\"colorbar\": {\"outlinewidth\": 0, \"ticks\": \"\"}}, \"type\": \"scattermapbox\"}], \"scatterpolar\": [{\"marker\": {\"colorbar\": {\"outlinewidth\": 0, \"ticks\": \"\"}}, \"type\": \"scatterpolar\"}], \"scatterpolargl\": [{\"marker\": {\"colorbar\": {\"outlinewidth\": 0, \"ticks\": \"\"}}, \"type\": \"scatterpolargl\"}], \"scatterternary\": [{\"marker\": {\"colorbar\": {\"outlinewidth\": 0, \"ticks\": \"\"}}, \"type\": \"scatterternary\"}], \"surface\": [{\"colorbar\": {\"outlinewidth\": 0, \"ticks\": \"\"}, \"colorscale\": [[0.0, \"#0d0887\"], [0.1111111111111111, \"#46039f\"], [0.2222222222222222, \"#7201a8\"], [0.3333333333333333, \"#9c179e\"], [0.4444444444444444, \"#bd3786\"], [0.5555555555555556, \"#d8576b\"], [0.6666666666666666, \"#ed7953\"], [0.7777777777777778, \"#fb9f3a\"], [0.8888888888888888, \"#fdca26\"], [1.0, \"#f0f921\"]], \"type\": \"surface\"}], \"table\": [{\"cells\": {\"fill\": {\"color\": \"#EBF0F8\"}, \"line\": {\"color\": \"white\"}}, \"header\": {\"fill\": {\"color\": \"#C8D4E3\"}, \"line\": {\"color\": \"white\"}}, \"type\": \"table\"}]}, \"layout\": {\"annotationdefaults\": {\"arrowcolor\": \"#2a3f5f\", \"arrowhead\": 0, \"arrowwidth\": 1}, \"coloraxis\": {\"colorbar\": {\"outlinewidth\": 0, \"ticks\": \"\"}}, \"colorscale\": {\"diverging\": [[0, \"#8e0152\"], [0.1, \"#c51b7d\"], [0.2, \"#de77ae\"], [0.3, \"#f1b6da\"], [0.4, \"#fde0ef\"], [0.5, \"#f7f7f7\"], [0.6, \"#e6f5d0\"], [0.7, \"#b8e186\"], [0.8, \"#7fbc41\"], [0.9, \"#4d9221\"], [1, \"#276419\"]], \"sequential\": [[0.0, \"#0d0887\"], [0.1111111111111111, \"#46039f\"], [0.2222222222222222, \"#7201a8\"], [0.3333333333333333, \"#9c179e\"], [0.4444444444444444, \"#bd3786\"], [0.5555555555555556, \"#d8576b\"], [0.6666666666666666, \"#ed7953\"], [0.7777777777777778, \"#fb9f3a\"], [0.8888888888888888, \"#fdca26\"], [1.0, \"#f0f921\"]], \"sequentialminus\": [[0.0, \"#0d0887\"], [0.1111111111111111, \"#46039f\"], [0.2222222222222222, \"#7201a8\"], [0.3333333333333333, \"#9c179e\"], [0.4444444444444444, \"#bd3786\"], [0.5555555555555556, \"#d8576b\"], [0.6666666666666666, \"#ed7953\"], [0.7777777777777778, \"#fb9f3a\"], [0.8888888888888888, \"#fdca26\"], [1.0, \"#f0f921\"]]}, \"colorway\": [\"#636efa\", \"#EF553B\", \"#00cc96\", \"#ab63fa\", \"#FFA15A\", \"#19d3f3\", \"#FF6692\", \"#B6E880\", \"#FF97FF\", \"#FECB52\"], \"font\": {\"color\": \"#2a3f5f\"}, \"geo\": {\"bgcolor\": \"white\", \"lakecolor\": \"white\", \"landcolor\": \"#E5ECF6\", \"showlakes\": true, \"showland\": true, \"subunitcolor\": \"white\"}, \"hoverlabel\": {\"align\": \"left\"}, \"hovermode\": \"closest\", \"mapbox\": {\"style\": \"light\"}, \"paper_bgcolor\": \"white\", \"plot_bgcolor\": \"#E5ECF6\", \"polar\": {\"angularaxis\": {\"gridcolor\": \"white\", \"linecolor\": \"white\", \"ticks\": \"\"}, \"bgcolor\": \"#E5ECF6\", \"radialaxis\": {\"gridcolor\": \"white\", \"linecolor\": \"white\", \"ticks\": \"\"}}, \"scene\": {\"xaxis\": {\"backgroundcolor\": \"#E5ECF6\", \"gridcolor\": \"white\", \"gridwidth\": 2, \"linecolor\": \"white\", \"showbackground\": true, \"ticks\": \"\", \"zerolinecolor\": \"white\"}, \"yaxis\": {\"backgroundcolor\": \"#E5ECF6\", \"gridcolor\": \"white\", \"gridwidth\": 2, \"linecolor\": \"white\", \"showbackground\": true, \"ticks\": \"\", \"zerolinecolor\": \"white\"}, \"zaxis\": {\"backgroundcolor\": \"#E5ECF6\", \"gridcolor\": \"white\", \"gridwidth\": 2, \"linecolor\": \"white\", \"showbackground\": true, \"ticks\": \"\", \"zerolinecolor\": \"white\"}}, \"shapedefaults\": {\"line\": {\"color\": \"#2a3f5f\"}}, \"ternary\": {\"aaxis\": {\"gridcolor\": \"white\", \"linecolor\": \"white\", \"ticks\": \"\"}, \"baxis\": {\"gridcolor\": \"white\", \"linecolor\": \"white\", \"ticks\": \"\"}, \"bgcolor\": \"#E5ECF6\", \"caxis\": {\"gridcolor\": \"white\", \"linecolor\": \"white\", \"ticks\": \"\"}}, \"title\": {\"x\": 0.05}, \"xaxis\": {\"automargin\": true, \"gridcolor\": \"white\", \"linecolor\": \"white\", \"ticks\": \"\", \"title\": {\"standoff\": 15}, \"zerolinecolor\": \"white\", \"zerolinewidth\": 2}, \"yaxis\": {\"automargin\": true, \"gridcolor\": \"white\", \"linecolor\": \"white\", \"ticks\": \"\", \"title\": {\"standoff\": 15}, \"zerolinecolor\": \"white\", \"zerolinewidth\": 2}}}, \"title\": {\"text\": \"Missing Values (count & %)\"}},                        {\"responsive\": true}                    ).then(function(){\n",
       "                            \n",
       "var gd = document.getElementById('9694e4ec-6a46-4763-973d-9e81114930f9');\n",
       "var x = new MutationObserver(function (mutations, observer) {{\n",
       "        var display = window.getComputedStyle(gd).display;\n",
       "        if (!display || display === 'none') {{\n",
       "            console.log([gd, 'removed!']);\n",
       "            Plotly.purge(gd);\n",
       "            observer.disconnect();\n",
       "        }}\n",
       "}});\n",
       "\n",
       "// Listen for the removal of the full notebook cells\n",
       "var notebookContainer = gd.closest('#notebook-container');\n",
       "if (notebookContainer) {{\n",
       "    x.observe(notebookContainer, {childList: true});\n",
       "}}\n",
       "\n",
       "// Listen for the clearing of the current output cell\n",
       "var outputEl = gd.closest('.output');\n",
       "if (outputEl) {{\n",
       "    x.observe(outputEl, {childList: true});\n",
       "}}\n",
       "\n",
       "                        })                };                });            </script>        </div>"
      ]
     },
     "metadata": {},
     "output_type": "display_data"
    }
   ],
   "source": [
    "missing_plot(diabetes_df,'Outcome')"
   ]
  },
  {
   "cell_type": "code",
   "execution_count": 17,
   "metadata": {},
   "outputs": [
    {
     "data": {
      "text/plain": [
       "array([[<matplotlib.axes._subplots.AxesSubplot object at 0x7fe96f63aa50>,\n",
       "        <matplotlib.axes._subplots.AxesSubplot object at 0x7fe96d086b10>,\n",
       "        <matplotlib.axes._subplots.AxesSubplot object at 0x7fe96cc4fe10>],\n",
       "       [<matplotlib.axes._subplots.AxesSubplot object at 0x7fe96c511a90>,\n",
       "        <matplotlib.axes._subplots.AxesSubplot object at 0x7fe96c62fe10>,\n",
       "        <matplotlib.axes._subplots.AxesSubplot object at 0x7fe96c5dcad0>],\n",
       "       [<matplotlib.axes._subplots.AxesSubplot object at 0x7fe96cdfa110>,\n",
       "        <matplotlib.axes._subplots.AxesSubplot object at 0x7fe96ce10b10>,\n",
       "        <matplotlib.axes._subplots.AxesSubplot object at 0x7fe96ca77690>]],\n",
       "      dtype=object)"
      ]
     },
     "execution_count": 17,
     "metadata": {},
     "output_type": "execute_result"
    },
    {
     "data": {
      "image/png": "[encoded data removed]",
      "text/plain": [
       "<Figure size 1080x1080 with 9 Axes>"
      ]
     },
     "metadata": {
      "needs_background": "light"
     },
     "output_type": "display_data"
    }
   ],
   "source": [
    "diabetes_df.hist(figsize=(15,15))"
   ]
  },
  {
   "cell_type": "markdown",
   "metadata": {},
   "source": [
    "Now,Lets fill the null values with the median."
   ]
  },
  {
   "cell_type": "code",
   "execution_count": 18,
   "metadata": {},
   "outputs": [],
   "source": [
    "diabetes_df['Glucose'].fillna(diabetes_df['Glucose'].median(), inplace = True)\n",
    "diabetes_df['BloodPressure'].fillna(diabetes_df['BloodPressure'].mean(), inplace = True)\n",
    "diabetes_df['SkinThickness'].fillna(diabetes_df['SkinThickness'].mean(), inplace = True)\n",
    "diabetes_df['Insulin'].fillna(diabetes_df['Insulin'].median(), inplace = True)\n",
    "diabetes_df['BMI'].fillna(diabetes_df['BMI'].median(), inplace = True)"
   ]
  },
  {
   "cell_type": "code",
   "execution_count": 19,
   "metadata": {},
   "outputs": [
    {
     "data": {
      "text/html": [
       "<div>\n",
       "<style scoped>\n",
       "    .dataframe tbody tr th:only-of-type {\n",
       "        vertical-align: middle;\n",
       "    }\n",
       "\n",
       "    .dataframe tbody tr th {\n",
       "        vertical-align: top;\n",
       "    }\n",
       "\n",
       "    .dataframe thead th {\n",
       "        text-align: right;\n",
       "    }\n",
       "</style>\n",
       "<table border=\"1\" class=\"dataframe\">\n",
       "  <thead>\n",
       "    <tr style=\"text-align: right;\">\n",
       "      <th></th>\n",
       "      <th>count</th>\n",
       "      <th>mean</th>\n",
       "      <th>std</th>\n",
       "      <th>min</th>\n",
       "      <th>25%</th>\n",
       "      <th>50%</th>\n",
       "      <th>75%</th>\n",
       "      <th>max</th>\n",
       "    </tr>\n",
       "  </thead>\n",
       "  <tbody>\n",
       "    <tr>\n",
       "      <th>Pregnancies</th>\n",
       "      <td>768.0</td>\n",
       "      <td>3.845052</td>\n",
       "      <td>3.369578</td>\n",
       "      <td>0.0</td>\n",
       "      <td>1.00</td>\n",
       "      <td>3.000000</td>\n",
       "      <td>6.00</td>\n",
       "      <td>17.0</td>\n",
       "    </tr>\n",
       "    <tr>\n",
       "      <th>Glucose</th>\n",
       "      <td>768.0</td>\n",
       "      <td>121.656250</td>\n",
       "      <td>30.438286</td>\n",
       "      <td>44.0</td>\n",
       "      <td>99.75</td>\n",
       "      <td>117.000000</td>\n",
       "      <td>140.25</td>\n",
       "      <td>199.0</td>\n",
       "    </tr>\n",
       "    <tr>\n",
       "      <th>BloodPressure</th>\n",
       "      <td>768.0</td>\n",
       "      <td>72.405184</td>\n",
       "      <td>12.096346</td>\n",
       "      <td>24.0</td>\n",
       "      <td>64.00</td>\n",
       "      <td>72.202592</td>\n",
       "      <td>80.00</td>\n",
       "      <td>122.0</td>\n",
       "    </tr>\n",
       "    <tr>\n",
       "      <th>SkinThickness</th>\n",
       "      <td>768.0</td>\n",
       "      <td>29.153420</td>\n",
       "      <td>8.790942</td>\n",
       "      <td>7.0</td>\n",
       "      <td>25.00</td>\n",
       "      <td>29.153420</td>\n",
       "      <td>32.00</td>\n",
       "      <td>99.0</td>\n",
       "    </tr>\n",
       "    <tr>\n",
       "      <th>Insulin</th>\n",
       "      <td>768.0</td>\n",
       "      <td>140.671875</td>\n",
       "      <td>86.383060</td>\n",
       "      <td>14.0</td>\n",
       "      <td>121.50</td>\n",
       "      <td>125.000000</td>\n",
       "      <td>127.25</td>\n",
       "      <td>846.0</td>\n",
       "    </tr>\n",
       "    <tr>\n",
       "      <th>Age</th>\n",
       "      <td>768.0</td>\n",
       "      <td>33.240885</td>\n",
       "      <td>11.760232</td>\n",
       "      <td>21.0</td>\n",
       "      <td>24.00</td>\n",
       "      <td>29.000000</td>\n",
       "      <td>41.00</td>\n",
       "      <td>81.0</td>\n",
       "    </tr>\n",
       "    <tr>\n",
       "      <th>Outcome</th>\n",
       "      <td>768.0</td>\n",
       "      <td>0.348958</td>\n",
       "      <td>0.476951</td>\n",
       "      <td>0.0</td>\n",
       "      <td>0.00</td>\n",
       "      <td>0.000000</td>\n",
       "      <td>1.00</td>\n",
       "      <td>1.0</td>\n",
       "    </tr>\n",
       "  </tbody>\n",
       "</table>\n",
       "</div>"
      ],
      "text/plain": [
       "               count        mean        std   min     25%         50%     75%  \\\n",
       "Pregnancies    768.0    3.845052   3.369578   0.0    1.00    3.000000    6.00   \n",
       "Glucose        768.0  121.656250  30.438286  44.0   99.75  117.000000  140.25   \n",
       "BloodPressure  768.0   72.405184  12.096346  24.0   64.00   72.202592   80.00   \n",
       "SkinThickness  768.0   29.153420   8.790942   7.0   25.00   29.153420   32.00   \n",
       "Insulin        768.0  140.671875  86.383060  14.0  121.50  125.000000  127.25   \n",
       "Age            768.0   33.240885  11.760232  21.0   24.00   29.000000   41.00   \n",
       "Outcome        768.0    0.348958   0.476951   0.0    0.00    0.000000    1.00   \n",
       "\n",
       "                 max  \n",
       "Pregnancies     17.0  \n",
       "Glucose        199.0  \n",
       "BloodPressure  122.0  \n",
       "SkinThickness   99.0  \n",
       "Insulin        846.0  \n",
       "Age             81.0  \n",
       "Outcome          1.0  "
      ]
     },
     "execution_count": 19,
     "metadata": {},
     "output_type": "execute_result"
    }
   ],
   "source": [
    "diabetes_df.describe().T"
   ]
  },
  {
   "cell_type": "code",
   "execution_count": 20,
   "metadata": {},
   "outputs": [
    {
     "data": {
      "text/plain": [
       "Pregnancies                 0\n",
       "Glucose                     0\n",
       "BloodPressure               0\n",
       "SkinThickness               0\n",
       "Insulin                     0\n",
       "BMI                         0\n",
       "DiabetesPedigreeFunction    0\n",
       "Age                         0\n",
       "Outcome                     0\n",
       "dtype: int64"
      ]
     },
     "metadata": {},
     "output_type": "display_data"
    }
   ],
   "source": [
    "\n",
    "display(diabetes_df.isnull().sum())"
   ]
  },
  {
   "cell_type": "markdown",
   "metadata": {},
   "source": [
    "Now all the null values are replaced .We can procced with feature Engineering"
   ]
  },
  {
   "cell_type": "code",
   "execution_count": 21,
   "metadata": {},
   "outputs": [
    {
     "name": "stdout",
     "output_type": "stream",
     "text": [
      "0    500\n",
      "1    268\n",
      "Name: Outcome, dtype: int64\n"
     ]
    },
    {
     "data": {
      "text/plain": [
       "<matplotlib.axes._subplots.AxesSubplot at 0x7fe96d610dd0>"
      ]
     },
     "execution_count": 21,
     "metadata": {},
     "output_type": "execute_result"
    },
    {
     "data": {
      "image/png": "[encoded data removed]",
      "text/plain": [
       "<Figure size 432x288 with 1 Axes>"
      ]
     },
     "metadata": {
      "needs_background": "light"
     },
     "output_type": "display_data"
    }
   ],
   "source": [
    "print(diabetes_df['Outcome'].value_counts())\n",
    "sns.countplot(diabetes_df['Outcome'])"
   ]
  },
  {
   "cell_type": "code",
   "execution_count": 22,
   "metadata": {},
   "outputs": [
    {
     "data": {
      "text/plain": [
       "<seaborn.axisgrid.FacetGrid at 0x7fe96c6d2e10>"
      ]
     },
     "execution_count": 22,
     "metadata": {},
     "output_type": "execute_result"
    },
    {
     "data": {
      "image/png": "[encoded data removed]",
      "text/plain": [
       "<Figure size 917.25x216 with 1 Axes>"
      ]
     },
     "metadata": {
      "needs_background": "light"
     },
     "output_type": "display_data"
    }
   ],
   "source": [
    "# Another way to visualize the data is to use FacetGrid to plot multiple kedplots on one plot\n",
    "\n",
    "fig = sns.FacetGrid(diabetes_df, hue=\"Outcome\", aspect=4)\n",
    "fig.map(sns.kdeplot, 'Age', shade=True)\n",
    "oldest = diabetes_df['Age'].max()\n",
    "fig.set(xlim=(0, oldest))\n",
    "fig.add_legend()"
   ]
  },
  {
   "cell_type": "code",
   "execution_count": 23,
   "metadata": {},
   "outputs": [
    {
     "data": {
      "text/plain": [
       "<matplotlib.axes._subplots.AxesSubplot at 0x7fe96c570750>"
      ]
     },
     "execution_count": 23,
     "metadata": {},
     "output_type": "execute_result"
    },
    {
     "data": {
      "image/png": "[encoded data removed]",
      "text/plain": [
       "<Figure size 1080x1080 with 2 Axes>"
      ]
     },
     "metadata": {
      "needs_background": "light"
     },
     "output_type": "display_data"
    }
   ],
   "source": [
    "plt.figure(figsize=(15,15))\n",
    "sns.heatmap(diabetes_df.corr(),annot=True)\n"
   ]
  },
  {
   "cell_type": "code",
   "execution_count": 24,
   "metadata": {},
   "outputs": [
    {
     "data": {
      "image/png": "[encoded data removed]",
      "text/plain": [
       "<Figure size 1152x864 with 2 Axes>"
      ]
     },
     "metadata": {
      "needs_background": "light"
     },
     "output_type": "display_data"
    }
   ],
   "source": [
    "plt.figure(figsize=(16,12))\n",
    "sns.heatmap(data=diabetes_df.iloc[:,2:].corr(),annot=True,fmt='.2f',cmap='coolwarm')\n",
    "plt.show()"
   ]
  },
  {
   "cell_type": "markdown",
   "metadata": {},
   "source": [
    "We find 3 pairs which were having good correlations."
   ]
  },
  {
   "cell_type": "code",
   "execution_count": 25,
   "metadata": {},
   "outputs": [],
   "source": [
    "def plot_feat1_feat2(feat1, feat2) :  \n",
    "    D = diabetes_df[(diabetes_df['Outcome'] != 0)]\n",
    "    H = diabetes_df[(diabetes_df['Outcome'] == 0)]\n",
    "    trace0 = go.Scatter(\n",
    "        x = D[feat1],\n",
    "        y = D[feat2],\n",
    "        name = 'diabetic',\n",
    "        mode = 'markers', \n",
    "        opacity=0.8,\n",
    "        marker = dict(color = 'lightskyblue',\n",
    "            line = dict(\n",
    "                width = 1)))\n",
    "\n",
    "    trace1 = go.Scatter(\n",
    "        x = H[feat1],\n",
    "        y = H[feat2],\n",
    "        name = 'healthy',\n",
    "        opacity=0.8,\n",
    "        mode = 'markers',\n",
    "        marker = dict(color = 'indigo',\n",
    "            line = dict(\n",
    "                width = 1)))\n",
    "\n",
    "    layout = dict(title = feat1 +\" \"+\"vs\"+\" \"+ feat2,\n",
    "                  yaxis = dict(title = feat2,zeroline = False),\n",
    "                  xaxis = dict(title = feat1, zeroline = False)\n",
    "                 )\n",
    "\n",
    "    plots = [trace0, trace1]\n",
    "\n",
    "    fig = dict(data = plots, layout=layout)\n",
    "    py.iplot(fig)"
   ]
  },
  {
   "cell_type": "code",
   "execution_count": 26,
   "metadata": {},
   "outputs": [
    {
     "data": {
      "application/vnd.plotly.v1+json": {
       "config": {
        "linkText": "Export to plot.ly",
        "plotlyServerURL": "https://plot.ly",
        "showLink": false
       },
       "data": [
        {
         "marker": {
          "color": "lightskyblue",
          "line": {
           "width": 1
          }
         },
         "mode": "markers",
         "name": "diabetic",
         "opacity": 0.8,
         "type": "scatter",
         "x": [
          6,
          8,
          0,
          3,
          2,
          8,
          10,
          1,
          5,
          7,
          0,
          7,
          1,
          7,
          9,
          11,
          10,
          7,
          3,
          9,
          2,
          4,
          9,
          0,
          7,
          8,
          7,
          8,
          7,
          0,
          2,
          13,
          0,
          5,
          15,
          4,
          1,
          1,
          0,
          3,
          8,
          7,
          4,
          5,
          0,
          0,
          1,
          1,
          0,
          4,
          9,
          3,
          10,
          9,
          8,
          7,
          17,
          0,
          6,
          6,
          6,
          8,
          0,
          5,
          7,
          8,
          1,
          8,
          5,
          7,
          11,
          5,
          3,
          4,
          4,
          8,
          5,
          7,
          0,
          9,
          12,
          5,
          5,
          5,
          0,
          2,
          3,
          4,
          6,
          4,
          7,
          0,
          9,
          3,
          6,
          9,
          12,
          1,
          11,
          3,
          4,
          0,
          2,
          10,
          7,
          0,
          7,
          2,
          1,
          0,
          2,
          1,
          2,
          14,
          0,
          2,
          5,
          10,
          0,
          2,
          2,
          7,
          3,
          6,
          3,
          0,
          13,
          1,
          2,
          1,
          5,
          9,
          7,
          5,
          9,
          1,
          13,
          1,
          5,
          4,
          6,
          1,
          3,
          12,
          4,
          5,
          8,
          5,
          5,
          4,
          0,
          3,
          4,
          5,
          5,
          4,
          8,
          1,
          0,
          3,
          4,
          3,
          8,
          4,
          1,
          1,
          0,
          0,
          8,
          4,
          0,
          0,
          2,
          14,
          10,
          8,
          2,
          3,
          0,
          0,
          4,
          7,
          6,
          0,
          12,
          3,
          9,
          9,
          4,
          3,
          8,
          3,
          10,
          8,
          5,
          6,
          0,
          0,
          2,
          2,
          0,
          8,
          8,
          3,
          11,
          3,
          0,
          1,
          7,
          4,
          1,
          3,
          7,
          11,
          9,
          0,
          7,
          13,
          7,
          6,
          1,
          0,
          11,
          2,
          3,
          1,
          8,
          9,
          6,
          4,
          10,
          6,
          9,
          3,
          0,
          4,
          1,
          13,
          7,
          7,
          3,
          6,
          1,
          10,
          9,
          2,
          10,
          7,
          3,
          5,
          1,
          3,
          8,
          2,
          1,
          11,
          9,
          1,
          3,
          6,
          4,
          0,
          8,
          1,
          0,
          6,
          9,
          1
         ],
         "y": [
          50,
          32,
          33,
          26,
          53,
          54,
          34,
          59,
          51,
          32,
          31,
          31,
          32,
          41,
          29,
          51,
          41,
          43,
          28,
          46,
          27,
          56,
          54,
          25,
          31,
          58,
          41,
          39,
          42,
          38,
          28,
          42,
          26,
          37,
          43,
          60,
          31,
          33,
          24,
          24,
          46,
          39,
          61,
          38,
          25,
          23,
          26,
          40,
          62,
          33,
          33,
          30,
          42,
          42,
          43,
          36,
          47,
          32,
          41,
          36,
          29,
          36,
          26,
          37,
          41,
          60,
          33,
          31,
          25,
          36,
          40,
          29,
          23,
          26,
          29,
          57,
          52,
          41,
          24,
          36,
          38,
          25,
          32,
          41,
          21,
          66,
          24,
          22,
          46,
          26,
          51,
          23,
          32,
          22,
          33,
          49,
          44,
          21,
          51,
          27,
          35,
          25,
          28,
          38,
          29,
          28,
          47,
          52,
          29,
          25,
          31,
          24,
          29,
          46,
          30,
          25,
          28,
          47,
          25,
          30,
          27,
          43,
          29,
          59,
          25,
          36,
          43,
          30,
          23,
          41,
          44,
          33,
          41,
          37,
          49,
          28,
          44,
          29,
          29,
          67,
          29,
          45,
          25,
          58,
          32,
          35,
          45,
          58,
          27,
          31,
          22,
          25,
          31,
          35,
          41,
          46,
          39,
          28,
          21,
          22,
          37,
          28,
          36,
          31,
          38,
          43,
          29,
          41,
          33,
          30,
          25,
          22,
          23,
          38,
          51,
          38,
          29,
          35,
          31,
          24,
          45,
          55,
          41,
          35,
          46,
          28,
          53,
          45,
          23,
          32,
          43,
          27,
          56,
          37,
          53,
          54,
          28,
          33,
          21,
          62,
          21,
          52,
          41,
          52,
          45,
          44,
          22,
          38,
          54,
          36,
          22,
          36,
          40,
          50,
          50,
          24,
          34,
          38,
          32,
          50,
          33,
          22,
          42,
          25,
          27,
          22,
          43,
          40,
          40,
          70,
          40,
          31,
          53,
          25,
          26,
          27,
          46,
          44,
          43,
          43,
          31,
          49,
          52,
          30,
          45,
          23,
          38,
          34,
          31,
          52,
          42,
          34,
          22,
          24,
          42,
          48,
          45,
          27,
          36,
          50,
          22,
          26,
          45,
          37,
          52,
          66,
          43,
          47
         ]
        },
        {
         "marker": {
          "color": "indigo",
          "line": {
           "width": 1
          }
         },
         "mode": "markers",
         "name": "healthy",
         "opacity": 0.8,
         "type": "scatter",
         "x": [
          1,
          1,
          5,
          10,
          4,
          10,
          1,
          3,
          8,
          1,
          13,
          5,
          5,
          3,
          6,
          10,
          4,
          11,
          3,
          7,
          7,
          7,
          1,
          2,
          7,
          1,
          1,
          5,
          7,
          1,
          0,
          0,
          0,
          2,
          5,
          2,
          5,
          2,
          1,
          4,
          5,
          4,
          1,
          1,
          7,
          5,
          2,
          3,
          2,
          7,
          0,
          2,
          13,
          2,
          1,
          1,
          4,
          7,
          2,
          6,
          2,
          1,
          6,
          1,
          0,
          1,
          2,
          1,
          1,
          4,
          3,
          1,
          4,
          5,
          4,
          4,
          6,
          2,
          5,
          3,
          1,
          8,
          2,
          2,
          0,
          0,
          0,
          5,
          3,
          5,
          2,
          4,
          0,
          9,
          2,
          5,
          2,
          1,
          4,
          1,
          2,
          1,
          2,
          4,
          7,
          0,
          2,
          3,
          4,
          4,
          3,
          2,
          1,
          2,
          6,
          5,
          6,
          0,
          1,
          5,
          4,
          3,
          9,
          8,
          1,
          0,
          1,
          0,
          2,
          6,
          5,
          1,
          2,
          0,
          7,
          6,
          7,
          7,
          1,
          1,
          0,
          4,
          0,
          1,
          4,
          3,
          0,
          1,
          4,
          2,
          10,
          0,
          9,
          1,
          9,
          2,
          2,
          0,
          3,
          2,
          1,
          3,
          4,
          3,
          5,
          2,
          0,
          2,
          3,
          1,
          13,
          2,
          0,
          5,
          2,
          10,
          7,
          7,
          5,
          4,
          5,
          0,
          0,
          6,
          0,
          8,
          5,
          3,
          2,
          0,
          6,
          0,
          3,
          2,
          3,
          3,
          4,
          2,
          1,
          10,
          6,
          8,
          2,
          12,
          1,
          0,
          0,
          1,
          1,
          1,
          5,
          8,
          8,
          1,
          3,
          3,
          4,
          4,
          3,
          1,
          3,
          12,
          5,
          5,
          4,
          5,
          0,
          3,
          0,
          0,
          2,
          2,
          0,
          1,
          0,
          1,
          0,
          1,
          1,
          1,
          1,
          3,
          1,
          1,
          4,
          2,
          3,
          3,
          6,
          9,
          2,
          0,
          6,
          1,
          1,
          1,
          1,
          1,
          1,
          2,
          0,
          2,
          0,
          0,
          2,
          3,
          1,
          2,
          1,
          12,
          5,
          1,
          6,
          2,
          4,
          1,
          0,
          0,
          1,
          0,
          2,
          2,
          1,
          5,
          9,
          9,
          1,
          8,
          5,
          10,
          0,
          0,
          0,
          6,
          1,
          0,
          0,
          7,
          4,
          0,
          7,
          8,
          4,
          0,
          4,
          0,
          1,
          0,
          4,
          8,
          2,
          2,
          4,
          3,
          6,
          5,
          2,
          6,
          2,
          3,
          7,
          3,
          10,
          1,
          2,
          8,
          0,
          9,
          2,
          3,
          7,
          13,
          6,
          2,
          3,
          6,
          3,
          3,
          1,
          3,
          0,
          0,
          2,
          0,
          1,
          6,
          1,
          0,
          0,
          0,
          4,
          1,
          4,
          1,
          4,
          1,
          3,
          6,
          1,
          1,
          7,
          1,
          8,
          11,
          11,
          1,
          6,
          0,
          2,
          1,
          6,
          4,
          3,
          2,
          3,
          2,
          1,
          1,
          6,
          10,
          6,
          12,
          8,
          1,
          6,
          0,
          2,
          2,
          6,
          0,
          1,
          1,
          1,
          6,
          1,
          1,
          1,
          0,
          1,
          3,
          6,
          3,
          6,
          2,
          2,
          2,
          6,
          0,
          2,
          4,
          0,
          0,
          5,
          4,
          0,
          2,
          1,
          10,
          5,
          2,
          1,
          0,
          4,
          4,
          3,
          2,
          0,
          1,
          1,
          5,
          2,
          1,
          2,
          1,
          11,
          10,
          1,
          6,
          9,
          6,
          1,
          10,
          3,
          8,
          0,
          2,
          2,
          0,
          5,
          2,
          3,
          1,
          1,
          8,
          2,
          2,
          0,
          4,
          4,
          2,
          2,
          4,
          6,
          2,
          3,
          5,
          0,
          3,
          10,
          1,
          4,
          1,
          5,
          1,
          4,
          1,
          0,
          2,
          2,
          2,
          2,
          4,
          0,
          8,
          2,
          3,
          1,
          13,
          12,
          1,
          1,
          3,
          7,
          1,
          2,
          9,
          10,
          2,
          5,
          1
         ],
         "y": [
          31,
          21,
          30,
          29,
          30,
          57,
          33,
          27,
          50,
          22,
          57,
          38,
          60,
          22,
          28,
          45,
          33,
          35,
          26,
          37,
          48,
          40,
          29,
          22,
          24,
          22,
          26,
          30,
          42,
          21,
          31,
          44,
          22,
          21,
          36,
          24,
          32,
          54,
          25,
          27,
          26,
          23,
          22,
          22,
          41,
          27,
          24,
          22,
          22,
          36,
          22,
          27,
          45,
          26,
          24,
          21,
          34,
          42,
          21,
          40,
          24,
          22,
          23,
          22,
          21,
          24,
          27,
          21,
          27,
          37,
          25,
          23,
          25,
          25,
          22,
          21,
          24,
          23,
          69,
          30,
          23,
          39,
          26,
          31,
          21,
          22,
          29,
          28,
          55,
          38,
          22,
          23,
          21,
          41,
          34,
          65,
          22,
          24,
          37,
          23,
          21,
          23,
          22,
          36,
          45,
          27,
          21,
          22,
          34,
          29,
          29,
          25,
          23,
          33,
          42,
          47,
          32,
          23,
          21,
          27,
          40,
          21,
          40,
          42,
          21,
          21,
          28,
          32,
          27,
          55,
          27,
          21,
          25,
          24,
          60,
          32,
          37,
          61,
          26,
          22,
          26,
          31,
          24,
          22,
          29,
          23,
          27,
          21,
          22,
          29,
          41,
          23,
          34,
          23,
          42,
          27,
          24,
          25,
          30,
          25,
          24,
          34,
          24,
          63,
          43,
          24,
          21,
          21,
          40,
          21,
          52,
          25,
          23,
          57,
          22,
          39,
          37,
          51,
          34,
          26,
          33,
          21,
          65,
          28,
          24,
          58,
          35,
          37,
          29,
          21,
          41,
          22,
          25,
          26,
          30,
          28,
          31,
          21,
          24,
          37,
          37,
          46,
          25,
          44,
          22,
          26,
          44,
          22,
          36,
          22,
          33,
          57,
          49,
          22,
          23,
          26,
          29,
          30,
          46,
          24,
          21,
          48,
          63,
          65,
          30,
          30,
          21,
          22,
          21,
          21,
          25,
          28,
          22,
          22,
          35,
          24,
          22,
          21,
          25,
          25,
          24,
          28,
          42,
          21,
          37,
          25,
          39,
          25,
          55,
          38,
          26,
          25,
          28,
          25,
          22,
          21,
          22,
          27,
          26,
          21,
          21,
          21,
          25,
          26,
          23,
          38,
          22,
          29,
          36,
          41,
          28,
          21,
          31,
          22,
          24,
          28,
          26,
          26,
          23,
          25,
          72,
          24,
          62,
          24,
          81,
          48,
          26,
          39,
          37,
          34,
          21,
          22,
          25,
          27,
          28,
          22,
          22,
          50,
          24,
          59,
          31,
          39,
          63,
          29,
          28,
          23,
          21,
          58,
          28,
          67,
          24,
          42,
          33,
          22,
          66,
          30,
          25,
          39,
          21,
          28,
          41,
          40,
          38,
          21,
          21,
          64,
          21,
          58,
          22,
          24,
          51,
          41,
          60,
          25,
          26,
          26,
          24,
          21,
          21,
          24,
          22,
          31,
          22,
          24,
          29,
          31,
          24,
          46,
          67,
          23,
          25,
          29,
          28,
          50,
          37,
          21,
          25,
          66,
          23,
          28,
          37,
          30,
          58,
          42,
          35,
          24,
          32,
          27,
          22,
          21,
          46,
          37,
          39,
          21,
          22,
          22,
          23,
          25,
          35,
          36,
          27,
          62,
          42,
          22,
          29,
          25,
          24,
          25,
          34,
          46,
          21,
          26,
          24,
          28,
          30,
          21,
          25,
          27,
          23,
          24,
          26,
          27,
          30,
          23,
          28,
          28,
          45,
          21,
          21,
          29,
          21,
          21,
          45,
          21,
          24,
          23,
          22,
          31,
          48,
          23,
          28,
          27,
          24,
          31,
          27,
          30,
          23,
          23,
          27,
          28,
          27,
          22,
          22,
          41,
          51,
          54,
          24,
          43,
          45,
          49,
          21,
          47,
          22,
          68,
          25,
          23,
          22,
          22,
          69,
          25,
          22,
          29,
          23,
          34,
          23,
          25,
          22,
          28,
          26,
          26,
          41,
          27,
          28,
          22,
          24,
          40,
          21,
          32,
          56,
          24,
          34,
          21,
          42,
          45,
          38,
          25,
          22,
          22,
          22,
          22,
          53,
          28,
          21,
          42,
          21,
          26,
          22,
          39,
          46,
          32,
          28,
          25,
          39,
          26,
          22,
          33,
          63,
          27,
          30,
          23
         ]
        }
       ],
       "layout": {
        "template": {
         "data": {
          "bar": [
           {
            "error_x": {
             "color": "#2a3f5f"
            },
            "error_y": {
             "color": "#2a3f5f"
            },
            "marker": {
             "line": {
              "color": "#E5ECF6",
              "width": 0.5
             }
            },
            "type": "bar"
           }
          ],
          "barpolar": [
           {
            "marker": {
             "line": {
              "color": "#E5ECF6",
              "width": 0.5
             }
            },
            "type": "barpolar"
           }
          ],
          "carpet": [
           {
            "aaxis": {
             "endlinecolor": "#2a3f5f",
             "gridcolor": "white",
             "linecolor": "white",
             "minorgridcolor": "white",
             "startlinecolor": "#2a3f5f"
            },
            "baxis": {
             "endlinecolor": "#2a3f5f",
             "gridcolor": "white",
             "linecolor": "white",
             "minorgridcolor": "white",
             "startlinecolor": "#2a3f5f"
            },
            "type": "carpet"
           }
          ],
          "choropleth": [
           {
            "colorbar": {
             "outlinewidth": 0,
             "ticks": ""
            },
            "type": "choropleth"
           }
          ],
          "contour": [
           {
            "colorbar": {
             "outlinewidth": 0,
             "ticks": ""
            },
            "colorscale": [
             [
              0,
              "#0d0887"
             ],
             [
              0.1111111111111111,
              "#46039f"
             ],
             [
              0.2222222222222222,
              "#7201a8"
             ],
             [
              0.3333333333333333,
              "#9c179e"
             ],
             [
              0.4444444444444444,
              "#bd3786"
             ],
             [
              0.5555555555555556,
              "#d8576b"
             ],
             [
              0.6666666666666666,
              "#ed7953"
             ],
             [
              0.7777777777777778,
              "#fb9f3a"
             ],
             [
              0.8888888888888888,
              "#fdca26"
             ],
             [
              1,
              "#f0f921"
             ]
            ],
            "type": "contour"
           }
          ],
          "contourcarpet": [
           {
            "colorbar": {
             "outlinewidth": 0,
             "ticks": ""
            },
            "type": "contourcarpet"
           }
          ],
          "heatmap": [
           {
            "colorbar": {
             "outlinewidth": 0,
             "ticks": ""
            },
            "colorscale": [
             [
              0,
              "#0d0887"
             ],
             [
              0.1111111111111111,
              "#46039f"
             ],
             [
              0.2222222222222222,
              "#7201a8"
             ],
             [
              0.3333333333333333,
              "#9c179e"
             ],
             [
              0.4444444444444444,
              "#bd3786"
             ],
             [
              0.5555555555555556,
              "#d8576b"
             ],
             [
              0.6666666666666666,
              "#ed7953"
             ],
             [
              0.7777777777777778,
              "#fb9f3a"
             ],
             [
              0.8888888888888888,
              "#fdca26"
             ],
             [
              1,
              "#f0f921"
             ]
            ],
            "type": "heatmap"
           }
          ],
          "heatmapgl": [
           {
            "colorbar": {
             "outlinewidth": 0,
             "ticks": ""
            },
            "colorscale": [
             [
              0,
              "#0d0887"
             ],
             [
              0.1111111111111111,
              "#46039f"
             ],
             [
              0.2222222222222222,
              "#7201a8"
             ],
             [
              0.3333333333333333,
              "#9c179e"
             ],
             [
              0.4444444444444444,
              "#bd3786"
             ],
             [
              0.5555555555555556,
              "#d8576b"
             ],
             [
              0.6666666666666666,
              "#ed7953"
             ],
             [
              0.7777777777777778,
              "#fb9f3a"
             ],
             [
              0.8888888888888888,
              "#fdca26"
             ],
             [
              1,
              "#f0f921"
             ]
            ],
            "type": "heatmapgl"
           }
          ],
          "histogram": [
           {
            "marker": {
             "colorbar": {
              "outlinewidth": 0,
              "ticks": ""
             }
            },
            "type": "histogram"
           }
          ],
          "histogram2d": [
           {
            "colorbar": {
             "outlinewidth": 0,
             "ticks": ""
            },
            "colorscale": [
             [
              0,
              "#0d0887"
             ],
             [
              0.1111111111111111,
              "#46039f"
             ],
             [
              0.2222222222222222,
              "#7201a8"
             ],
             [
              0.3333333333333333,
              "#9c179e"
             ],
             [
              0.4444444444444444,
              "#bd3786"
             ],
             [
              0.5555555555555556,
              "#d8576b"
             ],
             [
              0.6666666666666666,
              "#ed7953"
             ],
             [
              0.7777777777777778,
              "#fb9f3a"
             ],
             [
              0.8888888888888888,
              "#fdca26"
             ],
             [
              1,
              "#f0f921"
             ]
            ],
            "type": "histogram2d"
           }
          ],
          "histogram2dcontour": [
           {
            "colorbar": {
             "outlinewidth": 0,
             "ticks": ""
            },
            "colorscale": [
             [
              0,
              "#0d0887"
             ],
             [
              0.1111111111111111,
              "#46039f"
             ],
             [
              0.2222222222222222,
              "#7201a8"
             ],
             [
              0.3333333333333333,
              "#9c179e"
             ],
             [
              0.4444444444444444,
              "#bd3786"
             ],
             [
              0.5555555555555556,
              "#d8576b"
             ],
             [
              0.6666666666666666,
              "#ed7953"
             ],
             [
              0.7777777777777778,
              "#fb9f3a"
             ],
             [
              0.8888888888888888,
              "#fdca26"
             ],
             [
              1,
              "#f0f921"
             ]
            ],
            "type": "histogram2dcontour"
           }
          ],
          "mesh3d": [
           {
            "colorbar": {
             "outlinewidth": 0,
             "ticks": ""
            },
            "type": "mesh3d"
           }
          ],
          "parcoords": [
           {
            "line": {
             "colorbar": {
              "outlinewidth": 0,
              "ticks": ""
             }
            },
            "type": "parcoords"
           }
          ],
          "pie": [
           {
            "automargin": true,
            "type": "pie"
           }
          ],
          "scatter": [
           {
            "marker": {
             "colorbar": {
              "outlinewidth": 0,
              "ticks": ""
             }
            },
            "type": "scatter"
           }
          ],
          "scatter3d": [
           {
            "line": {
             "colorbar": {
              "outlinewidth": 0,
              "ticks": ""
             }
            },
            "marker": {
             "colorbar": {
              "outlinewidth": 0,
              "ticks": ""
             }
            },
            "type": "scatter3d"
           }
          ],
          "scattercarpet": [
           {
            "marker": {
             "colorbar": {
              "outlinewidth": 0,
              "ticks": ""
             }
            },
            "type": "scattercarpet"
           }
          ],
          "scattergeo": [
           {
            "marker": {
             "colorbar": {
              "outlinewidth": 0,
              "ticks": ""
             }
            },
            "type": "scattergeo"
           }
          ],
          "scattergl": [
           {
            "marker": {
             "colorbar": {
              "outlinewidth": 0,
              "ticks": ""
             }
            },
            "type": "scattergl"
           }
          ],
          "scattermapbox": [
           {
            "marker": {
             "colorbar": {
              "outlinewidth": 0,
              "ticks": ""
             }
            },
            "type": "scattermapbox"
           }
          ],
          "scatterpolar": [
           {
            "marker": {
             "colorbar": {
              "outlinewidth": 0,
              "ticks": ""
             }
            },
            "type": "scatterpolar"
           }
          ],
          "scatterpolargl": [
           {
            "marker": {
             "colorbar": {
              "outlinewidth": 0,
              "ticks": ""
             }
            },
            "type": "scatterpolargl"
           }
          ],
          "scatterternary": [
           {
            "marker": {
             "colorbar": {
              "outlinewidth": 0,
              "ticks": ""
             }
            },
            "type": "scatterternary"
           }
          ],
          "surface": [
           {
            "colorbar": {
             "outlinewidth": 0,
             "ticks": ""
            },
            "colorscale": [
             [
              0,
              "#0d0887"
             ],
             [
              0.1111111111111111,
              "#46039f"
             ],
             [
              0.2222222222222222,
              "#7201a8"
             ],
             [
              0.3333333333333333,
              "#9c179e"
             ],
             [
              0.4444444444444444,
              "#bd3786"
             ],
             [
              0.5555555555555556,
              "#d8576b"
             ],
             [
              0.6666666666666666,
              "#ed7953"
             ],
             [
              0.7777777777777778,
              "#fb9f3a"
             ],
             [
              0.8888888888888888,
              "#fdca26"
             ],
             [
              1,
              "#f0f921"
             ]
            ],
            "type": "surface"
           }
          ],
          "table": [
           {
            "cells": {
             "fill": {
              "color": "#EBF0F8"
             },
             "line": {
              "color": "white"
             }
            },
            "header": {
             "fill": {
              "color": "#C8D4E3"
             },
             "line": {
              "color": "white"
             }
            },
            "type": "table"
           }
          ]
         },
         "layout": {
          "annotationdefaults": {
           "arrowcolor": "#2a3f5f",
           "arrowhead": 0,
           "arrowwidth": 1
          },
          "coloraxis": {
           "colorbar": {
            "outlinewidth": 0,
            "ticks": ""
           }
          },
          "colorscale": {
           "diverging": [
            [
             0,
             "#8e0152"
            ],
            [
             0.1,
             "#c51b7d"
            ],
            [
             0.2,
             "#de77ae"
            ],
            [
             0.3,
             "#f1b6da"
            ],
            [
             0.4,
             "#fde0ef"
            ],
            [
             0.5,
             "#f7f7f7"
            ],
            [
             0.6,
             "#e6f5d0"
            ],
            [
             0.7,
             "#b8e186"
            ],
            [
             0.8,
             "#7fbc41"
            ],
            [
             0.9,
             "#4d9221"
            ],
            [
             1,
             "#276419"
            ]
           ],
           "sequential": [
            [
             0,
             "#0d0887"
            ],
            [
             0.1111111111111111,
             "#46039f"
            ],
            [
             0.2222222222222222,
             "#7201a8"
            ],
            [
             0.3333333333333333,
             "#9c179e"
            ],
            [
             0.4444444444444444,
             "#bd3786"
            ],
            [
             0.5555555555555556,
             "#d8576b"
            ],
            [
             0.6666666666666666,
             "#ed7953"
            ],
            [
             0.7777777777777778,
             "#fb9f3a"
            ],
            [
             0.8888888888888888,
             "#fdca26"
            ],
            [
             1,
             "#f0f921"
            ]
           ],
           "sequentialminus": [
            [
             0,
             "#0d0887"
            ],
            [
             0.1111111111111111,
             "#46039f"
            ],
            [
             0.2222222222222222,
             "#7201a8"
            ],
            [
             0.3333333333333333,
             "#9c179e"
            ],
            [
             0.4444444444444444,
             "#bd3786"
            ],
            [
             0.5555555555555556,
             "#d8576b"
            ],
            [
             0.6666666666666666,
             "#ed7953"
            ],
            [
             0.7777777777777778,
             "#fb9f3a"
            ],
            [
             0.8888888888888888,
             "#fdca26"
            ],
            [
             1,
             "#f0f921"
            ]
           ]
          },
          "colorway": [
           "#636efa",
           "#EF553B",
           "#00cc96",
           "#ab63fa",
           "#FFA15A",
           "#19d3f3",
           "#FF6692",
           "#B6E880",
           "#FF97FF",
           "#FECB52"
          ],
          "font": {
           "color": "#2a3f5f"
          },
          "geo": {
           "bgcolor": "white",
           "lakecolor": "white",
           "landcolor": "#E5ECF6",
           "showlakes": true,
           "showland": true,
           "subunitcolor": "white"
          },
          "hoverlabel": {
           "align": "left"
          },
          "hovermode": "closest",
          "mapbox": {
           "style": "light"
          },
          "paper_bgcolor": "white",
          "plot_bgcolor": "#E5ECF6",
          "polar": {
           "angularaxis": {
            "gridcolor": "white",
            "linecolor": "white",
            "ticks": ""
           },
           "bgcolor": "#E5ECF6",
           "radialaxis": {
            "gridcolor": "white",
            "linecolor": "white",
            "ticks": ""
           }
          },
          "scene": {
           "xaxis": {
            "backgroundcolor": "#E5ECF6",
            "gridcolor": "white",
            "gridwidth": 2,
            "linecolor": "white",
            "showbackground": true,
            "ticks": "",
            "zerolinecolor": "white"
           },
           "yaxis": {
            "backgroundcolor": "#E5ECF6",
            "gridcolor": "white",
            "gridwidth": 2,
            "linecolor": "white",
            "showbackground": true,
            "ticks": "",
            "zerolinecolor": "white"
           },
           "zaxis": {
            "backgroundcolor": "#E5ECF6",
            "gridcolor": "white",
            "gridwidth": 2,
            "linecolor": "white",
            "showbackground": true,
            "ticks": "",
            "zerolinecolor": "white"
           }
          },
          "shapedefaults": {
           "line": {
            "color": "#2a3f5f"
           }
          },
          "ternary": {
           "aaxis": {
            "gridcolor": "white",
            "linecolor": "white",
            "ticks": ""
           },
           "baxis": {
            "gridcolor": "white",
            "linecolor": "white",
            "ticks": ""
           },
           "bgcolor": "#E5ECF6",
           "caxis": {
            "gridcolor": "white",
            "linecolor": "white",
            "ticks": ""
           }
          },
          "title": {
           "x": 0.05
          },
          "xaxis": {
           "automargin": true,
           "gridcolor": "white",
           "linecolor": "white",
           "ticks": "",
           "title": {
            "standoff": 15
           },
           "zerolinecolor": "white",
           "zerolinewidth": 2
          },
          "yaxis": {
           "automargin": true,
           "gridcolor": "white",
           "linecolor": "white",
           "ticks": "",
           "title": {
            "standoff": 15
           },
           "zerolinecolor": "white",
           "zerolinewidth": 2
          }
         }
        },
        "title": {
         "text": "Pregnancies vs Age"
        },
        "xaxis": {
         "title": {
          "text": "Pregnancies"
         },
         "zeroline": false
        },
        "yaxis": {
         "title": {
          "text": "Age"
         },
         "zeroline": false
        }
       }
      },
      "text/html": [
       "<div>                            <div id=\"0c50a54c-f12a-4abe-9bb7-c76a9d14d0a5\" class=\"plotly-graph-div\" style=\"height:525px; width:100%;\"></div>            <script type=\"text/javascript\">                require([\"plotly\"], function(Plotly) {                    window.PLOTLYENV=window.PLOTLYENV || {};                                    if (document.getElementById(\"0c50a54c-f12a-4abe-9bb7-c76a9d14d0a5\")) {                    Plotly.newPlot(                        \"0c50a54c-f12a-4abe-9bb7-c76a9d14d0a5\",                        [{\"marker\": {\"color\": \"lightskyblue\", \"line\": {\"width\": 1}}, \"mode\": \"markers\", \"name\": \"diabetic\", \"opacity\": 0.8, \"type\": \"scatter\", \"x\": [6, 8, 0, 3, 2, 8, 10, 1, 5, 7, 0, 7, 1, 7, 9, 11, 10, 7, 3, 9, 2, 4, 9, 0, 7, 8, 7, 8, 7, 0, 2, 13, 0, 5, 15, 4, 1, 1, 0, 3, 8, 7, 4, 5, 0, 0, 1, 1, 0, 4, 9, 3, 10, 9, 8, 7, 17, 0, 6, 6, 6, 8, 0, 5, 7, 8, 1, 8, 5, 7, 11, 5, 3, 4, 4, 8, 5, 7, 0, 9, 12, 5, 5, 5, 0, 2, 3, 4, 6, 4, 7, 0, 9, 3, 6, 9, 12, 1, 11, 3, 4, 0, 2, 10, 7, 0, 7, 2, 1, 0, 2, 1, 2, 14, 0, 2, 5, 10, 0, 2, 2, 7, 3, 6, 3, 0, 13, 1, 2, 1, 5, 9, 7, 5, 9, 1, 13, 1, 5, 4, 6, 1, 3, 12, 4, 5, 8, 5, 5, 4, 0, 3, 4, 5, 5, 4, 8, 1, 0, 3, 4, 3, 8, 4, 1, 1, 0, 0, 8, 4, 0, 0, 2, 14, 10, 8, 2, 3, 0, 0, 4, 7, 6, 0, 12, 3, 9, 9, 4, 3, 8, 3, 10, 8, 5, 6, 0, 0, 2, 2, 0, 8, 8, 3, 11, 3, 0, 1, 7, 4, 1, 3, 7, 11, 9, 0, 7, 13, 7, 6, 1, 0, 11, 2, 3, 1, 8, 9, 6, 4, 10, 6, 9, 3, 0, 4, 1, 13, 7, 7, 3, 6, 1, 10, 9, 2, 10, 7, 3, 5, 1, 3, 8, 2, 1, 11, 9, 1, 3, 6, 4, 0, 8, 1, 0, 6, 9, 1], \"y\": [50, 32, 33, 26, 53, 54, 34, 59, 51, 32, 31, 31, 32, 41, 29, 51, 41, 43, 28, 46, 27, 56, 54, 25, 31, 58, 41, 39, 42, 38, 28, 42, 26, 37, 43, 60, 31, 33, 24, 24, 46, 39, 61, 38, 25, 23, 26, 40, 62, 33, 33, 30, 42, 42, 43, 36, 47, 32, 41, 36, 29, 36, 26, 37, 41, 60, 33, 31, 25, 36, 40, 29, 23, 26, 29, 57, 52, 41, 24, 36, 38, 25, 32, 41, 21, 66, 24, 22, 46, 26, 51, 23, 32, 22, 33, 49, 44, 21, 51, 27, 35, 25, 28, 38, 29, 28, 47, 52, 29, 25, 31, 24, 29, 46, 30, 25, 28, 47, 25, 30, 27, 43, 29, 59, 25, 36, 43, 30, 23, 41, 44, 33, 41, 37, 49, 28, 44, 29, 29, 67, 29, 45, 25, 58, 32, 35, 45, 58, 27, 31, 22, 25, 31, 35, 41, 46, 39, 28, 21, 22, 37, 28, 36, 31, 38, 43, 29, 41, 33, 30, 25, 22, 23, 38, 51, 38, 29, 35, 31, 24, 45, 55, 41, 35, 46, 28, 53, 45, 23, 32, 43, 27, 56, 37, 53, 54, 28, 33, 21, 62, 21, 52, 41, 52, 45, 44, 22, 38, 54, 36, 22, 36, 40, 50, 50, 24, 34, 38, 32, 50, 33, 22, 42, 25, 27, 22, 43, 40, 40, 70, 40, 31, 53, 25, 26, 27, 46, 44, 43, 43, 31, 49, 52, 30, 45, 23, 38, 34, 31, 52, 42, 34, 22, 24, 42, 48, 45, 27, 36, 50, 22, 26, 45, 37, 52, 66, 43, 47]}, {\"marker\": {\"color\": \"indigo\", \"line\": {\"width\": 1}}, \"mode\": \"markers\", \"name\": \"healthy\", \"opacity\": 0.8, \"type\": \"scatter\", \"x\": [1, 1, 5, 10, 4, 10, 1, 3, 8, 1, 13, 5, 5, 3, 6, 10, 4, 11, 3, 7, 7, 7, 1, 2, 7, 1, 1, 5, 7, 1, 0, 0, 0, 2, 5, 2, 5, 2, 1, 4, 5, 4, 1, 1, 7, 5, 2, 3, 2, 7, 0, 2, 13, 2, 1, 1, 4, 7, 2, 6, 2, 1, 6, 1, 0, 1, 2, 1, 1, 4, 3, 1, 4, 5, 4, 4, 6, 2, 5, 3, 1, 8, 2, 2, 0, 0, 0, 5, 3, 5, 2, 4, 0, 9, 2, 5, 2, 1, 4, 1, 2, 1, 2, 4, 7, 0, 2, 3, 4, 4, 3, 2, 1, 2, 6, 5, 6, 0, 1, 5, 4, 3, 9, 8, 1, 0, 1, 0, 2, 6, 5, 1, 2, 0, 7, 6, 7, 7, 1, 1, 0, 4, 0, 1, 4, 3, 0, 1, 4, 2, 10, 0, 9, 1, 9, 2, 2, 0, 3, 2, 1, 3, 4, 3, 5, 2, 0, 2, 3, 1, 13, 2, 0, 5, 2, 10, 7, 7, 5, 4, 5, 0, 0, 6, 0, 8, 5, 3, 2, 0, 6, 0, 3, 2, 3, 3, 4, 2, 1, 10, 6, 8, 2, 12, 1, 0, 0, 1, 1, 1, 5, 8, 8, 1, 3, 3, 4, 4, 3, 1, 3, 12, 5, 5, 4, 5, 0, 3, 0, 0, 2, 2, 0, 1, 0, 1, 0, 1, 1, 1, 1, 3, 1, 1, 4, 2, 3, 3, 6, 9, 2, 0, 6, 1, 1, 1, 1, 1, 1, 2, 0, 2, 0, 0, 2, 3, 1, 2, 1, 12, 5, 1, 6, 2, 4, 1, 0, 0, 1, 0, 2, 2, 1, 5, 9, 9, 1, 8, 5, 10, 0, 0, 0, 6, 1, 0, 0, 7, 4, 0, 7, 8, 4, 0, 4, 0, 1, 0, 4, 8, 2, 2, 4, 3, 6, 5, 2, 6, 2, 3, 7, 3, 10, 1, 2, 8, 0, 9, 2, 3, 7, 13, 6, 2, 3, 6, 3, 3, 1, 3, 0, 0, 2, 0, 1, 6, 1, 0, 0, 0, 4, 1, 4, 1, 4, 1, 3, 6, 1, 1, 7, 1, 8, 11, 11, 1, 6, 0, 2, 1, 6, 4, 3, 2, 3, 2, 1, 1, 6, 10, 6, 12, 8, 1, 6, 0, 2, 2, 6, 0, 1, 1, 1, 6, 1, 1, 1, 0, 1, 3, 6, 3, 6, 2, 2, 2, 6, 0, 2, 4, 0, 0, 5, 4, 0, 2, 1, 10, 5, 2, 1, 0, 4, 4, 3, 2, 0, 1, 1, 5, 2, 1, 2, 1, 11, 10, 1, 6, 9, 6, 1, 10, 3, 8, 0, 2, 2, 0, 5, 2, 3, 1, 1, 8, 2, 2, 0, 4, 4, 2, 2, 4, 6, 2, 3, 5, 0, 3, 10, 1, 4, 1, 5, 1, 4, 1, 0, 2, 2, 2, 2, 4, 0, 8, 2, 3, 1, 13, 12, 1, 1, 3, 7, 1, 2, 9, 10, 2, 5, 1], \"y\": [31, 21, 30, 29, 30, 57, 33, 27, 50, 22, 57, 38, 60, 22, 28, 45, 33, 35, 26, 37, 48, 40, 29, 22, 24, 22, 26, 30, 42, 21, 31, 44, 22, 21, 36, 24, 32, 54, 25, 27, 26, 23, 22, 22, 41, 27, 24, 22, 22, 36, 22, 27, 45, 26, 24, 21, 34, 42, 21, 40, 24, 22, 23, 22, 21, 24, 27, 21, 27, 37, 25, 23, 25, 25, 22, 21, 24, 23, 69, 30, 23, 39, 26, 31, 21, 22, 29, 28, 55, 38, 22, 23, 21, 41, 34, 65, 22, 24, 37, 23, 21, 23, 22, 36, 45, 27, 21, 22, 34, 29, 29, 25, 23, 33, 42, 47, 32, 23, 21, 27, 40, 21, 40, 42, 21, 21, 28, 32, 27, 55, 27, 21, 25, 24, 60, 32, 37, 61, 26, 22, 26, 31, 24, 22, 29, 23, 27, 21, 22, 29, 41, 23, 34, 23, 42, 27, 24, 25, 30, 25, 24, 34, 24, 63, 43, 24, 21, 21, 40, 21, 52, 25, 23, 57, 22, 39, 37, 51, 34, 26, 33, 21, 65, 28, 24, 58, 35, 37, 29, 21, 41, 22, 25, 26, 30, 28, 31, 21, 24, 37, 37, 46, 25, 44, 22, 26, 44, 22, 36, 22, 33, 57, 49, 22, 23, 26, 29, 30, 46, 24, 21, 48, 63, 65, 30, 30, 21, 22, 21, 21, 25, 28, 22, 22, 35, 24, 22, 21, 25, 25, 24, 28, 42, 21, 37, 25, 39, 25, 55, 38, 26, 25, 28, 25, 22, 21, 22, 27, 26, 21, 21, 21, 25, 26, 23, 38, 22, 29, 36, 41, 28, 21, 31, 22, 24, 28, 26, 26, 23, 25, 72, 24, 62, 24, 81, 48, 26, 39, 37, 34, 21, 22, 25, 27, 28, 22, 22, 50, 24, 59, 31, 39, 63, 29, 28, 23, 21, 58, 28, 67, 24, 42, 33, 22, 66, 30, 25, 39, 21, 28, 41, 40, 38, 21, 21, 64, 21, 58, 22, 24, 51, 41, 60, 25, 26, 26, 24, 21, 21, 24, 22, 31, 22, 24, 29, 31, 24, 46, 67, 23, 25, 29, 28, 50, 37, 21, 25, 66, 23, 28, 37, 30, 58, 42, 35, 24, 32, 27, 22, 21, 46, 37, 39, 21, 22, 22, 23, 25, 35, 36, 27, 62, 42, 22, 29, 25, 24, 25, 34, 46, 21, 26, 24, 28, 30, 21, 25, 27, 23, 24, 26, 27, 30, 23, 28, 28, 45, 21, 21, 29, 21, 21, 45, 21, 24, 23, 22, 31, 48, 23, 28, 27, 24, 31, 27, 30, 23, 23, 27, 28, 27, 22, 22, 41, 51, 54, 24, 43, 45, 49, 21, 47, 22, 68, 25, 23, 22, 22, 69, 25, 22, 29, 23, 34, 23, 25, 22, 28, 26, 26, 41, 27, 28, 22, 24, 40, 21, 32, 56, 24, 34, 21, 42, 45, 38, 25, 22, 22, 22, 22, 53, 28, 21, 42, 21, 26, 22, 39, 46, 32, 28, 25, 39, 26, 22, 33, 63, 27, 30, 23]}],                        {\"template\": {\"data\": {\"bar\": [{\"error_x\": {\"color\": \"#2a3f5f\"}, \"error_y\": {\"color\": \"#2a3f5f\"}, \"marker\": {\"line\": {\"color\": \"#E5ECF6\", \"width\": 0.5}}, \"type\": \"bar\"}], \"barpolar\": [{\"marker\": {\"line\": {\"color\": \"#E5ECF6\", \"width\": 0.5}}, \"type\": \"barpolar\"}], \"carpet\": [{\"aaxis\": {\"endlinecolor\": \"#2a3f5f\", \"gridcolor\": \"white\", \"linecolor\": \"white\", \"minorgridcolor\": \"white\", \"startlinecolor\": \"#2a3f5f\"}, \"baxis\": {\"endlinecolor\": \"#2a3f5f\", \"gridcolor\": \"white\", \"linecolor\": \"white\", \"minorgridcolor\": \"white\", \"startlinecolor\": \"#2a3f5f\"}, \"type\": \"carpet\"}], \"choropleth\": [{\"colorbar\": {\"outlinewidth\": 0, \"ticks\": \"\"}, \"type\": \"choropleth\"}], \"contour\": [{\"colorbar\": {\"outlinewidth\": 0, \"ticks\": \"\"}, \"colorscale\": [[0.0, \"#0d0887\"], [0.1111111111111111, \"#46039f\"], [0.2222222222222222, \"#7201a8\"], [0.3333333333333333, \"#9c179e\"], [0.4444444444444444, \"#bd3786\"], [0.5555555555555556, \"#d8576b\"], [0.6666666666666666, \"#ed7953\"], [0.7777777777777778, \"#fb9f3a\"], [0.8888888888888888, \"#fdca26\"], [1.0, \"#f0f921\"]], \"type\": \"contour\"}], \"contourcarpet\": [{\"colorbar\": {\"outlinewidth\": 0, \"ticks\": \"\"}, \"type\": \"contourcarpet\"}], \"heatmap\": [{\"colorbar\": {\"outlinewidth\": 0, \"ticks\": \"\"}, \"colorscale\": [[0.0, \"#0d0887\"], [0.1111111111111111, \"#46039f\"], [0.2222222222222222, \"#7201a8\"], [0.3333333333333333, \"#9c179e\"], [0.4444444444444444, \"#bd3786\"], [0.5555555555555556, \"#d8576b\"], [0.6666666666666666, \"#ed7953\"], [0.7777777777777778, \"#fb9f3a\"], [0.8888888888888888, \"#fdca26\"], [1.0, \"#f0f921\"]], \"type\": \"heatmap\"}], \"heatmapgl\": [{\"colorbar\": {\"outlinewidth\": 0, \"ticks\": \"\"}, \"colorscale\": [[0.0, \"#0d0887\"], [0.1111111111111111, \"#46039f\"], [0.2222222222222222, \"#7201a8\"], [0.3333333333333333, \"#9c179e\"], [0.4444444444444444, \"#bd3786\"], [0.5555555555555556, \"#d8576b\"], [0.6666666666666666, \"#ed7953\"], [0.7777777777777778, \"#fb9f3a\"], [0.8888888888888888, \"#fdca26\"], [1.0, \"#f0f921\"]], \"type\": \"heatmapgl\"}], \"histogram\": [{\"marker\": {\"colorbar\": {\"outlinewidth\": 0, \"ticks\": \"\"}}, \"type\": \"histogram\"}], \"histogram2d\": [{\"colorbar\": {\"outlinewidth\": 0, \"ticks\": \"\"}, \"colorscale\": [[0.0, \"#0d0887\"], [0.1111111111111111, \"#46039f\"], [0.2222222222222222, \"#7201a8\"], [0.3333333333333333, \"#9c179e\"], [0.4444444444444444, \"#bd3786\"], [0.5555555555555556, \"#d8576b\"], [0.6666666666666666, \"#ed7953\"], [0.7777777777777778, \"#fb9f3a\"], [0.8888888888888888, \"#fdca26\"], [1.0, \"#f0f921\"]], \"type\": \"histogram2d\"}], \"histogram2dcontour\": [{\"colorbar\": {\"outlinewidth\": 0, \"ticks\": \"\"}, \"colorscale\": [[0.0, \"#0d0887\"], [0.1111111111111111, \"#46039f\"], [0.2222222222222222, \"#7201a8\"], [0.3333333333333333, \"#9c179e\"], [0.4444444444444444, \"#bd3786\"], [0.5555555555555556, \"#d8576b\"], [0.6666666666666666, \"#ed7953\"], [0.7777777777777778, \"#fb9f3a\"], [0.8888888888888888, \"#fdca26\"], [1.0, \"#f0f921\"]], \"type\": \"histogram2dcontour\"}], \"mesh3d\": [{\"colorbar\": {\"outlinewidth\": 0, \"ticks\": \"\"}, \"type\": \"mesh3d\"}], \"parcoords\": [{\"line\": {\"colorbar\": {\"outlinewidth\": 0, \"ticks\": \"\"}}, \"type\": \"parcoords\"}], \"pie\": [{\"automargin\": true, \"type\": \"pie\"}], \"scatter\": [{\"marker\": {\"colorbar\": {\"outlinewidth\": 0, \"ticks\": \"\"}}, \"type\": \"scatter\"}], \"scatter3d\": [{\"line\": {\"colorbar\": {\"outlinewidth\": 0, \"ticks\": \"\"}}, \"marker\": {\"colorbar\": {\"outlinewidth\": 0, \"ticks\": \"\"}}, \"type\": \"scatter3d\"}], \"scattercarpet\": [{\"marker\": {\"colorbar\": {\"outlinewidth\": 0, \"ticks\": \"\"}}, \"type\": \"scattercarpet\"}], \"scattergeo\": [{\"marker\": {\"colorbar\": {\"outlinewidth\": 0, \"ticks\": \"\"}}, \"type\": \"scattergeo\"}], \"scattergl\": [{\"marker\": {\"colorbar\": {\"outlinewidth\": 0, \"ticks\": \"\"}}, \"type\": \"scattergl\"}], \"scattermapbox\": [{\"marker\": {\"colorbar\": {\"outlinewidth\": 0, \"ticks\": \"\"}}, \"type\": \"scattermapbox\"}], \"scatterpolar\": [{\"marker\": {\"colorbar\": {\"outlinewidth\": 0, \"ticks\": \"\"}}, \"type\": \"scatterpolar\"}], \"scatterpolargl\": [{\"marker\": {\"colorbar\": {\"outlinewidth\": 0, \"ticks\": \"\"}}, \"type\": \"scatterpolargl\"}], \"scatterternary\": [{\"marker\": {\"colorbar\": {\"outlinewidth\": 0, \"ticks\": \"\"}}, \"type\": \"scatterternary\"}], \"surface\": [{\"colorbar\": {\"outlinewidth\": 0, \"ticks\": \"\"}, \"colorscale\": [[0.0, \"#0d0887\"], [0.1111111111111111, \"#46039f\"], [0.2222222222222222, \"#7201a8\"], [0.3333333333333333, \"#9c179e\"], [0.4444444444444444, \"#bd3786\"], [0.5555555555555556, \"#d8576b\"], [0.6666666666666666, \"#ed7953\"], [0.7777777777777778, \"#fb9f3a\"], [0.8888888888888888, \"#fdca26\"], [1.0, \"#f0f921\"]], \"type\": \"surface\"}], \"table\": [{\"cells\": {\"fill\": {\"color\": \"#EBF0F8\"}, \"line\": {\"color\": \"white\"}}, \"header\": {\"fill\": {\"color\": \"#C8D4E3\"}, \"line\": {\"color\": \"white\"}}, \"type\": \"table\"}]}, \"layout\": {\"annotationdefaults\": {\"arrowcolor\": \"#2a3f5f\", \"arrowhead\": 0, \"arrowwidth\": 1}, \"coloraxis\": {\"colorbar\": {\"outlinewidth\": 0, \"ticks\": \"\"}}, \"colorscale\": {\"diverging\": [[0, \"#8e0152\"], [0.1, \"#c51b7d\"], [0.2, \"#de77ae\"], [0.3, \"#f1b6da\"], [0.4, \"#fde0ef\"], [0.5, \"#f7f7f7\"], [0.6, \"#e6f5d0\"], [0.7, \"#b8e186\"], [0.8, \"#7fbc41\"], [0.9, \"#4d9221\"], [1, \"#276419\"]], \"sequential\": [[0.0, \"#0d0887\"], [0.1111111111111111, \"#46039f\"], [0.2222222222222222, \"#7201a8\"], [0.3333333333333333, \"#9c179e\"], [0.4444444444444444, \"#bd3786\"], [0.5555555555555556, \"#d8576b\"], [0.6666666666666666, \"#ed7953\"], [0.7777777777777778, \"#fb9f3a\"], [0.8888888888888888, \"#fdca26\"], [1.0, \"#f0f921\"]], \"sequentialminus\": [[0.0, \"#0d0887\"], [0.1111111111111111, \"#46039f\"], [0.2222222222222222, \"#7201a8\"], [0.3333333333333333, \"#9c179e\"], [0.4444444444444444, \"#bd3786\"], [0.5555555555555556, \"#d8576b\"], [0.6666666666666666, \"#ed7953\"], [0.7777777777777778, \"#fb9f3a\"], [0.8888888888888888, \"#fdca26\"], [1.0, \"#f0f921\"]]}, \"colorway\": [\"#636efa\", \"#EF553B\", \"#00cc96\", \"#ab63fa\", \"#FFA15A\", \"#19d3f3\", \"#FF6692\", \"#B6E880\", \"#FF97FF\", \"#FECB52\"], \"font\": {\"color\": \"#2a3f5f\"}, \"geo\": {\"bgcolor\": \"white\", \"lakecolor\": \"white\", \"landcolor\": \"#E5ECF6\", \"showlakes\": true, \"showland\": true, \"subunitcolor\": \"white\"}, \"hoverlabel\": {\"align\": \"left\"}, \"hovermode\": \"closest\", \"mapbox\": {\"style\": \"light\"}, \"paper_bgcolor\": \"white\", \"plot_bgcolor\": \"#E5ECF6\", \"polar\": {\"angularaxis\": {\"gridcolor\": \"white\", \"linecolor\": \"white\", \"ticks\": \"\"}, \"bgcolor\": \"#E5ECF6\", \"radialaxis\": {\"gridcolor\": \"white\", \"linecolor\": \"white\", \"ticks\": \"\"}}, \"scene\": {\"xaxis\": {\"backgroundcolor\": \"#E5ECF6\", \"gridcolor\": \"white\", \"gridwidth\": 2, \"linecolor\": \"white\", \"showbackground\": true, \"ticks\": \"\", \"zerolinecolor\": \"white\"}, \"yaxis\": {\"backgroundcolor\": \"#E5ECF6\", \"gridcolor\": \"white\", \"gridwidth\": 2, \"linecolor\": \"white\", \"showbackground\": true, \"ticks\": \"\", \"zerolinecolor\": \"white\"}, \"zaxis\": {\"backgroundcolor\": \"#E5ECF6\", \"gridcolor\": \"white\", \"gridwidth\": 2, \"linecolor\": \"white\", \"showbackground\": true, \"ticks\": \"\", \"zerolinecolor\": \"white\"}}, \"shapedefaults\": {\"line\": {\"color\": \"#2a3f5f\"}}, \"ternary\": {\"aaxis\": {\"gridcolor\": \"white\", \"linecolor\": \"white\", \"ticks\": \"\"}, \"baxis\": {\"gridcolor\": \"white\", \"linecolor\": \"white\", \"ticks\": \"\"}, \"bgcolor\": \"#E5ECF6\", \"caxis\": {\"gridcolor\": \"white\", \"linecolor\": \"white\", \"ticks\": \"\"}}, \"title\": {\"x\": 0.05}, \"xaxis\": {\"automargin\": true, \"gridcolor\": \"white\", \"linecolor\": \"white\", \"ticks\": \"\", \"title\": {\"standoff\": 15}, \"zerolinecolor\": \"white\", \"zerolinewidth\": 2}, \"yaxis\": {\"automargin\": true, \"gridcolor\": \"white\", \"linecolor\": \"white\", \"ticks\": \"\", \"title\": {\"standoff\": 15}, \"zerolinecolor\": \"white\", \"zerolinewidth\": 2}}}, \"title\": {\"text\": \"Pregnancies vs Age\"}, \"xaxis\": {\"title\": {\"text\": \"Pregnancies\"}, \"zeroline\": false}, \"yaxis\": {\"title\": {\"text\": \"Age\"}, \"zeroline\": false}},                        {\"responsive\": true}                    ).then(function(){\n",
       "                            \n",
       "var gd = document.getElementById('0c50a54c-f12a-4abe-9bb7-c76a9d14d0a5');\n",
       "var x = new MutationObserver(function (mutations, observer) {{\n",
       "        var display = window.getComputedStyle(gd).display;\n",
       "        if (!display || display === 'none') {{\n",
       "            console.log([gd, 'removed!']);\n",
       "            Plotly.purge(gd);\n",
       "            observer.disconnect();\n",
       "        }}\n",
       "}});\n",
       "\n",
       "// Listen for the removal of the full notebook cells\n",
       "var notebookContainer = gd.closest('#notebook-container');\n",
       "if (notebookContainer) {{\n",
       "    x.observe(notebookContainer, {childList: true});\n",
       "}}\n",
       "\n",
       "// Listen for the clearing of the current output cell\n",
       "var outputEl = gd.closest('.output');\n",
       "if (outputEl) {{\n",
       "    x.observe(outputEl, {childList: true});\n",
       "}}\n",
       "\n",
       "                        })                };                });            </script>        </div>"
      ]
     },
     "metadata": {},
     "output_type": "display_data"
    }
   ],
   "source": [
    "plot_feat1_feat2('Pregnancies', 'Age')"
   ]
  },
  {
   "cell_type": "markdown",
   "metadata": {},
   "source": [
    "From the above plot ,we can see that people with Age < 35 and Pragnancies < 6 are less likly to be affected with diageties."
   ]
  },
  {
   "cell_type": "code",
   "execution_count": 27,
   "metadata": {
    "scrolled": true
   },
   "outputs": [
    {
     "data": {
      "application/vnd.plotly.v1+json": {
       "config": {
        "linkText": "Export to plot.ly",
        "plotlyServerURL": "https://plot.ly",
        "showLink": false
       },
       "data": [
        {
         "marker": {
          "color": "lightskyblue",
          "line": {
           "width": 1
          }
         },
         "mode": "markers",
         "name": "diabetic",
         "opacity": 0.8,
         "type": "scatter",
         "x": [
          148,
          183,
          137,
          78,
          197,
          125,
          168,
          189,
          166,
          100,
          118,
          107,
          115,
          196,
          119,
          143,
          125,
          147,
          158,
          102,
          90,
          111,
          171,
          180,
          103,
          176,
          187,
          133,
          114,
          109,
          100,
          126,
          131,
          137,
          136,
          134,
          122,
          163,
          95,
          171,
          155,
          160,
          146,
          124,
          162,
          113,
          88,
          117,
          105,
          173,
          122,
          170,
          108,
          156,
          188,
          152,
          163,
          131,
          104,
          102,
          134,
          179,
          129,
          130,
          194,
          181,
          128,
          109,
          139,
          159,
          135,
          158,
          107,
          109,
          148,
          196,
          162,
          184,
          140,
          112,
          151,
          109,
          85,
          112,
          177,
          158,
          162,
          142,
          134,
          171,
          181,
          179,
          164,
          139,
          119,
          184,
          92,
          113,
          155,
          141,
          123,
          138,
          146,
          101,
          106,
          146,
          161,
          108,
          119,
          107,
          128,
          128,
          146,
          100,
          167,
          144,
          115,
          161,
          128,
          124,
          155,
          109,
          182,
          194,
          112,
          124,
          152,
          122,
          102,
          180,
          115,
          152,
          178,
          117,
          165,
          125,
          129,
          196,
          189,
          146,
          124,
          133,
          173,
          140,
          156,
          116,
          105,
          144,
          166,
          158,
          131,
          193,
          95,
          136,
          168,
          115,
          197,
          172,
          138,
          173,
          144,
          129,
          151,
          184,
          181,
          95,
          141,
          189,
          108,
          117,
          180,
          104,
          134,
          175,
          148,
          120,
          105,
          158,
          145,
          135,
          125,
          195,
          117,
          180,
          84,
          163,
          145,
          130,
          132,
          129,
          100,
          128,
          90,
          186,
          187,
          125,
          198,
          121,
          118,
          197,
          151,
          124,
          143,
          176,
          111,
          132,
          188,
          173,
          150,
          183,
          181,
          174,
          168,
          138,
          112,
          119,
          114,
          104,
          97,
          147,
          167,
          179,
          136,
          155,
          80,
          199,
          167,
          145,
          115,
          145,
          111,
          195,
          156,
          121,
          162,
          125,
          144,
          158,
          129,
          142,
          169,
          125,
          168,
          115,
          164,
          93,
          129,
          187,
          173,
          97,
          149,
          130,
          120,
          174,
          102,
          120,
          140,
          147,
          187,
          162,
          136,
          181,
          154,
          128,
          123,
          190,
          170,
          126
         ],
         "y": [
          125,
          125,
          168,
          88,
          543,
          125,
          125,
          846,
          175,
          125,
          230,
          125,
          96,
          125,
          125,
          146,
          115,
          125,
          245,
          125,
          125,
          207,
          240,
          125,
          125,
          300,
          304,
          125,
          125,
          125,
          90,
          125,
          125,
          125,
          110,
          125,
          220,
          125,
          36,
          135,
          495,
          175,
          125,
          125,
          100,
          125,
          99,
          145,
          125,
          168,
          125,
          225,
          125,
          155,
          125,
          125,
          114,
          125,
          156,
          125,
          130,
          130,
          130,
          125,
          125,
          495,
          58,
          114,
          160,
          125,
          125,
          210,
          48,
          99,
          318,
          280,
          125,
          125,
          130,
          175,
          271,
          129,
          125,
          125,
          478,
          125,
          125,
          125,
          370,
          125,
          192,
          125,
          125,
          125,
          176,
          125,
          258,
          125,
          150,
          125,
          125,
          125,
          125,
          125,
          125,
          125,
          125,
          125,
          220,
          74,
          182,
          194,
          360,
          184,
          125,
          135,
          125,
          132,
          180,
          205,
          96,
          125,
          125,
          125,
          125,
          125,
          29,
          156,
          120,
          125,
          125,
          171,
          125,
          125,
          125,
          167,
          125,
          249,
          325,
          125,
          125,
          140,
          465,
          325,
          125,
          125,
          125,
          285,
          125,
          125,
          125,
          125,
          125,
          88,
          125,
          125,
          125,
          579,
          167,
          474,
          125,
          115,
          210,
          277,
          180,
          180,
          125,
          125,
          125,
          125,
          14,
          64,
          125,
          125,
          237,
          125,
          191,
          328,
          125,
          250,
          122,
          145,
          125,
          90,
          125,
          105,
          165,
          125,
          125,
          155,
          215,
          190,
          125,
          225,
          207,
          125,
          274,
          165,
          125,
          125,
          125,
          600,
          125,
          156,
          125,
          125,
          185,
          125,
          126,
          125,
          293,
          194,
          321,
          144,
          125,
          125,
          125,
          125,
          91,
          125,
          144,
          159,
          130,
          540,
          70,
          125,
          231,
          130,
          125,
          125,
          125,
          125,
          125,
          125,
          125,
          125,
          180,
          125,
          125,
          480,
          125,
          125,
          125,
          125,
          125,
          160,
          125,
          392,
          185,
          125,
          127,
          79,
          125,
          120,
          125,
          150,
          125,
          125,
          200,
          125,
          125,
          510,
          125,
          110,
          125,
          125,
          125,
          125
         ]
        },
        {
         "marker": {
          "color": "indigo",
          "line": {
           "width": 1
          }
         },
         "mode": "markers",
         "name": "healthy",
         "opacity": 0.8,
         "type": "scatter",
         "x": [
          85,
          89,
          116,
          115,
          110,
          139,
          103,
          126,
          99,
          97,
          145,
          117,
          109,
          88,
          92,
          122,
          103,
          138,
          180,
          133,
          106,
          159,
          146,
          71,
          105,
          103,
          101,
          88,
          150,
          73,
          100,
          146,
          105,
          84,
          44,
          141,
          99,
          109,
          95,
          146,
          139,
          129,
          79,
          117,
          62,
          95,
          112,
          113,
          74,
          83,
          101,
          110,
          106,
          100,
          107,
          80,
          123,
          81,
          142,
          144,
          92,
          71,
          93,
          151,
          125,
          81,
          85,
          126,
          96,
          144,
          83,
          89,
          76,
          78,
          97,
          99,
          111,
          107,
          132,
          120,
          118,
          84,
          96,
          125,
          100,
          93,
          129,
          105,
          128,
          106,
          108,
          154,
          102,
          57,
          106,
          147,
          90,
          136,
          114,
          153,
          99,
          109,
          88,
          151,
          102,
          114,
          100,
          148,
          120,
          110,
          111,
          87,
          79,
          75,
          85,
          143,
          87,
          119,
          117,
          73,
          141,
          111,
          123,
          85,
          105,
          113,
          138,
          108,
          99,
          103,
          111,
          96,
          81,
          147,
          179,
          125,
          119,
          142,
          100,
          87,
          101,
          197,
          117,
          79,
          122,
          74,
          104,
          91,
          91,
          146,
          122,
          165,
          124,
          111,
          106,
          129,
          90,
          86,
          111,
          114,
          193,
          191,
          95,
          142,
          96,
          128,
          102,
          108,
          122,
          71,
          106,
          100,
          104,
          114,
          108,
          129,
          133,
          136,
          155,
          96,
          108,
          78,
          161,
          151,
          126,
          112,
          77,
          150,
          120,
          137,
          80,
          106,
          113,
          112,
          99,
          115,
          129,
          112,
          157,
          179,
          105,
          118,
          87,
          106,
          95,
          165,
          117,
          130,
          95,
          117,
          122,
          95,
          126,
          139,
          116,
          99,
          92,
          137,
          61,
          90,
          90,
          88,
          158,
          103,
          147,
          99,
          101,
          81,
          118,
          84,
          105,
          122,
          98,
          87,
          93,
          107,
          105,
          109,
          90,
          125,
          119,
          100,
          100,
          131,
          116,
          127,
          96,
          82,
          137,
          72,
          123,
          101,
          102,
          112,
          143,
          143,
          97,
          83,
          119,
          94,
          102,
          115,
          94,
          135,
          99,
          89,
          80,
          139,
          90,
          140,
          147,
          97,
          107,
          83,
          117,
          100,
          95,
          120,
          82,
          91,
          119,
          100,
          135,
          86,
          134,
          120,
          71,
          74,
          88,
          115,
          124,
          74,
          97,
          154,
          144,
          137,
          119,
          136,
          114,
          137,
          114,
          126,
          132,
          123,
          85,
          84,
          139,
          173,
          99,
          194,
          83,
          89,
          99,
          80,
          166,
          110,
          81,
          154,
          117,
          84,
          94,
          96,
          75,
          130,
          84,
          120,
          139,
          91,
          91,
          99,
          125,
          76,
          129,
          68,
          124,
          114,
          125,
          87,
          97,
          116,
          117,
          111,
          122,
          107,
          86,
          91,
          77,
          105,
          57,
          127,
          84,
          88,
          131,
          164,
          189,
          116,
          84,
          114,
          88,
          84,
          124,
          97,
          110,
          103,
          85,
          87,
          99,
          91,
          95,
          99,
          92,
          154,
          78,
          130,
          111,
          98,
          143,
          119,
          108,
          133,
          109,
          121,
          100,
          93,
          103,
          73,
          112,
          82,
          123,
          67,
          89,
          109,
          108,
          96,
          124,
          124,
          92,
          152,
          111,
          106,
          105,
          106,
          117,
          68,
          112,
          92,
          183,
          94,
          108,
          90,
          125,
          132,
          128,
          94,
          102,
          111,
          128,
          92,
          104,
          94,
          100,
          102,
          128,
          90,
          103,
          157,
          107,
          91,
          117,
          123,
          120,
          106,
          101,
          120,
          127,
          162,
          112,
          98,
          154,
          165,
          99,
          68,
          123,
          91,
          93,
          101,
          56,
          95,
          136,
          129,
          130,
          107,
          140,
          107,
          121,
          90,
          99,
          127,
          118,
          122,
          129,
          110,
          80,
          127,
          158,
          126,
          134,
          102,
          94,
          108,
          83,
          114,
          117,
          111,
          112,
          116,
          141,
          175,
          92,
          106,
          105,
          95,
          126,
          65,
          99,
          102,
          109,
          153,
          100,
          81,
          121,
          108,
          137,
          106,
          88,
          89,
          101,
          122,
          121,
          93
         ],
         "y": [
          125,
          94,
          125,
          125,
          125,
          125,
          83,
          235,
          125,
          140,
          110,
          125,
          125,
          54,
          125,
          125,
          192,
          125,
          70,
          125,
          125,
          125,
          125,
          125,
          125,
          82,
          36,
          23,
          342,
          125,
          110,
          125,
          142,
          125,
          125,
          128,
          125,
          125,
          38,
          100,
          140,
          270,
          125,
          125,
          125,
          125,
          125,
          125,
          125,
          71,
          125,
          125,
          125,
          71,
          125,
          125,
          176,
          48,
          64,
          228,
          125,
          76,
          64,
          125,
          125,
          40,
          125,
          152,
          125,
          140,
          18,
          37,
          125,
          125,
          125,
          51,
          125,
          100,
          125,
          135,
          94,
          125,
          49,
          140,
          50,
          92,
          125,
          325,
          125,
          125,
          63,
          284,
          125,
          125,
          119,
          125,
          125,
          204,
          125,
          485,
          94,
          135,
          53,
          125,
          105,
          285,
          125,
          125,
          125,
          125,
          78,
          125,
          48,
          55,
          125,
          125,
          125,
          92,
          23,
          125,
          125,
          125,
          94,
          125,
          125,
          125,
          125,
          125,
          44,
          190,
          125,
          87,
          125,
          125,
          125,
          120,
          125,
          190,
          56,
          32,
          125,
          744,
          53,
          37,
          125,
          45,
          125,
          125,
          88,
          194,
          125,
          680,
          402,
          125,
          125,
          125,
          55,
          125,
          125,
          125,
          375,
          130,
          125,
          125,
          67,
          125,
          125,
          56,
          125,
          45,
          125,
          57,
          116,
          125,
          278,
          122,
          155,
          135,
          545,
          49,
          75,
          40,
          125,
          120,
          215,
          125,
          42,
          125,
          105,
          148,
          125,
          148,
          85,
          94,
          64,
          140,
          231,
          125,
          168,
          125,
          68,
          125,
          52,
          125,
          58,
          255,
          125,
          105,
          73,
          125,
          125,
          125,
          108,
          83,
          125,
          74,
          125,
          125,
          125,
          43,
          125,
          54,
          125,
          125,
          293,
          83,
          125,
          66,
          89,
          66,
          94,
          158,
          84,
          75,
          72,
          82,
          125,
          182,
          59,
          110,
          50,
          81,
          196,
          415,
          87,
          275,
          115,
          125,
          125,
          125,
          165,
          125,
          125,
          176,
          310,
          61,
          125,
          125,
          170,
          76,
          78,
          125,
          125,
          145,
          125,
          85,
          60,
          125,
          125,
          125,
          125,
          125,
          125,
          50,
          120,
          70,
          92,
          63,
          95,
          210,
          125,
          105,
          125,
          71,
          60,
          56,
          125,
          49,
          125,
          125,
          105,
          36,
          100,
          140,
          125,
          125,
          125,
          125,
          125,
          125,
          110,
          75,
          125,
          125,
          49,
          125,
          480,
          265,
          125,
          125,
          66,
          125,
          125,
          125,
          125,
          125,
          76,
          193,
          71,
          125,
          79,
          125,
          125,
          170,
          76,
          125,
          210,
          125,
          125,
          86,
          125,
          125,
          326,
          66,
          130,
          125,
          125,
          125,
          82,
          105,
          188,
          125,
          106,
          125,
          65,
          125,
          56,
          125,
          125,
          210,
          56,
          76,
          166,
          67,
          125,
          125,
          106,
          125,
          44,
          115,
          215,
          125,
          125,
          125,
          125,
          77,
          54,
          125,
          88,
          18,
          126,
          126,
          125,
          125,
          44,
          120,
          330,
          63,
          130,
          125,
          125,
          125,
          125,
          125,
          125,
          125,
          140,
          115,
          230,
          125,
          25,
          120,
          125,
          125,
          125,
          125,
          41,
          272,
          182,
          158,
          125,
          125,
          125,
          15,
          160,
          125,
          125,
          115,
          125,
          54,
          125,
          125,
          125,
          125,
          90,
          125,
          183,
          125,
          125,
          66,
          46,
          105,
          125,
          125,
          152,
          440,
          125,
          100,
          106,
          77,
          125,
          135,
          90,
          200,
          125,
          125,
          132,
          190,
          100,
          168,
          125,
          49,
          240,
          125,
          125,
          265,
          45,
          105,
          125,
          205,
          125,
          125,
          180,
          125,
          95,
          125,
          125,
          155,
          125,
          200,
          125,
          100,
          125,
          335,
          387,
          22,
          291,
          125,
          125,
          178,
          125,
          200,
          105,
          125,
          125,
          180,
          125,
          125,
          125,
          165,
          125,
          125,
          120,
          125,
          160,
          94,
          116,
          140,
          105,
          57,
          74,
          125,
          125,
          125,
          16,
          125,
          180,
          125,
          112,
          125
         ]
        }
       ],
       "layout": {
        "template": {
         "data": {
          "bar": [
           {
            "error_x": {
             "color": "#2a3f5f"
            },
            "error_y": {
             "color": "#2a3f5f"
            },
            "marker": {
             "line": {
              "color": "#E5ECF6",
              "width": 0.5
             }
            },
            "type": "bar"
           }
          ],
          "barpolar": [
           {
            "marker": {
             "line": {
              "color": "#E5ECF6",
              "width": 0.5
             }
            },
            "type": "barpolar"
           }
          ],
          "carpet": [
           {
            "aaxis": {
             "endlinecolor": "#2a3f5f",
             "gridcolor": "white",
             "linecolor": "white",
             "minorgridcolor": "white",
             "startlinecolor": "#2a3f5f"
            },
            "baxis": {
             "endlinecolor": "#2a3f5f",
             "gridcolor": "white",
             "linecolor": "white",
             "minorgridcolor": "white",
             "startlinecolor": "#2a3f5f"
            },
            "type": "carpet"
           }
          ],
          "choropleth": [
           {
            "colorbar": {
             "outlinewidth": 0,
             "ticks": ""
            },
            "type": "choropleth"
           }
          ],
          "contour": [
           {
            "colorbar": {
             "outlinewidth": 0,
             "ticks": ""
            },
            "colorscale": [
             [
              0,
              "#0d0887"
             ],
             [
              0.1111111111111111,
              "#46039f"
             ],
             [
              0.2222222222222222,
              "#7201a8"
             ],
             [
              0.3333333333333333,
              "#9c179e"
             ],
             [
              0.4444444444444444,
              "#bd3786"
             ],
             [
              0.5555555555555556,
              "#d8576b"
             ],
             [
              0.6666666666666666,
              "#ed7953"
             ],
             [
              0.7777777777777778,
              "#fb9f3a"
             ],
             [
              0.8888888888888888,
              "#fdca26"
             ],
             [
              1,
              "#f0f921"
             ]
            ],
            "type": "contour"
           }
          ],
          "contourcarpet": [
           {
            "colorbar": {
             "outlinewidth": 0,
             "ticks": ""
            },
            "type": "contourcarpet"
           }
          ],
          "heatmap": [
           {
            "colorbar": {
             "outlinewidth": 0,
             "ticks": ""
            },
            "colorscale": [
             [
              0,
              "#0d0887"
             ],
             [
              0.1111111111111111,
              "#46039f"
             ],
             [
              0.2222222222222222,
              "#7201a8"
             ],
             [
              0.3333333333333333,
              "#9c179e"
             ],
             [
              0.4444444444444444,
              "#bd3786"
             ],
             [
              0.5555555555555556,
              "#d8576b"
             ],
             [
              0.6666666666666666,
              "#ed7953"
             ],
             [
              0.7777777777777778,
              "#fb9f3a"
             ],
             [
              0.8888888888888888,
              "#fdca26"
             ],
             [
              1,
              "#f0f921"
             ]
            ],
            "type": "heatmap"
           }
          ],
          "heatmapgl": [
           {
            "colorbar": {
             "outlinewidth": 0,
             "ticks": ""
            },
            "colorscale": [
             [
              0,
              "#0d0887"
             ],
             [
              0.1111111111111111,
              "#46039f"
             ],
             [
              0.2222222222222222,
              "#7201a8"
             ],
             [
              0.3333333333333333,
              "#9c179e"
             ],
             [
              0.4444444444444444,
              "#bd3786"
             ],
             [
              0.5555555555555556,
              "#d8576b"
             ],
             [
              0.6666666666666666,
              "#ed7953"
             ],
             [
              0.7777777777777778,
              "#fb9f3a"
             ],
             [
              0.8888888888888888,
              "#fdca26"
             ],
             [
              1,
              "#f0f921"
             ]
            ],
            "type": "heatmapgl"
           }
          ],
          "histogram": [
           {
            "marker": {
             "colorbar": {
              "outlinewidth": 0,
              "ticks": ""
             }
            },
            "type": "histogram"
           }
          ],
          "histogram2d": [
           {
            "colorbar": {
             "outlinewidth": 0,
             "ticks": ""
            },
            "colorscale": [
             [
              0,
              "#0d0887"
             ],
             [
              0.1111111111111111,
              "#46039f"
             ],
             [
              0.2222222222222222,
              "#7201a8"
             ],
             [
              0.3333333333333333,
              "#9c179e"
             ],
             [
              0.4444444444444444,
              "#bd3786"
             ],
             [
              0.5555555555555556,
              "#d8576b"
             ],
             [
              0.6666666666666666,
              "#ed7953"
             ],
             [
              0.7777777777777778,
              "#fb9f3a"
             ],
             [
              0.8888888888888888,
              "#fdca26"
             ],
             [
              1,
              "#f0f921"
             ]
            ],
            "type": "histogram2d"
           }
          ],
          "histogram2dcontour": [
           {
            "colorbar": {
             "outlinewidth": 0,
             "ticks": ""
            },
            "colorscale": [
             [
              0,
              "#0d0887"
             ],
             [
              0.1111111111111111,
              "#46039f"
             ],
             [
              0.2222222222222222,
              "#7201a8"
             ],
             [
              0.3333333333333333,
              "#9c179e"
             ],
             [
              0.4444444444444444,
              "#bd3786"
             ],
             [
              0.5555555555555556,
              "#d8576b"
             ],
             [
              0.6666666666666666,
              "#ed7953"
             ],
             [
              0.7777777777777778,
              "#fb9f3a"
             ],
             [
              0.8888888888888888,
              "#fdca26"
             ],
             [
              1,
              "#f0f921"
             ]
            ],
            "type": "histogram2dcontour"
           }
          ],
          "mesh3d": [
           {
            "colorbar": {
             "outlinewidth": 0,
             "ticks": ""
            },
            "type": "mesh3d"
           }
          ],
          "parcoords": [
           {
            "line": {
             "colorbar": {
              "outlinewidth": 0,
              "ticks": ""
             }
            },
            "type": "parcoords"
           }
          ],
          "pie": [
           {
            "automargin": true,
            "type": "pie"
           }
          ],
          "scatter": [
           {
            "marker": {
             "colorbar": {
              "outlinewidth": 0,
              "ticks": ""
             }
            },
            "type": "scatter"
           }
          ],
          "scatter3d": [
           {
            "line": {
             "colorbar": {
              "outlinewidth": 0,
              "ticks": ""
             }
            },
            "marker": {
             "colorbar": {
              "outlinewidth": 0,
              "ticks": ""
             }
            },
            "type": "scatter3d"
           }
          ],
          "scattercarpet": [
           {
            "marker": {
             "colorbar": {
              "outlinewidth": 0,
              "ticks": ""
             }
            },
            "type": "scattercarpet"
           }
          ],
          "scattergeo": [
           {
            "marker": {
             "colorbar": {
              "outlinewidth": 0,
              "ticks": ""
             }
            },
            "type": "scattergeo"
           }
          ],
          "scattergl": [
           {
            "marker": {
             "colorbar": {
              "outlinewidth": 0,
              "ticks": ""
             }
            },
            "type": "scattergl"
           }
          ],
          "scattermapbox": [
           {
            "marker": {
             "colorbar": {
              "outlinewidth": 0,
              "ticks": ""
             }
            },
            "type": "scattermapbox"
           }
          ],
          "scatterpolar": [
           {
            "marker": {
             "colorbar": {
              "outlinewidth": 0,
              "ticks": ""
             }
            },
            "type": "scatterpolar"
           }
          ],
          "scatterpolargl": [
           {
            "marker": {
             "colorbar": {
              "outlinewidth": 0,
              "ticks": ""
             }
            },
            "type": "scatterpolargl"
           }
          ],
          "scatterternary": [
           {
            "marker": {
             "colorbar": {
              "outlinewidth": 0,
              "ticks": ""
             }
            },
            "type": "scatterternary"
           }
          ],
          "surface": [
           {
            "colorbar": {
             "outlinewidth": 0,
             "ticks": ""
            },
            "colorscale": [
             [
              0,
              "#0d0887"
             ],
             [
              0.1111111111111111,
              "#46039f"
             ],
             [
              0.2222222222222222,
              "#7201a8"
             ],
             [
              0.3333333333333333,
              "#9c179e"
             ],
             [
              0.4444444444444444,
              "#bd3786"
             ],
             [
              0.5555555555555556,
              "#d8576b"
             ],
             [
              0.6666666666666666,
              "#ed7953"
             ],
             [
              0.7777777777777778,
              "#fb9f3a"
             ],
             [
              0.8888888888888888,
              "#fdca26"
             ],
             [
              1,
              "#f0f921"
             ]
            ],
            "type": "surface"
           }
          ],
          "table": [
           {
            "cells": {
             "fill": {
              "color": "#EBF0F8"
             },
             "line": {
              "color": "white"
             }
            },
            "header": {
             "fill": {
              "color": "#C8D4E3"
             },
             "line": {
              "color": "white"
             }
            },
            "type": "table"
           }
          ]
         },
         "layout": {
          "annotationdefaults": {
           "arrowcolor": "#2a3f5f",
           "arrowhead": 0,
           "arrowwidth": 1
          },
          "coloraxis": {
           "colorbar": {
            "outlinewidth": 0,
            "ticks": ""
           }
          },
          "colorscale": {
           "diverging": [
            [
             0,
             "#8e0152"
            ],
            [
             0.1,
             "#c51b7d"
            ],
            [
             0.2,
             "#de77ae"
            ],
            [
             0.3,
             "#f1b6da"
            ],
            [
             0.4,
             "#fde0ef"
            ],
            [
             0.5,
             "#f7f7f7"
            ],
            [
             0.6,
             "#e6f5d0"
            ],
            [
             0.7,
             "#b8e186"
            ],
            [
             0.8,
             "#7fbc41"
            ],
            [
             0.9,
             "#4d9221"
            ],
            [
             1,
             "#276419"
            ]
           ],
           "sequential": [
            [
             0,
             "#0d0887"
            ],
            [
             0.1111111111111111,
             "#46039f"
            ],
            [
             0.2222222222222222,
             "#7201a8"
            ],
            [
             0.3333333333333333,
             "#9c179e"
            ],
            [
             0.4444444444444444,
             "#bd3786"
            ],
            [
             0.5555555555555556,
             "#d8576b"
            ],
            [
             0.6666666666666666,
             "#ed7953"
            ],
            [
             0.7777777777777778,
             "#fb9f3a"
            ],
            [
             0.8888888888888888,
             "#fdca26"
            ],
            [
             1,
             "#f0f921"
            ]
           ],
           "sequentialminus": [
            [
             0,
             "#0d0887"
            ],
            [
             0.1111111111111111,
             "#46039f"
            ],
            [
             0.2222222222222222,
             "#7201a8"
            ],
            [
             0.3333333333333333,
             "#9c179e"
            ],
            [
             0.4444444444444444,
             "#bd3786"
            ],
            [
             0.5555555555555556,
             "#d8576b"
            ],
            [
             0.6666666666666666,
             "#ed7953"
            ],
            [
             0.7777777777777778,
             "#fb9f3a"
            ],
            [
             0.8888888888888888,
             "#fdca26"
            ],
            [
             1,
             "#f0f921"
            ]
           ]
          },
          "colorway": [
           "#636efa",
           "#EF553B",
           "#00cc96",
           "#ab63fa",
           "#FFA15A",
           "#19d3f3",
           "#FF6692",
           "#B6E880",
           "#FF97FF",
           "#FECB52"
          ],
          "font": {
           "color": "#2a3f5f"
          },
          "geo": {
           "bgcolor": "white",
           "lakecolor": "white",
           "landcolor": "#E5ECF6",
           "showlakes": true,
           "showland": true,
           "subunitcolor": "white"
          },
          "hoverlabel": {
           "align": "left"
          },
          "hovermode": "closest",
          "mapbox": {
           "style": "light"
          },
          "paper_bgcolor": "white",
          "plot_bgcolor": "#E5ECF6",
          "polar": {
           "angularaxis": {
            "gridcolor": "white",
            "linecolor": "white",
            "ticks": ""
           },
           "bgcolor": "#E5ECF6",
           "radialaxis": {
            "gridcolor": "white",
            "linecolor": "white",
            "ticks": ""
           }
          },
          "scene": {
           "xaxis": {
            "backgroundcolor": "#E5ECF6",
            "gridcolor": "white",
            "gridwidth": 2,
            "linecolor": "white",
            "showbackground": true,
            "ticks": "",
            "zerolinecolor": "white"
           },
           "yaxis": {
            "backgroundcolor": "#E5ECF6",
            "gridcolor": "white",
            "gridwidth": 2,
            "linecolor": "white",
            "showbackground": true,
            "ticks": "",
            "zerolinecolor": "white"
           },
           "zaxis": {
            "backgroundcolor": "#E5ECF6",
            "gridcolor": "white",
            "gridwidth": 2,
            "linecolor": "white",
            "showbackground": true,
            "ticks": "",
            "zerolinecolor": "white"
           }
          },
          "shapedefaults": {
           "line": {
            "color": "#2a3f5f"
           }
          },
          "ternary": {
           "aaxis": {
            "gridcolor": "white",
            "linecolor": "white",
            "ticks": ""
           },
           "baxis": {
            "gridcolor": "white",
            "linecolor": "white",
            "ticks": ""
           },
           "bgcolor": "#E5ECF6",
           "caxis": {
            "gridcolor": "white",
            "linecolor": "white",
            "ticks": ""
           }
          },
          "title": {
           "x": 0.05
          },
          "xaxis": {
           "automargin": true,
           "gridcolor": "white",
           "linecolor": "white",
           "ticks": "",
           "title": {
            "standoff": 15
           },
           "zerolinecolor": "white",
           "zerolinewidth": 2
          },
          "yaxis": {
           "automargin": true,
           "gridcolor": "white",
           "linecolor": "white",
           "ticks": "",
           "title": {
            "standoff": 15
           },
           "zerolinecolor": "white",
           "zerolinewidth": 2
          }
         }
        },
        "title": {
         "text": "Glucose vs Insulin"
        },
        "xaxis": {
         "title": {
          "text": "Glucose"
         },
         "zeroline": false
        },
        "yaxis": {
         "title": {
          "text": "Insulin"
         },
         "zeroline": false
        }
       }
      },
      "text/html": [
       "<div>                            <div id=\"9d56e2d3-c5fd-47f6-8347-d265d4bd901f\" class=\"plotly-graph-div\" style=\"height:525px; width:100%;\"></div>            <script type=\"text/javascript\">                require([\"plotly\"], function(Plotly) {                    window.PLOTLYENV=window.PLOTLYENV || {};                                    if (document.getElementById(\"9d56e2d3-c5fd-47f6-8347-d265d4bd901f\")) {                    Plotly.newPlot(                        \"9d56e2d3-c5fd-47f6-8347-d265d4bd901f\",                        [{\"marker\": {\"color\": \"lightskyblue\", \"line\": {\"width\": 1}}, \"mode\": \"markers\", \"name\": \"diabetic\", \"opacity\": 0.8, \"type\": \"scatter\", \"x\": [148.0, 183.0, 137.0, 78.0, 197.0, 125.0, 168.0, 189.0, 166.0, 100.0, 118.0, 107.0, 115.0, 196.0, 119.0, 143.0, 125.0, 147.0, 158.0, 102.0, 90.0, 111.0, 171.0, 180.0, 103.0, 176.0, 187.0, 133.0, 114.0, 109.0, 100.0, 126.0, 131.0, 137.0, 136.0, 134.0, 122.0, 163.0, 95.0, 171.0, 155.0, 160.0, 146.0, 124.0, 162.0, 113.0, 88.0, 117.0, 105.0, 173.0, 122.0, 170.0, 108.0, 156.0, 188.0, 152.0, 163.0, 131.0, 104.0, 102.0, 134.0, 179.0, 129.0, 130.0, 194.0, 181.0, 128.0, 109.0, 139.0, 159.0, 135.0, 158.0, 107.0, 109.0, 148.0, 196.0, 162.0, 184.0, 140.0, 112.0, 151.0, 109.0, 85.0, 112.0, 177.0, 158.0, 162.0, 142.0, 134.0, 171.0, 181.0, 179.0, 164.0, 139.0, 119.0, 184.0, 92.0, 113.0, 155.0, 141.0, 123.0, 138.0, 146.0, 101.0, 106.0, 146.0, 161.0, 108.0, 119.0, 107.0, 128.0, 128.0, 146.0, 100.0, 167.0, 144.0, 115.0, 161.0, 128.0, 124.0, 155.0, 109.0, 182.0, 194.0, 112.0, 124.0, 152.0, 122.0, 102.0, 180.0, 115.0, 152.0, 178.0, 117.0, 165.0, 125.0, 129.0, 196.0, 189.0, 146.0, 124.0, 133.0, 173.0, 140.0, 156.0, 116.0, 105.0, 144.0, 166.0, 158.0, 131.0, 193.0, 95.0, 136.0, 168.0, 115.0, 197.0, 172.0, 138.0, 173.0, 144.0, 129.0, 151.0, 184.0, 181.0, 95.0, 141.0, 189.0, 108.0, 117.0, 180.0, 104.0, 134.0, 175.0, 148.0, 120.0, 105.0, 158.0, 145.0, 135.0, 125.0, 195.0, 117.0, 180.0, 84.0, 163.0, 145.0, 130.0, 132.0, 129.0, 100.0, 128.0, 90.0, 186.0, 187.0, 125.0, 198.0, 121.0, 118.0, 197.0, 151.0, 124.0, 143.0, 176.0, 111.0, 132.0, 188.0, 173.0, 150.0, 183.0, 181.0, 174.0, 168.0, 138.0, 112.0, 119.0, 114.0, 104.0, 97.0, 147.0, 167.0, 179.0, 136.0, 155.0, 80.0, 199.0, 167.0, 145.0, 115.0, 145.0, 111.0, 195.0, 156.0, 121.0, 162.0, 125.0, 144.0, 158.0, 129.0, 142.0, 169.0, 125.0, 168.0, 115.0, 164.0, 93.0, 129.0, 187.0, 173.0, 97.0, 149.0, 130.0, 120.0, 174.0, 102.0, 120.0, 140.0, 147.0, 187.0, 162.0, 136.0, 181.0, 154.0, 128.0, 123.0, 190.0, 170.0, 126.0], \"y\": [125.0, 125.0, 168.0, 88.0, 543.0, 125.0, 125.0, 846.0, 175.0, 125.0, 230.0, 125.0, 96.0, 125.0, 125.0, 146.0, 115.0, 125.0, 245.0, 125.0, 125.0, 207.0, 240.0, 125.0, 125.0, 300.0, 304.0, 125.0, 125.0, 125.0, 90.0, 125.0, 125.0, 125.0, 110.0, 125.0, 220.0, 125.0, 36.0, 135.0, 495.0, 175.0, 125.0, 125.0, 100.0, 125.0, 99.0, 145.0, 125.0, 168.0, 125.0, 225.0, 125.0, 155.0, 125.0, 125.0, 114.0, 125.0, 156.0, 125.0, 130.0, 130.0, 130.0, 125.0, 125.0, 495.0, 58.0, 114.0, 160.0, 125.0, 125.0, 210.0, 48.0, 99.0, 318.0, 280.0, 125.0, 125.0, 130.0, 175.0, 271.0, 129.0, 125.0, 125.0, 478.0, 125.0, 125.0, 125.0, 370.0, 125.0, 192.0, 125.0, 125.0, 125.0, 176.0, 125.0, 258.0, 125.0, 150.0, 125.0, 125.0, 125.0, 125.0, 125.0, 125.0, 125.0, 125.0, 125.0, 220.0, 74.0, 182.0, 194.0, 360.0, 184.0, 125.0, 135.0, 125.0, 132.0, 180.0, 205.0, 96.0, 125.0, 125.0, 125.0, 125.0, 125.0, 29.0, 156.0, 120.0, 125.0, 125.0, 171.0, 125.0, 125.0, 125.0, 167.0, 125.0, 249.0, 325.0, 125.0, 125.0, 140.0, 465.0, 325.0, 125.0, 125.0, 125.0, 285.0, 125.0, 125.0, 125.0, 125.0, 125.0, 88.0, 125.0, 125.0, 125.0, 579.0, 167.0, 474.0, 125.0, 115.0, 210.0, 277.0, 180.0, 180.0, 125.0, 125.0, 125.0, 125.0, 14.0, 64.0, 125.0, 125.0, 237.0, 125.0, 191.0, 328.0, 125.0, 250.0, 122.0, 145.0, 125.0, 90.0, 125.0, 105.0, 165.0, 125.0, 125.0, 155.0, 215.0, 190.0, 125.0, 225.0, 207.0, 125.0, 274.0, 165.0, 125.0, 125.0, 125.0, 600.0, 125.0, 156.0, 125.0, 125.0, 185.0, 125.0, 126.0, 125.0, 293.0, 194.0, 321.0, 144.0, 125.0, 125.0, 125.0, 125.0, 91.0, 125.0, 144.0, 159.0, 130.0, 540.0, 70.0, 125.0, 231.0, 130.0, 125.0, 125.0, 125.0, 125.0, 125.0, 125.0, 125.0, 125.0, 180.0, 125.0, 125.0, 480.0, 125.0, 125.0, 125.0, 125.0, 125.0, 160.0, 125.0, 392.0, 185.0, 125.0, 127.0, 79.0, 125.0, 120.0, 125.0, 150.0, 125.0, 125.0, 200.0, 125.0, 125.0, 510.0, 125.0, 110.0, 125.0, 125.0, 125.0, 125.0]}, {\"marker\": {\"color\": \"indigo\", \"line\": {\"width\": 1}}, \"mode\": \"markers\", \"name\": \"healthy\", \"opacity\": 0.8, \"type\": \"scatter\", \"x\": [85.0, 89.0, 116.0, 115.0, 110.0, 139.0, 103.0, 126.0, 99.0, 97.0, 145.0, 117.0, 109.0, 88.0, 92.0, 122.0, 103.0, 138.0, 180.0, 133.0, 106.0, 159.0, 146.0, 71.0, 105.0, 103.0, 101.0, 88.0, 150.0, 73.0, 100.0, 146.0, 105.0, 84.0, 44.0, 141.0, 99.0, 109.0, 95.0, 146.0, 139.0, 129.0, 79.0, 117.0, 62.0, 95.0, 112.0, 113.0, 74.0, 83.0, 101.0, 110.0, 106.0, 100.0, 107.0, 80.0, 123.0, 81.0, 142.0, 144.0, 92.0, 71.0, 93.0, 151.0, 125.0, 81.0, 85.0, 126.0, 96.0, 144.0, 83.0, 89.0, 76.0, 78.0, 97.0, 99.0, 111.0, 107.0, 132.0, 120.0, 118.0, 84.0, 96.0, 125.0, 100.0, 93.0, 129.0, 105.0, 128.0, 106.0, 108.0, 154.0, 102.0, 57.0, 106.0, 147.0, 90.0, 136.0, 114.0, 153.0, 99.0, 109.0, 88.0, 151.0, 102.0, 114.0, 100.0, 148.0, 120.0, 110.0, 111.0, 87.0, 79.0, 75.0, 85.0, 143.0, 87.0, 119.0, 117.0, 73.0, 141.0, 111.0, 123.0, 85.0, 105.0, 113.0, 138.0, 108.0, 99.0, 103.0, 111.0, 96.0, 81.0, 147.0, 179.0, 125.0, 119.0, 142.0, 100.0, 87.0, 101.0, 197.0, 117.0, 79.0, 122.0, 74.0, 104.0, 91.0, 91.0, 146.0, 122.0, 165.0, 124.0, 111.0, 106.0, 129.0, 90.0, 86.0, 111.0, 114.0, 193.0, 191.0, 95.0, 142.0, 96.0, 128.0, 102.0, 108.0, 122.0, 71.0, 106.0, 100.0, 104.0, 114.0, 108.0, 129.0, 133.0, 136.0, 155.0, 96.0, 108.0, 78.0, 161.0, 151.0, 126.0, 112.0, 77.0, 150.0, 120.0, 137.0, 80.0, 106.0, 113.0, 112.0, 99.0, 115.0, 129.0, 112.0, 157.0, 179.0, 105.0, 118.0, 87.0, 106.0, 95.0, 165.0, 117.0, 130.0, 95.0, 117.0, 122.0, 95.0, 126.0, 139.0, 116.0, 99.0, 92.0, 137.0, 61.0, 90.0, 90.0, 88.0, 158.0, 103.0, 147.0, 99.0, 101.0, 81.0, 118.0, 84.0, 105.0, 122.0, 98.0, 87.0, 93.0, 107.0, 105.0, 109.0, 90.0, 125.0, 119.0, 100.0, 100.0, 131.0, 116.0, 127.0, 96.0, 82.0, 137.0, 72.0, 123.0, 101.0, 102.0, 112.0, 143.0, 143.0, 97.0, 83.0, 119.0, 94.0, 102.0, 115.0, 94.0, 135.0, 99.0, 89.0, 80.0, 139.0, 90.0, 140.0, 147.0, 97.0, 107.0, 83.0, 117.0, 100.0, 95.0, 120.0, 82.0, 91.0, 119.0, 100.0, 135.0, 86.0, 134.0, 120.0, 71.0, 74.0, 88.0, 115.0, 124.0, 74.0, 97.0, 154.0, 144.0, 137.0, 119.0, 136.0, 114.0, 137.0, 114.0, 126.0, 132.0, 123.0, 85.0, 84.0, 139.0, 173.0, 99.0, 194.0, 83.0, 89.0, 99.0, 80.0, 166.0, 110.0, 81.0, 154.0, 117.0, 84.0, 94.0, 96.0, 75.0, 130.0, 84.0, 120.0, 139.0, 91.0, 91.0, 99.0, 125.0, 76.0, 129.0, 68.0, 124.0, 114.0, 125.0, 87.0, 97.0, 116.0, 117.0, 111.0, 122.0, 107.0, 86.0, 91.0, 77.0, 105.0, 57.0, 127.0, 84.0, 88.0, 131.0, 164.0, 189.0, 116.0, 84.0, 114.0, 88.0, 84.0, 124.0, 97.0, 110.0, 103.0, 85.0, 87.0, 99.0, 91.0, 95.0, 99.0, 92.0, 154.0, 78.0, 130.0, 111.0, 98.0, 143.0, 119.0, 108.0, 133.0, 109.0, 121.0, 100.0, 93.0, 103.0, 73.0, 112.0, 82.0, 123.0, 67.0, 89.0, 109.0, 108.0, 96.0, 124.0, 124.0, 92.0, 152.0, 111.0, 106.0, 105.0, 106.0, 117.0, 68.0, 112.0, 92.0, 183.0, 94.0, 108.0, 90.0, 125.0, 132.0, 128.0, 94.0, 102.0, 111.0, 128.0, 92.0, 104.0, 94.0, 100.0, 102.0, 128.0, 90.0, 103.0, 157.0, 107.0, 91.0, 117.0, 123.0, 120.0, 106.0, 101.0, 120.0, 127.0, 162.0, 112.0, 98.0, 154.0, 165.0, 99.0, 68.0, 123.0, 91.0, 93.0, 101.0, 56.0, 95.0, 136.0, 129.0, 130.0, 107.0, 140.0, 107.0, 121.0, 90.0, 99.0, 127.0, 118.0, 122.0, 129.0, 110.0, 80.0, 127.0, 158.0, 126.0, 134.0, 102.0, 94.0, 108.0, 83.0, 114.0, 117.0, 111.0, 112.0, 116.0, 141.0, 175.0, 92.0, 106.0, 105.0, 95.0, 126.0, 65.0, 99.0, 102.0, 109.0, 153.0, 100.0, 81.0, 121.0, 108.0, 137.0, 106.0, 88.0, 89.0, 101.0, 122.0, 121.0, 93.0], \"y\": [125.0, 94.0, 125.0, 125.0, 125.0, 125.0, 83.0, 235.0, 125.0, 140.0, 110.0, 125.0, 125.0, 54.0, 125.0, 125.0, 192.0, 125.0, 70.0, 125.0, 125.0, 125.0, 125.0, 125.0, 125.0, 82.0, 36.0, 23.0, 342.0, 125.0, 110.0, 125.0, 142.0, 125.0, 125.0, 128.0, 125.0, 125.0, 38.0, 100.0, 140.0, 270.0, 125.0, 125.0, 125.0, 125.0, 125.0, 125.0, 125.0, 71.0, 125.0, 125.0, 125.0, 71.0, 125.0, 125.0, 176.0, 48.0, 64.0, 228.0, 125.0, 76.0, 64.0, 125.0, 125.0, 40.0, 125.0, 152.0, 125.0, 140.0, 18.0, 37.0, 125.0, 125.0, 125.0, 51.0, 125.0, 100.0, 125.0, 135.0, 94.0, 125.0, 49.0, 140.0, 50.0, 92.0, 125.0, 325.0, 125.0, 125.0, 63.0, 284.0, 125.0, 125.0, 119.0, 125.0, 125.0, 204.0, 125.0, 485.0, 94.0, 135.0, 53.0, 125.0, 105.0, 285.0, 125.0, 125.0, 125.0, 125.0, 78.0, 125.0, 48.0, 55.0, 125.0, 125.0, 125.0, 92.0, 23.0, 125.0, 125.0, 125.0, 94.0, 125.0, 125.0, 125.0, 125.0, 125.0, 44.0, 190.0, 125.0, 87.0, 125.0, 125.0, 125.0, 120.0, 125.0, 190.0, 56.0, 32.0, 125.0, 744.0, 53.0, 37.0, 125.0, 45.0, 125.0, 125.0, 88.0, 194.0, 125.0, 680.0, 402.0, 125.0, 125.0, 125.0, 55.0, 125.0, 125.0, 125.0, 375.0, 130.0, 125.0, 125.0, 67.0, 125.0, 125.0, 56.0, 125.0, 45.0, 125.0, 57.0, 116.0, 125.0, 278.0, 122.0, 155.0, 135.0, 545.0, 49.0, 75.0, 40.0, 125.0, 120.0, 215.0, 125.0, 42.0, 125.0, 105.0, 148.0, 125.0, 148.0, 85.0, 94.0, 64.0, 140.0, 231.0, 125.0, 168.0, 125.0, 68.0, 125.0, 52.0, 125.0, 58.0, 255.0, 125.0, 105.0, 73.0, 125.0, 125.0, 125.0, 108.0, 83.0, 125.0, 74.0, 125.0, 125.0, 125.0, 43.0, 125.0, 54.0, 125.0, 125.0, 293.0, 83.0, 125.0, 66.0, 89.0, 66.0, 94.0, 158.0, 84.0, 75.0, 72.0, 82.0, 125.0, 182.0, 59.0, 110.0, 50.0, 81.0, 196.0, 415.0, 87.0, 275.0, 115.0, 125.0, 125.0, 125.0, 165.0, 125.0, 125.0, 176.0, 310.0, 61.0, 125.0, 125.0, 170.0, 76.0, 78.0, 125.0, 125.0, 145.0, 125.0, 85.0, 60.0, 125.0, 125.0, 125.0, 125.0, 125.0, 125.0, 50.0, 120.0, 70.0, 92.0, 63.0, 95.0, 210.0, 125.0, 105.0, 125.0, 71.0, 60.0, 56.0, 125.0, 49.0, 125.0, 125.0, 105.0, 36.0, 100.0, 140.0, 125.0, 125.0, 125.0, 125.0, 125.0, 125.0, 110.0, 75.0, 125.0, 125.0, 49.0, 125.0, 480.0, 265.0, 125.0, 125.0, 66.0, 125.0, 125.0, 125.0, 125.0, 125.0, 76.0, 193.0, 71.0, 125.0, 79.0, 125.0, 125.0, 170.0, 76.0, 125.0, 210.0, 125.0, 125.0, 86.0, 125.0, 125.0, 326.0, 66.0, 130.0, 125.0, 125.0, 125.0, 82.0, 105.0, 188.0, 125.0, 106.0, 125.0, 65.0, 125.0, 56.0, 125.0, 125.0, 210.0, 56.0, 76.0, 166.0, 67.0, 125.0, 125.0, 106.0, 125.0, 44.0, 115.0, 215.0, 125.0, 125.0, 125.0, 125.0, 77.0, 54.0, 125.0, 88.0, 18.0, 126.0, 126.0, 125.0, 125.0, 44.0, 120.0, 330.0, 63.0, 130.0, 125.0, 125.0, 125.0, 125.0, 125.0, 125.0, 125.0, 140.0, 115.0, 230.0, 125.0, 25.0, 120.0, 125.0, 125.0, 125.0, 125.0, 41.0, 272.0, 182.0, 158.0, 125.0, 125.0, 125.0, 15.0, 160.0, 125.0, 125.0, 115.0, 125.0, 54.0, 125.0, 125.0, 125.0, 125.0, 90.0, 125.0, 183.0, 125.0, 125.0, 66.0, 46.0, 105.0, 125.0, 125.0, 152.0, 440.0, 125.0, 100.0, 106.0, 77.0, 125.0, 135.0, 90.0, 200.0, 125.0, 125.0, 132.0, 190.0, 100.0, 168.0, 125.0, 49.0, 240.0, 125.0, 125.0, 265.0, 45.0, 105.0, 125.0, 205.0, 125.0, 125.0, 180.0, 125.0, 95.0, 125.0, 125.0, 155.0, 125.0, 200.0, 125.0, 100.0, 125.0, 335.0, 387.0, 22.0, 291.0, 125.0, 125.0, 178.0, 125.0, 200.0, 105.0, 125.0, 125.0, 180.0, 125.0, 125.0, 125.0, 165.0, 125.0, 125.0, 120.0, 125.0, 160.0, 94.0, 116.0, 140.0, 105.0, 57.0, 74.0, 125.0, 125.0, 125.0, 16.0, 125.0, 180.0, 125.0, 112.0, 125.0]}],                        {\"template\": {\"data\": {\"bar\": [{\"error_x\": {\"color\": \"#2a3f5f\"}, \"error_y\": {\"color\": \"#2a3f5f\"}, \"marker\": {\"line\": {\"color\": \"#E5ECF6\", \"width\": 0.5}}, \"type\": \"bar\"}], \"barpolar\": [{\"marker\": {\"line\": {\"color\": \"#E5ECF6\", \"width\": 0.5}}, \"type\": \"barpolar\"}], \"carpet\": [{\"aaxis\": {\"endlinecolor\": \"#2a3f5f\", \"gridcolor\": \"white\", \"linecolor\": \"white\", \"minorgridcolor\": \"white\", \"startlinecolor\": \"#2a3f5f\"}, \"baxis\": {\"endlinecolor\": \"#2a3f5f\", \"gridcolor\": \"white\", \"linecolor\": \"white\", \"minorgridcolor\": \"white\", \"startlinecolor\": \"#2a3f5f\"}, \"type\": \"carpet\"}], \"choropleth\": [{\"colorbar\": {\"outlinewidth\": 0, \"ticks\": \"\"}, \"type\": \"choropleth\"}], \"contour\": [{\"colorbar\": {\"outlinewidth\": 0, \"ticks\": \"\"}, \"colorscale\": [[0.0, \"#0d0887\"], [0.1111111111111111, \"#46039f\"], [0.2222222222222222, \"#7201a8\"], [0.3333333333333333, \"#9c179e\"], [0.4444444444444444, \"#bd3786\"], [0.5555555555555556, \"#d8576b\"], [0.6666666666666666, \"#ed7953\"], [0.7777777777777778, \"#fb9f3a\"], [0.8888888888888888, \"#fdca26\"], [1.0, \"#f0f921\"]], \"type\": \"contour\"}], \"contourcarpet\": [{\"colorbar\": {\"outlinewidth\": 0, \"ticks\": \"\"}, \"type\": \"contourcarpet\"}], \"heatmap\": [{\"colorbar\": {\"outlinewidth\": 0, \"ticks\": \"\"}, \"colorscale\": [[0.0, \"#0d0887\"], [0.1111111111111111, \"#46039f\"], [0.2222222222222222, \"#7201a8\"], [0.3333333333333333, \"#9c179e\"], [0.4444444444444444, \"#bd3786\"], [0.5555555555555556, \"#d8576b\"], [0.6666666666666666, \"#ed7953\"], [0.7777777777777778, \"#fb9f3a\"], [0.8888888888888888, \"#fdca26\"], [1.0, \"#f0f921\"]], \"type\": \"heatmap\"}], \"heatmapgl\": [{\"colorbar\": {\"outlinewidth\": 0, \"ticks\": \"\"}, \"colorscale\": [[0.0, \"#0d0887\"], [0.1111111111111111, \"#46039f\"], [0.2222222222222222, \"#7201a8\"], [0.3333333333333333, \"#9c179e\"], [0.4444444444444444, \"#bd3786\"], [0.5555555555555556, \"#d8576b\"], [0.6666666666666666, \"#ed7953\"], [0.7777777777777778, \"#fb9f3a\"], [0.8888888888888888, \"#fdca26\"], [1.0, \"#f0f921\"]], \"type\": \"heatmapgl\"}], \"histogram\": [{\"marker\": {\"colorbar\": {\"outlinewidth\": 0, \"ticks\": \"\"}}, \"type\": \"histogram\"}], \"histogram2d\": [{\"colorbar\": {\"outlinewidth\": 0, \"ticks\": \"\"}, \"colorscale\": [[0.0, \"#0d0887\"], [0.1111111111111111, \"#46039f\"], [0.2222222222222222, \"#7201a8\"], [0.3333333333333333, \"#9c179e\"], [0.4444444444444444, \"#bd3786\"], [0.5555555555555556, \"#d8576b\"], [0.6666666666666666, \"#ed7953\"], [0.7777777777777778, \"#fb9f3a\"], [0.8888888888888888, \"#fdca26\"], [1.0, \"#f0f921\"]], \"type\": \"histogram2d\"}], \"histogram2dcontour\": [{\"colorbar\": {\"outlinewidth\": 0, \"ticks\": \"\"}, \"colorscale\": [[0.0, \"#0d0887\"], [0.1111111111111111, \"#46039f\"], [0.2222222222222222, \"#7201a8\"], [0.3333333333333333, \"#9c179e\"], [0.4444444444444444, \"#bd3786\"], [0.5555555555555556, \"#d8576b\"], [0.6666666666666666, \"#ed7953\"], [0.7777777777777778, \"#fb9f3a\"], [0.8888888888888888, \"#fdca26\"], [1.0, \"#f0f921\"]], \"type\": \"histogram2dcontour\"}], \"mesh3d\": [{\"colorbar\": {\"outlinewidth\": 0, \"ticks\": \"\"}, \"type\": \"mesh3d\"}], \"parcoords\": [{\"line\": {\"colorbar\": {\"outlinewidth\": 0, \"ticks\": \"\"}}, \"type\": \"parcoords\"}], \"pie\": [{\"automargin\": true, \"type\": \"pie\"}], \"scatter\": [{\"marker\": {\"colorbar\": {\"outlinewidth\": 0, \"ticks\": \"\"}}, \"type\": \"scatter\"}], \"scatter3d\": [{\"line\": {\"colorbar\": {\"outlinewidth\": 0, \"ticks\": \"\"}}, \"marker\": {\"colorbar\": {\"outlinewidth\": 0, \"ticks\": \"\"}}, \"type\": \"scatter3d\"}], \"scattercarpet\": [{\"marker\": {\"colorbar\": {\"outlinewidth\": 0, \"ticks\": \"\"}}, \"type\": \"scattercarpet\"}], \"scattergeo\": [{\"marker\": {\"colorbar\": {\"outlinewidth\": 0, \"ticks\": \"\"}}, \"type\": \"scattergeo\"}], \"scattergl\": [{\"marker\": {\"colorbar\": {\"outlinewidth\": 0, \"ticks\": \"\"}}, \"type\": \"scattergl\"}], \"scattermapbox\": [{\"marker\": {\"colorbar\": {\"outlinewidth\": 0, \"ticks\": \"\"}}, \"type\": \"scattermapbox\"}], \"scatterpolar\": [{\"marker\": {\"colorbar\": {\"outlinewidth\": 0, \"ticks\": \"\"}}, \"type\": \"scatterpolar\"}], \"scatterpolargl\": [{\"marker\": {\"colorbar\": {\"outlinewidth\": 0, \"ticks\": \"\"}}, \"type\": \"scatterpolargl\"}], \"scatterternary\": [{\"marker\": {\"colorbar\": {\"outlinewidth\": 0, \"ticks\": \"\"}}, \"type\": \"scatterternary\"}], \"surface\": [{\"colorbar\": {\"outlinewidth\": 0, \"ticks\": \"\"}, \"colorscale\": [[0.0, \"#0d0887\"], [0.1111111111111111, \"#46039f\"], [0.2222222222222222, \"#7201a8\"], [0.3333333333333333, \"#9c179e\"], [0.4444444444444444, \"#bd3786\"], [0.5555555555555556, \"#d8576b\"], [0.6666666666666666, \"#ed7953\"], [0.7777777777777778, \"#fb9f3a\"], [0.8888888888888888, \"#fdca26\"], [1.0, \"#f0f921\"]], \"type\": \"surface\"}], \"table\": [{\"cells\": {\"fill\": {\"color\": \"#EBF0F8\"}, \"line\": {\"color\": \"white\"}}, \"header\": {\"fill\": {\"color\": \"#C8D4E3\"}, \"line\": {\"color\": \"white\"}}, \"type\": \"table\"}]}, \"layout\": {\"annotationdefaults\": {\"arrowcolor\": \"#2a3f5f\", \"arrowhead\": 0, \"arrowwidth\": 1}, \"coloraxis\": {\"colorbar\": {\"outlinewidth\": 0, \"ticks\": \"\"}}, \"colorscale\": {\"diverging\": [[0, \"#8e0152\"], [0.1, \"#c51b7d\"], [0.2, \"#de77ae\"], [0.3, \"#f1b6da\"], [0.4, \"#fde0ef\"], [0.5, \"#f7f7f7\"], [0.6, \"#e6f5d0\"], [0.7, \"#b8e186\"], [0.8, \"#7fbc41\"], [0.9, \"#4d9221\"], [1, \"#276419\"]], \"sequential\": [[0.0, \"#0d0887\"], [0.1111111111111111, \"#46039f\"], [0.2222222222222222, \"#7201a8\"], [0.3333333333333333, \"#9c179e\"], [0.4444444444444444, \"#bd3786\"], [0.5555555555555556, \"#d8576b\"], [0.6666666666666666, \"#ed7953\"], [0.7777777777777778, \"#fb9f3a\"], [0.8888888888888888, \"#fdca26\"], [1.0, \"#f0f921\"]], \"sequentialminus\": [[0.0, \"#0d0887\"], [0.1111111111111111, \"#46039f\"], [0.2222222222222222, \"#7201a8\"], [0.3333333333333333, \"#9c179e\"], [0.4444444444444444, \"#bd3786\"], [0.5555555555555556, \"#d8576b\"], [0.6666666666666666, \"#ed7953\"], [0.7777777777777778, \"#fb9f3a\"], [0.8888888888888888, \"#fdca26\"], [1.0, \"#f0f921\"]]}, \"colorway\": [\"#636efa\", \"#EF553B\", \"#00cc96\", \"#ab63fa\", \"#FFA15A\", \"#19d3f3\", \"#FF6692\", \"#B6E880\", \"#FF97FF\", \"#FECB52\"], \"font\": {\"color\": \"#2a3f5f\"}, \"geo\": {\"bgcolor\": \"white\", \"lakecolor\": \"white\", \"landcolor\": \"#E5ECF6\", \"showlakes\": true, \"showland\": true, \"subunitcolor\": \"white\"}, \"hoverlabel\": {\"align\": \"left\"}, \"hovermode\": \"closest\", \"mapbox\": {\"style\": \"light\"}, \"paper_bgcolor\": \"white\", \"plot_bgcolor\": \"#E5ECF6\", \"polar\": {\"angularaxis\": {\"gridcolor\": \"white\", \"linecolor\": \"white\", \"ticks\": \"\"}, \"bgcolor\": \"#E5ECF6\", \"radialaxis\": {\"gridcolor\": \"white\", \"linecolor\": \"white\", \"ticks\": \"\"}}, \"scene\": {\"xaxis\": {\"backgroundcolor\": \"#E5ECF6\", \"gridcolor\": \"white\", \"gridwidth\": 2, \"linecolor\": \"white\", \"showbackground\": true, \"ticks\": \"\", \"zerolinecolor\": \"white\"}, \"yaxis\": {\"backgroundcolor\": \"#E5ECF6\", \"gridcolor\": \"white\", \"gridwidth\": 2, \"linecolor\": \"white\", \"showbackground\": true, \"ticks\": \"\", \"zerolinecolor\": \"white\"}, \"zaxis\": {\"backgroundcolor\": \"#E5ECF6\", \"gridcolor\": \"white\", \"gridwidth\": 2, \"linecolor\": \"white\", \"showbackground\": true, \"ticks\": \"\", \"zerolinecolor\": \"white\"}}, \"shapedefaults\": {\"line\": {\"color\": \"#2a3f5f\"}}, \"ternary\": {\"aaxis\": {\"gridcolor\": \"white\", \"linecolor\": \"white\", \"ticks\": \"\"}, \"baxis\": {\"gridcolor\": \"white\", \"linecolor\": \"white\", \"ticks\": \"\"}, \"bgcolor\": \"#E5ECF6\", \"caxis\": {\"gridcolor\": \"white\", \"linecolor\": \"white\", \"ticks\": \"\"}}, \"title\": {\"x\": 0.05}, \"xaxis\": {\"automargin\": true, \"gridcolor\": \"white\", \"linecolor\": \"white\", \"ticks\": \"\", \"title\": {\"standoff\": 15}, \"zerolinecolor\": \"white\", \"zerolinewidth\": 2}, \"yaxis\": {\"automargin\": true, \"gridcolor\": \"white\", \"linecolor\": \"white\", \"ticks\": \"\", \"title\": {\"standoff\": 15}, \"zerolinecolor\": \"white\", \"zerolinewidth\": 2}}}, \"title\": {\"text\": \"Glucose vs Insulin\"}, \"xaxis\": {\"title\": {\"text\": \"Glucose\"}, \"zeroline\": false}, \"yaxis\": {\"title\": {\"text\": \"Insulin\"}, \"zeroline\": false}},                        {\"responsive\": true}                    ).then(function(){\n",
       "                            \n",
       "var gd = document.getElementById('9d56e2d3-c5fd-47f6-8347-d265d4bd901f');\n",
       "var x = new MutationObserver(function (mutations, observer) {{\n",
       "        var display = window.getComputedStyle(gd).display;\n",
       "        if (!display || display === 'none') {{\n",
       "            console.log([gd, 'removed!']);\n",
       "            Plotly.purge(gd);\n",
       "            observer.disconnect();\n",
       "        }}\n",
       "}});\n",
       "\n",
       "// Listen for the removal of the full notebook cells\n",
       "var notebookContainer = gd.closest('#notebook-container');\n",
       "if (notebookContainer) {{\n",
       "    x.observe(notebookContainer, {childList: true});\n",
       "}}\n",
       "\n",
       "// Listen for the clearing of the current output cell\n",
       "var outputEl = gd.closest('.output');\n",
       "if (outputEl) {{\n",
       "    x.observe(outputEl, {childList: true});\n",
       "}}\n",
       "\n",
       "                        })                };                });            </script>        </div>"
      ]
     },
     "metadata": {},
     "output_type": "display_data"
    }
   ],
   "source": [
    "plot_feat1_feat2('Glucose', 'Insulin')"
   ]
  },
  {
   "cell_type": "markdown",
   "metadata": {},
   "source": [
    "Here we can see that people with Glucose> 100 and Insulin > 180 are more likly to be affected with diageties."
   ]
  },
  {
   "cell_type": "code",
   "execution_count": 28,
   "metadata": {},
   "outputs": [
    {
     "data": {
      "application/vnd.plotly.v1+json": {
       "config": {
        "linkText": "Export to plot.ly",
        "plotlyServerURL": "https://plot.ly",
        "showLink": false
       },
       "data": [
        {
         "marker": {
          "color": "lightskyblue",
          "line": {
           "width": 1
          }
         },
         "mode": "markers",
         "name": "diabetic",
         "opacity": 0.8,
         "type": "scatter",
         "x": [
          35,
          29.153419593345657,
          35,
          32,
          45,
          29.153419593345657,
          29.153419593345657,
          23,
          19,
          29.153419593345657,
          47,
          29.153419593345657,
          30,
          29.153419593345657,
          35,
          33,
          26,
          29.153419593345657,
          36,
          37,
          42,
          47,
          24,
          39,
          32,
          34,
          39,
          29.153419593345657,
          29.153419593345657,
          30,
          20,
          29.153419593345657,
          29.153419593345657,
          29.153419593345657,
          32,
          29.153419593345657,
          51,
          29.153419593345657,
          25,
          33,
          26,
          32,
          29.153419593345657,
          29.153419593345657,
          56,
          29.153419593345657,
          42,
          24,
          29.153419593345657,
          14,
          29.153419593345657,
          37,
          29.153419593345657,
          28,
          29.153419593345657,
          44,
          41,
          29.153419593345657,
          18,
          29.153419593345657,
          23,
          42,
          46,
          29.153419593345657,
          28,
          36,
          41,
          39,
          35,
          29.153419593345657,
          29.153419593345657,
          41,
          13,
          44,
          27,
          29,
          29.153419593345657,
          33,
          26,
          32,
          40,
          41,
          22,
          29.153419593345657,
          29,
          29.153419593345657,
          38,
          29.153419593345657,
          37,
          29.153419593345657,
          21,
          27,
          21,
          29.153419593345657,
          22,
          15,
          7,
          35,
          28,
          29.153419593345657,
          29.153419593345657,
          29.153419593345657,
          29.153419593345657,
          37,
          24,
          29.153419593345657,
          29.153419593345657,
          29.153419593345657,
          39,
          30,
          37,
          45,
          38,
          25,
          29.153419593345657,
          33,
          29.153419593345657,
          23,
          19,
          28,
          17,
          31,
          29.153419593345657,
          29.153419593345657,
          30,
          20,
          33,
          32,
          36,
          29.153419593345657,
          29.153419593345657,
          34,
          29.153419593345657,
          32,
          29.153419593345657,
          40,
          30,
          36,
          33,
          29.153419593345657,
          29.153419593345657,
          28,
          48,
          43,
          29.153419593345657,
          29,
          36,
          26,
          29.153419593345657,
          29.153419593345657,
          40,
          31,
          29.153419593345657,
          41,
          29.153419593345657,
          29.153419593345657,
          29.153419593345657,
          49,
          35,
          33,
          32,
          29,
          32,
          39,
          30,
          25,
          29.153419593345657,
          25,
          29.153419593345657,
          12,
          63,
          37,
          29.153419593345657,
          30,
          48,
          29.153419593345657,
          45,
          30,
          29.153419593345657,
          42,
          18,
          33,
          41,
          26,
          31,
          18,
          34,
          29.153419593345657,
          29.153419593345657,
          49,
          40,
          25,
          32,
          35,
          27,
          29.153419593345657,
          32,
          30,
          29.153419593345657,
          99,
          46,
          24,
          29.153419593345657,
          27,
          40,
          29.153419593345657,
          14,
          29.153419593345657,
          29,
          29.153419593345657,
          42,
          22,
          42,
          26,
          24,
          29.153419593345657,
          29.153419593345657,
          29.153419593345657,
          32,
          29.153419593345657,
          17,
          36,
          35,
          27,
          31,
          43,
          46,
          46,
          39,
          18,
          27,
          29.153419593345657,
          29.153419593345657,
          29.153419593345657,
          36,
          29.153419593345657,
          46,
          29.153419593345657,
          49,
          24,
          19,
          31,
          29,
          29.153419593345657,
          29.153419593345657,
          32,
          36,
          33,
          39,
          27,
          29,
          23,
          29.153419593345657,
          37,
          29.153419593345657,
          37,
          29.153419593345657,
          41,
          22,
          29.153419593345657,
          29.153419593345657,
          44,
          32,
          39,
          29.153419593345657,
          29.153419593345657,
          31,
          29.153419593345657
         ],
         "y": [
          "33.6",
          "23.3",
          "43.1",
          "31",
          "30.5",
          "0",
          "38",
          "30.1",
          "25.8",
          "30",
          "45.8",
          "29.6",
          "34.6",
          "39.8",
          "29",
          "36.6",
          "31.1",
          "39.4",
          "31.6",
          "32.9",
          "38.2",
          "37.1",
          "45.4",
          "42",
          "39.1",
          "33.7",
          "37.7",
          "32.9",
          "32.8",
          "32.5",
          "32.9",
          "43.4",
          "43.2",
          "48.8",
          "37.1",
          "23.8",
          "49.7",
          "39",
          "37.4",
          "33.3",
          "34",
          "30.5",
          "31.2",
          "34",
          "53.2",
          "33.3",
          "55",
          "34.5",
          "27.9",
          "29.7",
          "33.3",
          "34.5",
          "32.4",
          "34.3",
          "47.9",
          "50",
          "40.9",
          "31.6",
          "29.9",
          "30.8",
          "35.4",
          "32.7",
          "67.1",
          "39.1",
          "35.9",
          "30.1",
          "32",
          "27.9",
          "31.6",
          "30.4",
          "52.3",
          "39.4",
          "22.9",
          "34.8",
          "30.9",
          "37.5",
          "37.7",
          "35.5",
          "42.6",
          "34.2",
          "41.8",
          "35.8",
          "29",
          "37.8",
          "34.6",
          "31.6",
          "37.2",
          "44",
          "46.2",
          "43.6",
          "35.9",
          "44.1",
          "30.8",
          "25.6",
          "27.1",
          "30",
          "27.6",
          "33.6",
          "33.3",
          "30",
          "32",
          "36.3",
          "27.5",
          "45.6",
          "26.5",
          "37.9",
          "30.4",
          "27",
          "45.6",
          "36.6",
          "43.3",
          "40.5",
          "28",
          "36.6",
          "32.3",
          "31.6",
          "52.9",
          "25.5",
          "30.5",
          "32.9",
          "26.6",
          "35.9",
          "30.5",
          "23.5",
          "31.6",
          "27.4",
          "26.8",
          "35.1",
          "45.5",
          "43.3",
          "31.2",
          "34.2",
          "39.9",
          "41",
          "30.4",
          "33.3",
          "39.9",
          "36.5",
          "31.2",
          "38.5",
          "27.6",
          "32.8",
          "38.4",
          "39.2",
          "48.3",
          "32.3",
          "43.3",
          "32",
          "45.7",
          "32.9",
          "34.3",
          "34.9",
          "32",
          "35",
          "32.9",
          "28.9",
          "25.9",
          "42.4",
          "34.6",
          "35.7",
          "38.5",
          "26.4",
          "42.9",
          "37",
          "34.1",
          "35",
          "42.4",
          "34.3",
          "30.5",
          "29.7",
          "59.4",
          "33.6",
          "28.9",
          "33.6",
          "37.6",
          "30",
          "33.7",
          "35.5",
          "44.2",
          "42.3",
          "28.9",
          "25.1",
          "39",
          "36.5",
          "29.7",
          "31.6",
          "30.3",
          "34.2",
          "32.9",
          "36.4",
          "39.4",
          "32.4",
          "34.9",
          "34.5",
          "43.6",
          "33.8",
          "41.3",
          "34.3",
          "42.9",
          "34.7",
          "42.1",
          "28.7",
          "34.9",
          "33.3",
          "46.8",
          "34.4",
          "32",
          "36.8",
          "35.2",
          "28.4",
          "40",
          "32.9",
          "38.2",
          "36.1",
          "28.2",
          "32.4",
          "27.4",
          "31.2",
          "40.9",
          "29.5",
          "23.4",
          "37.8",
          "28.3",
          "38.7",
          "34.2",
          "42.9",
          "37.6",
          "37.9",
          "33.7",
          "32.5",
          "27.5",
          "30.9",
          "24.8",
          "36",
          "49.6",
          "32.3",
          "46.1",
          "42.3",
          "38.5",
          "30.4",
          "29.9",
          "27.6",
          "35",
          "0",
          "32.8",
          "38",
          "41.2",
          "33.9",
          "33.8",
          "35.6",
          "29.3",
          "28.4",
          "28.4",
          "44.5",
          "39.5",
          "42.3",
          "32.7",
          "49.3",
          "36.4",
          "24.3",
          "31.2",
          "43.3",
          "32.4",
          "36.5",
          "36.3",
          "35.5",
          "44",
          "30.1"
         ]
        },
        {
         "marker": {
          "color": "indigo",
          "line": {
           "width": 1
          }
         },
         "mode": "markers",
         "name": "healthy",
         "opacity": 0.8,
         "type": "scatter",
         "x": [
          29,
          23,
          29.153419593345657,
          29.153419593345657,
          29.153419593345657,
          29.153419593345657,
          38,
          41,
          29.153419593345657,
          15,
          19,
          29.153419593345657,
          26,
          11,
          29.153419593345657,
          31,
          33,
          29.153419593345657,
          25,
          29.153419593345657,
          18,
          29.153419593345657,
          29.153419593345657,
          27,
          29.153419593345657,
          11,
          15,
          21,
          42,
          10,
          60,
          29.153419593345657,
          41,
          29.153419593345657,
          29.153419593345657,
          34,
          27,
          29.153419593345657,
          13,
          27,
          35,
          20,
          30,
          20,
          29.153419593345657,
          33,
          22,
          13,
          29.153419593345657,
          26,
          28,
          29,
          54,
          25,
          19,
          29.153419593345657,
          15,
          40,
          18,
          27,
          28,
          18,
          30,
          29.153419593345657,
          29.153419593345657,
          18,
          29.153419593345657,
          29,
          29.153419593345657,
          28,
          31,
          34,
          29.153419593345657,
          29.153419593345657,
          23,
          15,
          39,
          30,
          29.153419593345657,
          30,
          36,
          31,
          13,
          20,
          26,
          25,
          29.153419593345657,
          29,
          29.153419593345657,
          30,
          26,
          31,
          23,
          37,
          35,
          29.153419593345657,
          17,
          50,
          29.153419593345657,
          42,
          15,
          21,
          19,
          38,
          40,
          34,
          23,
          25,
          29.153419593345657,
          29.153419593345657,
          12,
          23,
          42,
          24,
          29.153419593345657,
          29.153419593345657,
          29.153419593345657,
          18,
          20,
          29.153419593345657,
          29.153419593345657,
          29.153419593345657,
          44,
          20,
          29.153419593345657,
          16,
          29.153419593345657,
          20,
          16,
          32,
          28,
          27,
          22,
          54,
          31,
          30,
          29.153419593345657,
          33,
          15,
          27,
          29.153419593345657,
          39,
          31,
          25,
          29.153419593345657,
          28,
          29.153419593345657,
          24,
          32,
          35,
          29.153419593345657,
          33,
          33,
          19,
          29.153419593345657,
          29.153419593345657,
          14,
          32,
          39,
          22,
          16,
          15,
          32,
          15,
          18,
          42,
          29.153419593345657,
          32,
          29.153419593345657,
          50,
          29.153419593345657,
          52,
          23,
          29.153419593345657,
          10,
          28,
          15,
          26,
          44,
          17,
          43,
          29,
          29.153419593345657,
          31,
          29,
          29.153419593345657,
          41,
          29.153419593345657,
          37,
          14,
          30,
          37,
          10,
          22,
          11,
          39,
          12,
          32,
          21,
          29.153419593345657,
          32,
          19,
          16,
          29.153419593345657,
          18,
          43,
          29.153419593345657,
          13,
          21,
          35,
          29.153419593345657,
          29.153419593345657,
          36,
          19,
          29.153419593345657,
          19,
          29.153419593345657,
          29.153419593345657,
          28,
          12,
          29.153419593345657,
          40,
          29.153419593345657,
          37,
          25,
          28,
          17,
          16,
          23,
          22,
          40,
          43,
          15,
          37,
          39,
          30,
          22,
          8,
          18,
          24,
          13,
          23,
          29,
          14,
          12,
          24,
          34,
          29.153419593345657,
          29.153419593345657,
          25,
          32,
          29.153419593345657,
          39,
          30,
          23,
          22,
          21,
          29.153419593345657,
          41,
          18,
          46,
          22,
          29.153419593345657,
          46,
          29.153419593345657,
          16,
          11,
          29.153419593345657,
          8,
          33,
          29.153419593345657,
          15,
          29.153419593345657,
          23,
          27,
          12,
          45,
          18,
          13,
          32,
          29.153419593345657,
          28,
          29.153419593345657,
          28,
          33,
          22,
          29.153419593345657,
          40,
          30,
          29.153419593345657,
          13,
          10,
          36,
          41,
          40,
          38,
          27,
          29.153419593345657,
          29.153419593345657,
          27,
          17,
          38,
          31,
          37,
          22,
          31,
          41,
          32,
          17,
          29.153419593345657,
          28,
          30,
          38,
          29.153419593345657,
          29.153419593345657,
          29.153419593345657,
          15,
          32,
          19,
          32,
          25,
          39,
          29.153419593345657,
          23,
          23,
          29.153419593345657,
          17,
          29.153419593345657,
          29.153419593345657,
          19,
          29.153419593345657,
          29.153419593345657,
          7,
          32,
          33,
          29.153419593345657,
          29.153419593345657,
          18,
          19,
          15,
          31,
          29.153419593345657,
          18,
          29.153419593345657,
          52,
          29.153419593345657,
          30,
          29.153419593345657,
          29.153419593345657,
          37,
          23,
          29,
          21,
          43,
          31,
          28,
          30,
          29.153419593345657,
          24,
          23,
          33,
          40,
          29.153419593345657,
          40,
          29.153419593345657,
          34,
          19,
          29.153419593345657,
          14,
          30,
          32,
          29,
          29.153419593345657,
          29.153419593345657,
          31,
          17,
          30,
          47,
          20,
          29.153419593345657,
          27,
          17,
          29.153419593345657,
          11,
          29.153419593345657,
          29.153419593345657,
          50,
          22,
          45,
          29.153419593345657,
          19,
          18,
          19,
          29.153419593345657,
          36,
          32,
          25,
          39,
          13,
          21,
          28,
          29.153419593345657,
          29.153419593345657,
          13,
          42,
          20,
          29.153419593345657,
          27,
          29.153419593345657,
          47,
          29.153419593345657,
          29.153419593345657,
          29.153419593345657,
          22,
          40,
          29.153419593345657,
          17,
          29.153419593345657,
          29.153419593345657,
          18,
          12,
          17,
          29.153419593345657,
          29.153419593345657,
          30,
          35,
          25,
          25,
          23,
          40,
          29.153419593345657,
          28,
          35,
          48,
          29.153419593345657,
          29.153419593345657,
          45,
          33,
          30,
          26,
          10,
          23,
          35,
          29.153419593345657,
          29.153419593345657,
          17,
          28,
          39,
          29.153419593345657,
          26,
          29.153419593345657,
          19,
          26,
          29.153419593345657,
          32,
          29.153419593345657,
          29.153419593345657,
          11,
          29.153419593345657,
          27,
          29.153419593345657,
          20,
          36,
          21,
          13,
          27,
          20,
          29.153419593345657,
          18,
          46,
          19,
          36,
          30,
          29.153419593345657,
          40,
          29,
          26,
          29.153419593345657,
          29.153419593345657,
          27,
          29.153419593345657,
          32,
          27,
          23,
          17,
          20,
          18,
          37,
          33,
          41,
          39,
          24,
          41,
          29.153419593345657,
          26,
          29.153419593345657,
          48,
          27,
          23,
          31
         ],
         "y": [
          "26.6",
          "28.1",
          "25.6",
          "35.3",
          "37.6",
          "27.1",
          "43.3",
          "39.3",
          "35.4",
          "23.2",
          "22.2",
          "34.1",
          "36",
          "24.8",
          "19.9",
          "27.6",
          "24",
          "33.2",
          "34",
          "40.2",
          "22.7",
          "27.4",
          "29.7",
          "28",
          "0",
          "19.4",
          "24.2",
          "24.4",
          "34.7",
          "23",
          "46.8",
          "40.5",
          "41.5",
          "0",
          "25",
          "25.4",
          "29",
          "42.7",
          "19.6",
          "28.9",
          "28.6",
          "35.1",
          "32",
          "24.7",
          "32.6",
          "37.7",
          "25",
          "22.4",
          "0",
          "29.3",
          "24.6",
          "32.4",
          "36.6",
          "38.5",
          "26.5",
          "19.1",
          "32",
          "46.7",
          "24.7",
          "33.9",
          "31.6",
          "20.4",
          "28.7",
          "26.1",
          "22.5",
          "26.6",
          "39.6",
          "28.7",
          "22.4",
          "29.5",
          "34.3",
          "31.2",
          "34",
          "33.7",
          "28.2",
          "23.2",
          "34.2",
          "33.6",
          "26.8",
          "42.9",
          "33.3",
          "38.3",
          "21.1",
          "33.8",
          "30.8",
          "28.7",
          "31.2",
          "36.9",
          "21.1",
          "39.5",
          "32.5",
          "32.8",
          "0",
          "32.8",
          "30.5",
          "33.7",
          "27.3",
          "37.4",
          "21.9",
          "40.6",
          "24.6",
          "25.2",
          "29",
          "29.7",
          "37.2",
          "44.2",
          "29.7",
          "32.5",
          "29.6",
          "31.9",
          "28.4",
          "28.9",
          "43.5",
          "29.7",
          "31.2",
          "45",
          "23.2",
          "34.9",
          "27.7",
          "26.8",
          "27.6",
          "22.6",
          "33.1",
          "24.4",
          "24.3",
          "31",
          "40.1",
          "27.3",
          "20.4",
          "37.7",
          "23.9",
          "33.2",
          "27.7",
          "42.8",
          "34.2",
          "30",
          "25.2",
          "28.8",
          "23.6",
          "34.6",
          "35.7",
          "36.7",
          "45.2",
          "25.4",
          "35",
          "29.7",
          "18.4",
          "29.2",
          "33.1",
          "38.2",
          "31.2",
          "52.3",
          "35.4",
          "30.1",
          "31.2",
          "28",
          "24.4",
          "35.8",
          "30.1",
          "28.7",
          "25.9",
          "30.9",
          "32.1",
          "32.4",
          "33.6",
          "40",
          "25.1",
          "25.2",
          "23",
          "33.2",
          "34.2",
          "40.5",
          "27.8",
          "24.9",
          "25.3",
          "35.9",
          "32.4",
          "26",
          "38.7",
          "20.8",
          "36.1",
          "36.9",
          "21.9",
          "35.5",
          "30.7",
          "23.6",
          "35.8",
          "21",
          "39.7",
          "24.8",
          "26.2",
          "39.4",
          "29.5",
          "34.1",
          "19.3",
          "38.1",
          "27.5",
          "35.7",
          "25.6",
          "35.1",
          "30.8",
          "23.1",
          "32.7",
          "23.6",
          "23.9",
          "47.9",
          "33.8",
          "25.9",
          "25.9",
          "32",
          "34.7",
          "36.8",
          "38.5",
          "28.7",
          "23.5",
          "21.8",
          "42.2",
          "31.2",
          "34.4",
          "27.2",
          "42.7",
          "35.3",
          "29.8",
          "39.2",
          "34.9",
          "34",
          "21",
          "27.5",
          "0",
          "35.8",
          "34.9",
          "36.2",
          "25.2",
          "37.2",
          "43.4",
          "30.8",
          "20",
          "25.4",
          "25.1",
          "24.3",
          "22.3",
          "31.6",
          "32",
          "23.7",
          "22.1",
          "27.7",
          "24.7",
          "21.1",
          "24.2",
          "31.6",
          "42.1",
          "21.9",
          "35.7",
          "34.4",
          "42.4",
          "26.2",
          "27.2",
          "18.2",
          "45.3",
          "26",
          "40.6",
          "30.8",
          "0",
          "40.6",
          "22.2",
          "30.4",
          "30",
          "25.6",
          "24.5",
          "37.4",
          "29.9",
          "18.2",
          "36.8",
          "32.2",
          "33.2",
          "25.3",
          "36.5",
          "30.5",
          "21.2",
          "39.9",
          "19.6",
          "37.8",
          "26.7",
          "30.2",
          "25.9",
          "20.8",
          "21.8",
          "35.3",
          "27.6",
          "24",
          "21.8",
          "27.8",
          "36.8",
          "46.1",
          "41.3",
          "33.2",
          "38.8",
          "29.9",
          "28.9",
          "27.3",
          "23.8",
          "25.9",
          "28",
          "35.2",
          "27.8",
          "38.2",
          "40.7",
          "46.5",
          "25.6",
          "26.1",
          "36.8",
          "33.5",
          "32.8",
          "0",
          "26.6",
          "26",
          "30.1",
          "29.3",
          "25.2",
          "37.2",
          "33.3",
          "37.3",
          "33.3",
          "28.6",
          "30.4",
          "25",
          "22.1",
          "24.2",
          "27.3",
          "25.6",
          "37.6",
          "32.8",
          "19.6",
          "25",
          "33.2",
          "0",
          "31.6",
          "21.8",
          "18.2",
          "26.3",
          "30.8",
          "24.6",
          "29.8",
          "45.3",
          "41.3",
          "29.8",
          "33.3",
          "29.6",
          "21.7",
          "36.3",
          "39.5",
          "32",
          "33.1",
          "32.8",
          "28.5",
          "27.4",
          "31.9",
          "27.8",
          "29.9",
          "36.9",
          "25.5",
          "38.1",
          "27.8",
          "46.2",
          "30.1",
          "37.6",
          "26.9",
          "32.4",
          "26.1",
          "38.6",
          "32",
          "31.3",
          "32.5",
          "22.6",
          "29.5",
          "34.7",
          "30.1",
          "35.5",
          "24",
          "27",
          "25",
          "26.5",
          "38.7",
          "22.5",
          "24.3",
          "21.1",
          "39.4",
          "28.5",
          "33.6",
          "45.3",
          "27.8",
          "23.1",
          "27.1",
          "23.7",
          "27.8",
          "35.8",
          "19.5",
          "41.5",
          "24",
          "30.9",
          "32.5",
          "25.8",
          "28.7",
          "20.1",
          "38.4",
          "24.2",
          "40.8",
          "43.5",
          "30.8",
          "37.7",
          "24.7",
          "32.4",
          "34.6",
          "24.7",
          "34.5",
          "26.2",
          "27.5",
          "25.9",
          "28.8",
          "31.6",
          "19.5",
          "29.3",
          "34.3",
          "28",
          "27.6",
          "39.4",
          "26.4",
          "25.2",
          "33.8",
          "34.1",
          "26.8",
          "34.2",
          "21.8",
          "38.9",
          "39",
          "27.7",
          "34.8",
          "34",
          "30.9",
          "33.6",
          "25.4",
          "35.5",
          "57.3",
          "35.6",
          "35.3",
          "24.2",
          "24.2",
          "44.6",
          "0",
          "33.2",
          "23.1",
          "28.3",
          "24.1",
          "24.6",
          "39.1",
          "23.5",
          "25",
          "34.5",
          "44.5",
          "35.9",
          "38.5",
          "28.4",
          "39.8",
          "34.4",
          "31.2",
          "29.6",
          "26.4",
          "29.5",
          "23.1",
          "35.5",
          "29.3",
          "38.1",
          "39.1",
          "32.8",
          "39.4",
          "36.1",
          "32.4",
          "22.9",
          "30.1",
          "29",
          "23.3",
          "35.4",
          "27.4",
          "32",
          "36.6",
          "30.8",
          "28.5",
          "40.6",
          "30",
          "46.3",
          "39",
          "26",
          "32",
          "37.5",
          "28.4",
          "22.5",
          "32.9",
          "36.8",
          "26.2",
          "30.4"
         ]
        }
       ],
       "layout": {
        "template": {
         "data": {
          "bar": [
           {
            "error_x": {
             "color": "#2a3f5f"
            },
            "error_y": {
             "color": "#2a3f5f"
            },
            "marker": {
             "line": {
              "color": "#E5ECF6",
              "width": 0.5
             }
            },
            "type": "bar"
           }
          ],
          "barpolar": [
           {
            "marker": {
             "line": {
              "color": "#E5ECF6",
              "width": 0.5
             }
            },
            "type": "barpolar"
           }
          ],
          "carpet": [
           {
            "aaxis": {
             "endlinecolor": "#2a3f5f",
             "gridcolor": "white",
             "linecolor": "white",
             "minorgridcolor": "white",
             "startlinecolor": "#2a3f5f"
            },
            "baxis": {
             "endlinecolor": "#2a3f5f",
             "gridcolor": "white",
             "linecolor": "white",
             "minorgridcolor": "white",
             "startlinecolor": "#2a3f5f"
            },
            "type": "carpet"
           }
          ],
          "choropleth": [
           {
            "colorbar": {
             "outlinewidth": 0,
             "ticks": ""
            },
            "type": "choropleth"
           }
          ],
          "contour": [
           {
            "colorbar": {
             "outlinewidth": 0,
             "ticks": ""
            },
            "colorscale": [
             [
              0,
              "#0d0887"
             ],
             [
              0.1111111111111111,
              "#46039f"
             ],
             [
              0.2222222222222222,
              "#7201a8"
             ],
             [
              0.3333333333333333,
              "#9c179e"
             ],
             [
              0.4444444444444444,
              "#bd3786"
             ],
             [
              0.5555555555555556,
              "#d8576b"
             ],
             [
              0.6666666666666666,
              "#ed7953"
             ],
             [
              0.7777777777777778,
              "#fb9f3a"
             ],
             [
              0.8888888888888888,
              "#fdca26"
             ],
             [
              1,
              "#f0f921"
             ]
            ],
            "type": "contour"
           }
          ],
          "contourcarpet": [
           {
            "colorbar": {
             "outlinewidth": 0,
             "ticks": ""
            },
            "type": "contourcarpet"
           }
          ],
          "heatmap": [
           {
            "colorbar": {
             "outlinewidth": 0,
             "ticks": ""
            },
            "colorscale": [
             [
              0,
              "#0d0887"
             ],
             [
              0.1111111111111111,
              "#46039f"
             ],
             [
              0.2222222222222222,
              "#7201a8"
             ],
             [
              0.3333333333333333,
              "#9c179e"
             ],
             [
              0.4444444444444444,
              "#bd3786"
             ],
             [
              0.5555555555555556,
              "#d8576b"
             ],
             [
              0.6666666666666666,
              "#ed7953"
             ],
             [
              0.7777777777777778,
              "#fb9f3a"
             ],
             [
              0.8888888888888888,
              "#fdca26"
             ],
             [
              1,
              "#f0f921"
             ]
            ],
            "type": "heatmap"
           }
          ],
          "heatmapgl": [
           {
            "colorbar": {
             "outlinewidth": 0,
             "ticks": ""
            },
            "colorscale": [
             [
              0,
              "#0d0887"
             ],
             [
              0.1111111111111111,
              "#46039f"
             ],
             [
              0.2222222222222222,
              "#7201a8"
             ],
             [
              0.3333333333333333,
              "#9c179e"
             ],
             [
              0.4444444444444444,
              "#bd3786"
             ],
             [
              0.5555555555555556,
              "#d8576b"
             ],
             [
              0.6666666666666666,
              "#ed7953"
             ],
             [
              0.7777777777777778,
              "#fb9f3a"
             ],
             [
              0.8888888888888888,
              "#fdca26"
             ],
             [
              1,
              "#f0f921"
             ]
            ],
            "type": "heatmapgl"
           }
          ],
          "histogram": [
           {
            "marker": {
             "colorbar": {
              "outlinewidth": 0,
              "ticks": ""
             }
            },
            "type": "histogram"
           }
          ],
          "histogram2d": [
           {
            "colorbar": {
             "outlinewidth": 0,
             "ticks": ""
            },
            "colorscale": [
             [
              0,
              "#0d0887"
             ],
             [
              0.1111111111111111,
              "#46039f"
             ],
             [
              0.2222222222222222,
              "#7201a8"
             ],
             [
              0.3333333333333333,
              "#9c179e"
             ],
             [
              0.4444444444444444,
              "#bd3786"
             ],
             [
              0.5555555555555556,
              "#d8576b"
             ],
             [
              0.6666666666666666,
              "#ed7953"
             ],
             [
              0.7777777777777778,
              "#fb9f3a"
             ],
             [
              0.8888888888888888,
              "#fdca26"
             ],
             [
              1,
              "#f0f921"
             ]
            ],
            "type": "histogram2d"
           }
          ],
          "histogram2dcontour": [
           {
            "colorbar": {
             "outlinewidth": 0,
             "ticks": ""
            },
            "colorscale": [
             [
              0,
              "#0d0887"
             ],
             [
              0.1111111111111111,
              "#46039f"
             ],
             [
              0.2222222222222222,
              "#7201a8"
             ],
             [
              0.3333333333333333,
              "#9c179e"
             ],
             [
              0.4444444444444444,
              "#bd3786"
             ],
             [
              0.5555555555555556,
              "#d8576b"
             ],
             [
              0.6666666666666666,
              "#ed7953"
             ],
             [
              0.7777777777777778,
              "#fb9f3a"
             ],
             [
              0.8888888888888888,
              "#fdca26"
             ],
             [
              1,
              "#f0f921"
             ]
            ],
            "type": "histogram2dcontour"
           }
          ],
          "mesh3d": [
           {
            "colorbar": {
             "outlinewidth": 0,
             "ticks": ""
            },
            "type": "mesh3d"
           }
          ],
          "parcoords": [
           {
            "line": {
             "colorbar": {
              "outlinewidth": 0,
              "ticks": ""
             }
            },
            "type": "parcoords"
           }
          ],
          "pie": [
           {
            "automargin": true,
            "type": "pie"
           }
          ],
          "scatter": [
           {
            "marker": {
             "colorbar": {
              "outlinewidth": 0,
              "ticks": ""
             }
            },
            "type": "scatter"
           }
          ],
          "scatter3d": [
           {
            "line": {
             "colorbar": {
              "outlinewidth": 0,
              "ticks": ""
             }
            },
            "marker": {
             "colorbar": {
              "outlinewidth": 0,
              "ticks": ""
             }
            },
            "type": "scatter3d"
           }
          ],
          "scattercarpet": [
           {
            "marker": {
             "colorbar": {
              "outlinewidth": 0,
              "ticks": ""
             }
            },
            "type": "scattercarpet"
           }
          ],
          "scattergeo": [
           {
            "marker": {
             "colorbar": {
              "outlinewidth": 0,
              "ticks": ""
             }
            },
            "type": "scattergeo"
           }
          ],
          "scattergl": [
           {
            "marker": {
             "colorbar": {
              "outlinewidth": 0,
              "ticks": ""
             }
            },
            "type": "scattergl"
           }
          ],
          "scattermapbox": [
           {
            "marker": {
             "colorbar": {
              "outlinewidth": 0,
              "ticks": ""
             }
            },
            "type": "scattermapbox"
           }
          ],
          "scatterpolar": [
           {
            "marker": {
             "colorbar": {
              "outlinewidth": 0,
              "ticks": ""
             }
            },
            "type": "scatterpolar"
           }
          ],
          "scatterpolargl": [
           {
            "marker": {
             "colorbar": {
              "outlinewidth": 0,
              "ticks": ""
             }
            },
            "type": "scatterpolargl"
           }
          ],
          "scatterternary": [
           {
            "marker": {
             "colorbar": {
              "outlinewidth": 0,
              "ticks": ""
             }
            },
            "type": "scatterternary"
           }
          ],
          "surface": [
           {
            "colorbar": {
             "outlinewidth": 0,
             "ticks": ""
            },
            "colorscale": [
             [
              0,
              "#0d0887"
             ],
             [
              0.1111111111111111,
              "#46039f"
             ],
             [
              0.2222222222222222,
              "#7201a8"
             ],
             [
              0.3333333333333333,
              "#9c179e"
             ],
             [
              0.4444444444444444,
              "#bd3786"
             ],
             [
              0.5555555555555556,
              "#d8576b"
             ],
             [
              0.6666666666666666,
              "#ed7953"
             ],
             [
              0.7777777777777778,
              "#fb9f3a"
             ],
             [
              0.8888888888888888,
              "#fdca26"
             ],
             [
              1,
              "#f0f921"
             ]
            ],
            "type": "surface"
           }
          ],
          "table": [
           {
            "cells": {
             "fill": {
              "color": "#EBF0F8"
             },
             "line": {
              "color": "white"
             }
            },
            "header": {
             "fill": {
              "color": "#C8D4E3"
             },
             "line": {
              "color": "white"
             }
            },
            "type": "table"
           }
          ]
         },
         "layout": {
          "annotationdefaults": {
           "arrowcolor": "#2a3f5f",
           "arrowhead": 0,
           "arrowwidth": 1
          },
          "coloraxis": {
           "colorbar": {
            "outlinewidth": 0,
            "ticks": ""
           }
          },
          "colorscale": {
           "diverging": [
            [
             0,
             "#8e0152"
            ],
            [
             0.1,
             "#c51b7d"
            ],
            [
             0.2,
             "#de77ae"
            ],
            [
             0.3,
             "#f1b6da"
            ],
            [
             0.4,
             "#fde0ef"
            ],
            [
             0.5,
             "#f7f7f7"
            ],
            [
             0.6,
             "#e6f5d0"
            ],
            [
             0.7,
             "#b8e186"
            ],
            [
             0.8,
             "#7fbc41"
            ],
            [
             0.9,
             "#4d9221"
            ],
            [
             1,
             "#276419"
            ]
           ],
           "sequential": [
            [
             0,
             "#0d0887"
            ],
            [
             0.1111111111111111,
             "#46039f"
            ],
            [
             0.2222222222222222,
             "#7201a8"
            ],
            [
             0.3333333333333333,
             "#9c179e"
            ],
            [
             0.4444444444444444,
             "#bd3786"
            ],
            [
             0.5555555555555556,
             "#d8576b"
            ],
            [
             0.6666666666666666,
             "#ed7953"
            ],
            [
             0.7777777777777778,
             "#fb9f3a"
            ],
            [
             0.8888888888888888,
             "#fdca26"
            ],
            [
             1,
             "#f0f921"
            ]
           ],
           "sequentialminus": [
            [
             0,
             "#0d0887"
            ],
            [
             0.1111111111111111,
             "#46039f"
            ],
            [
             0.2222222222222222,
             "#7201a8"
            ],
            [
             0.3333333333333333,
             "#9c179e"
            ],
            [
             0.4444444444444444,
             "#bd3786"
            ],
            [
             0.5555555555555556,
             "#d8576b"
            ],
            [
             0.6666666666666666,
             "#ed7953"
            ],
            [
             0.7777777777777778,
             "#fb9f3a"
            ],
            [
             0.8888888888888888,
             "#fdca26"
            ],
            [
             1,
             "#f0f921"
            ]
           ]
          },
          "colorway": [
           "#636efa",
           "#EF553B",
           "#00cc96",
           "#ab63fa",
           "#FFA15A",
           "#19d3f3",
           "#FF6692",
           "#B6E880",
           "#FF97FF",
           "#FECB52"
          ],
          "font": {
           "color": "#2a3f5f"
          },
          "geo": {
           "bgcolor": "white",
           "lakecolor": "white",
           "landcolor": "#E5ECF6",
           "showlakes": true,
           "showland": true,
           "subunitcolor": "white"
          },
          "hoverlabel": {
           "align": "left"
          },
          "hovermode": "closest",
          "mapbox": {
           "style": "light"
          },
          "paper_bgcolor": "white",
          "plot_bgcolor": "#E5ECF6",
          "polar": {
           "angularaxis": {
            "gridcolor": "white",
            "linecolor": "white",
            "ticks": ""
           },
           "bgcolor": "#E5ECF6",
           "radialaxis": {
            "gridcolor": "white",
            "linecolor": "white",
            "ticks": ""
           }
          },
          "scene": {
           "xaxis": {
            "backgroundcolor": "#E5ECF6",
            "gridcolor": "white",
            "gridwidth": 2,
            "linecolor": "white",
            "showbackground": true,
            "ticks": "",
            "zerolinecolor": "white"
           },
           "yaxis": {
            "backgroundcolor": "#E5ECF6",
            "gridcolor": "white",
            "gridwidth": 2,
            "linecolor": "white",
            "showbackground": true,
            "ticks": "",
            "zerolinecolor": "white"
           },
           "zaxis": {
            "backgroundcolor": "#E5ECF6",
            "gridcolor": "white",
            "gridwidth": 2,
            "linecolor": "white",
            "showbackground": true,
            "ticks": "",
            "zerolinecolor": "white"
           }
          },
          "shapedefaults": {
           "line": {
            "color": "#2a3f5f"
           }
          },
          "ternary": {
           "aaxis": {
            "gridcolor": "white",
            "linecolor": "white",
            "ticks": ""
           },
           "baxis": {
            "gridcolor": "white",
            "linecolor": "white",
            "ticks": ""
           },
           "bgcolor": "#E5ECF6",
           "caxis": {
            "gridcolor": "white",
            "linecolor": "white",
            "ticks": ""
           }
          },
          "title": {
           "x": 0.05
          },
          "xaxis": {
           "automargin": true,
           "gridcolor": "white",
           "linecolor": "white",
           "ticks": "",
           "title": {
            "standoff": 15
           },
           "zerolinecolor": "white",
           "zerolinewidth": 2
          },
          "yaxis": {
           "automargin": true,
           "gridcolor": "white",
           "linecolor": "white",
           "ticks": "",
           "title": {
            "standoff": 15
           },
           "zerolinecolor": "white",
           "zerolinewidth": 2
          }
         }
        },
        "title": {
         "text": "SkinThickness vs BMI"
        },
        "xaxis": {
         "title": {
          "text": "SkinThickness"
         },
         "zeroline": false
        },
        "yaxis": {
         "title": {
          "text": "BMI"
         },
         "zeroline": false
        }
       }
      },
      "text/html": [
       "<div>                            <div id=\"ca96e512-9804-4e37-ac22-6354e1701bc6\" class=\"plotly-graph-div\" style=\"height:525px; width:100%;\"></div>            <script type=\"text/javascript\">                require([\"plotly\"], function(Plotly) {                    window.PLOTLYENV=window.PLOTLYENV || {};                                    if (document.getElementById(\"ca96e512-9804-4e37-ac22-6354e1701bc6\")) {                    Plotly.newPlot(                        \"ca96e512-9804-4e37-ac22-6354e1701bc6\",                        [{\"marker\": {\"color\": \"lightskyblue\", \"line\": {\"width\": 1}}, \"mode\": \"markers\", \"name\": \"diabetic\", \"opacity\": 0.8, \"type\": \"scatter\", \"x\": [35.0, 29.153419593345657, 35.0, 32.0, 45.0, 29.153419593345657, 29.153419593345657, 23.0, 19.0, 29.153419593345657, 47.0, 29.153419593345657, 30.0, 29.153419593345657, 35.0, 33.0, 26.0, 29.153419593345657, 36.0, 37.0, 42.0, 47.0, 24.0, 39.0, 32.0, 34.0, 39.0, 29.153419593345657, 29.153419593345657, 30.0, 20.0, 29.153419593345657, 29.153419593345657, 29.153419593345657, 32.0, 29.153419593345657, 51.0, 29.153419593345657, 25.0, 33.0, 26.0, 32.0, 29.153419593345657, 29.153419593345657, 56.0, 29.153419593345657, 42.0, 24.0, 29.153419593345657, 14.0, 29.153419593345657, 37.0, 29.153419593345657, 28.0, 29.153419593345657, 44.0, 41.0, 29.153419593345657, 18.0, 29.153419593345657, 23.0, 42.0, 46.0, 29.153419593345657, 28.0, 36.0, 41.0, 39.0, 35.0, 29.153419593345657, 29.153419593345657, 41.0, 13.0, 44.0, 27.0, 29.0, 29.153419593345657, 33.0, 26.0, 32.0, 40.0, 41.0, 22.0, 29.153419593345657, 29.0, 29.153419593345657, 38.0, 29.153419593345657, 37.0, 29.153419593345657, 21.0, 27.0, 21.0, 29.153419593345657, 22.0, 15.0, 7.0, 35.0, 28.0, 29.153419593345657, 29.153419593345657, 29.153419593345657, 29.153419593345657, 37.0, 24.0, 29.153419593345657, 29.153419593345657, 29.153419593345657, 39.0, 30.0, 37.0, 45.0, 38.0, 25.0, 29.153419593345657, 33.0, 29.153419593345657, 23.0, 19.0, 28.0, 17.0, 31.0, 29.153419593345657, 29.153419593345657, 30.0, 20.0, 33.0, 32.0, 36.0, 29.153419593345657, 29.153419593345657, 34.0, 29.153419593345657, 32.0, 29.153419593345657, 40.0, 30.0, 36.0, 33.0, 29.153419593345657, 29.153419593345657, 28.0, 48.0, 43.0, 29.153419593345657, 29.0, 36.0, 26.0, 29.153419593345657, 29.153419593345657, 40.0, 31.0, 29.153419593345657, 41.0, 29.153419593345657, 29.153419593345657, 29.153419593345657, 49.0, 35.0, 33.0, 32.0, 29.0, 32.0, 39.0, 30.0, 25.0, 29.153419593345657, 25.0, 29.153419593345657, 12.0, 63.0, 37.0, 29.153419593345657, 30.0, 48.0, 29.153419593345657, 45.0, 30.0, 29.153419593345657, 42.0, 18.0, 33.0, 41.0, 26.0, 31.0, 18.0, 34.0, 29.153419593345657, 29.153419593345657, 49.0, 40.0, 25.0, 32.0, 35.0, 27.0, 29.153419593345657, 32.0, 30.0, 29.153419593345657, 99.0, 46.0, 24.0, 29.153419593345657, 27.0, 40.0, 29.153419593345657, 14.0, 29.153419593345657, 29.0, 29.153419593345657, 42.0, 22.0, 42.0, 26.0, 24.0, 29.153419593345657, 29.153419593345657, 29.153419593345657, 32.0, 29.153419593345657, 17.0, 36.0, 35.0, 27.0, 31.0, 43.0, 46.0, 46.0, 39.0, 18.0, 27.0, 29.153419593345657, 29.153419593345657, 29.153419593345657, 36.0, 29.153419593345657, 46.0, 29.153419593345657, 49.0, 24.0, 19.0, 31.0, 29.0, 29.153419593345657, 29.153419593345657, 32.0, 36.0, 33.0, 39.0, 27.0, 29.0, 23.0, 29.153419593345657, 37.0, 29.153419593345657, 37.0, 29.153419593345657, 41.0, 22.0, 29.153419593345657, 29.153419593345657, 44.0, 32.0, 39.0, 29.153419593345657, 29.153419593345657, 31.0, 29.153419593345657], \"y\": [\"33.6\", \"23.3\", \"43.1\", \"31\", \"30.5\", \"0\", \"38\", \"30.1\", \"25.8\", \"30\", \"45.8\", \"29.6\", \"34.6\", \"39.8\", \"29\", \"36.6\", \"31.1\", \"39.4\", \"31.6\", \"32.9\", \"38.2\", \"37.1\", \"45.4\", \"42\", \"39.1\", \"33.7\", \"37.7\", \"32.9\", \"32.8\", \"32.5\", \"32.9\", \"43.4\", \"43.2\", \"48.8\", \"37.1\", \"23.8\", \"49.7\", \"39\", \"37.4\", \"33.3\", \"34\", \"30.5\", \"31.2\", \"34\", \"53.2\", \"33.3\", \"55\", \"34.5\", \"27.9\", \"29.7\", \"33.3\", \"34.5\", \"32.4\", \"34.3\", \"47.9\", \"50\", \"40.9\", \"31.6\", \"29.9\", \"30.8\", \"35.4\", \"32.7\", \"67.1\", \"39.1\", \"35.9\", \"30.1\", \"32\", \"27.9\", \"31.6\", \"30.4\", \"52.3\", \"39.4\", \"22.9\", \"34.8\", \"30.9\", \"37.5\", \"37.7\", \"35.5\", \"42.6\", \"34.2\", \"41.8\", \"35.8\", \"29\", \"37.8\", \"34.6\", \"31.6\", \"37.2\", \"44\", \"46.2\", \"43.6\", \"35.9\", \"44.1\", \"30.8\", \"25.6\", \"27.1\", \"30\", \"27.6\", \"33.6\", \"33.3\", \"30\", \"32\", \"36.3\", \"27.5\", \"45.6\", \"26.5\", \"37.9\", \"30.4\", \"27\", \"45.6\", \"36.6\", \"43.3\", \"40.5\", \"28\", \"36.6\", \"32.3\", \"31.6\", \"52.9\", \"25.5\", \"30.5\", \"32.9\", \"26.6\", \"35.9\", \"30.5\", \"23.5\", \"31.6\", \"27.4\", \"26.8\", \"35.1\", \"45.5\", \"43.3\", \"31.2\", \"34.2\", \"39.9\", \"41\", \"30.4\", \"33.3\", \"39.9\", \"36.5\", \"31.2\", \"38.5\", \"27.6\", \"32.8\", \"38.4\", \"39.2\", \"48.3\", \"32.3\", \"43.3\", \"32\", \"45.7\", \"32.9\", \"34.3\", \"34.9\", \"32\", \"35\", \"32.9\", \"28.9\", \"25.9\", \"42.4\", \"34.6\", \"35.7\", \"38.5\", \"26.4\", \"42.9\", \"37\", \"34.1\", \"35\", \"42.4\", \"34.3\", \"30.5\", \"29.7\", \"59.4\", \"33.6\", \"28.9\", \"33.6\", \"37.6\", \"30\", \"33.7\", \"35.5\", \"44.2\", \"42.3\", \"28.9\", \"25.1\", \"39\", \"36.5\", \"29.7\", \"31.6\", \"30.3\", \"34.2\", \"32.9\", \"36.4\", \"39.4\", \"32.4\", \"34.9\", \"34.5\", \"43.6\", \"33.8\", \"41.3\", \"34.3\", \"42.9\", \"34.7\", \"42.1\", \"28.7\", \"34.9\", \"33.3\", \"46.8\", \"34.4\", \"32\", \"36.8\", \"35.2\", \"28.4\", \"40\", \"32.9\", \"38.2\", \"36.1\", \"28.2\", \"32.4\", \"27.4\", \"31.2\", \"40.9\", \"29.5\", \"23.4\", \"37.8\", \"28.3\", \"38.7\", \"34.2\", \"42.9\", \"37.6\", \"37.9\", \"33.7\", \"32.5\", \"27.5\", \"30.9\", \"24.8\", \"36\", \"49.6\", \"32.3\", \"46.1\", \"42.3\", \"38.5\", \"30.4\", \"29.9\", \"27.6\", \"35\", \"0\", \"32.8\", \"38\", \"41.2\", \"33.9\", \"33.8\", \"35.6\", \"29.3\", \"28.4\", \"28.4\", \"44.5\", \"39.5\", \"42.3\", \"32.7\", \"49.3\", \"36.4\", \"24.3\", \"31.2\", \"43.3\", \"32.4\", \"36.5\", \"36.3\", \"35.5\", \"44\", \"30.1\"]}, {\"marker\": {\"color\": \"indigo\", \"line\": {\"width\": 1}}, \"mode\": \"markers\", \"name\": \"healthy\", \"opacity\": 0.8, \"type\": \"scatter\", \"x\": [29.0, 23.0, 29.153419593345657, 29.153419593345657, 29.153419593345657, 29.153419593345657, 38.0, 41.0, 29.153419593345657, 15.0, 19.0, 29.153419593345657, 26.0, 11.0, 29.153419593345657, 31.0, 33.0, 29.153419593345657, 25.0, 29.153419593345657, 18.0, 29.153419593345657, 29.153419593345657, 27.0, 29.153419593345657, 11.0, 15.0, 21.0, 42.0, 10.0, 60.0, 29.153419593345657, 41.0, 29.153419593345657, 29.153419593345657, 34.0, 27.0, 29.153419593345657, 13.0, 27.0, 35.0, 20.0, 30.0, 20.0, 29.153419593345657, 33.0, 22.0, 13.0, 29.153419593345657, 26.0, 28.0, 29.0, 54.0, 25.0, 19.0, 29.153419593345657, 15.0, 40.0, 18.0, 27.0, 28.0, 18.0, 30.0, 29.153419593345657, 29.153419593345657, 18.0, 29.153419593345657, 29.0, 29.153419593345657, 28.0, 31.0, 34.0, 29.153419593345657, 29.153419593345657, 23.0, 15.0, 39.0, 30.0, 29.153419593345657, 30.0, 36.0, 31.0, 13.0, 20.0, 26.0, 25.0, 29.153419593345657, 29.0, 29.153419593345657, 30.0, 26.0, 31.0, 23.0, 37.0, 35.0, 29.153419593345657, 17.0, 50.0, 29.153419593345657, 42.0, 15.0, 21.0, 19.0, 38.0, 40.0, 34.0, 23.0, 25.0, 29.153419593345657, 29.153419593345657, 12.0, 23.0, 42.0, 24.0, 29.153419593345657, 29.153419593345657, 29.153419593345657, 18.0, 20.0, 29.153419593345657, 29.153419593345657, 29.153419593345657, 44.0, 20.0, 29.153419593345657, 16.0, 29.153419593345657, 20.0, 16.0, 32.0, 28.0, 27.0, 22.0, 54.0, 31.0, 30.0, 29.153419593345657, 33.0, 15.0, 27.0, 29.153419593345657, 39.0, 31.0, 25.0, 29.153419593345657, 28.0, 29.153419593345657, 24.0, 32.0, 35.0, 29.153419593345657, 33.0, 33.0, 19.0, 29.153419593345657, 29.153419593345657, 14.0, 32.0, 39.0, 22.0, 16.0, 15.0, 32.0, 15.0, 18.0, 42.0, 29.153419593345657, 32.0, 29.153419593345657, 50.0, 29.153419593345657, 52.0, 23.0, 29.153419593345657, 10.0, 28.0, 15.0, 26.0, 44.0, 17.0, 43.0, 29.0, 29.153419593345657, 31.0, 29.0, 29.153419593345657, 41.0, 29.153419593345657, 37.0, 14.0, 30.0, 37.0, 10.0, 22.0, 11.0, 39.0, 12.0, 32.0, 21.0, 29.153419593345657, 32.0, 19.0, 16.0, 29.153419593345657, 18.0, 43.0, 29.153419593345657, 13.0, 21.0, 35.0, 29.153419593345657, 29.153419593345657, 36.0, 19.0, 29.153419593345657, 19.0, 29.153419593345657, 29.153419593345657, 28.0, 12.0, 29.153419593345657, 40.0, 29.153419593345657, 37.0, 25.0, 28.0, 17.0, 16.0, 23.0, 22.0, 40.0, 43.0, 15.0, 37.0, 39.0, 30.0, 22.0, 8.0, 18.0, 24.0, 13.0, 23.0, 29.0, 14.0, 12.0, 24.0, 34.0, 29.153419593345657, 29.153419593345657, 25.0, 32.0, 29.153419593345657, 39.0, 30.0, 23.0, 22.0, 21.0, 29.153419593345657, 41.0, 18.0, 46.0, 22.0, 29.153419593345657, 46.0, 29.153419593345657, 16.0, 11.0, 29.153419593345657, 8.0, 33.0, 29.153419593345657, 15.0, 29.153419593345657, 23.0, 27.0, 12.0, 45.0, 18.0, 13.0, 32.0, 29.153419593345657, 28.0, 29.153419593345657, 28.0, 33.0, 22.0, 29.153419593345657, 40.0, 30.0, 29.153419593345657, 13.0, 10.0, 36.0, 41.0, 40.0, 38.0, 27.0, 29.153419593345657, 29.153419593345657, 27.0, 17.0, 38.0, 31.0, 37.0, 22.0, 31.0, 41.0, 32.0, 17.0, 29.153419593345657, 28.0, 30.0, 38.0, 29.153419593345657, 29.153419593345657, 29.153419593345657, 15.0, 32.0, 19.0, 32.0, 25.0, 39.0, 29.153419593345657, 23.0, 23.0, 29.153419593345657, 17.0, 29.153419593345657, 29.153419593345657, 19.0, 29.153419593345657, 29.153419593345657, 7.0, 32.0, 33.0, 29.153419593345657, 29.153419593345657, 18.0, 19.0, 15.0, 31.0, 29.153419593345657, 18.0, 29.153419593345657, 52.0, 29.153419593345657, 30.0, 29.153419593345657, 29.153419593345657, 37.0, 23.0, 29.0, 21.0, 43.0, 31.0, 28.0, 30.0, 29.153419593345657, 24.0, 23.0, 33.0, 40.0, 29.153419593345657, 40.0, 29.153419593345657, 34.0, 19.0, 29.153419593345657, 14.0, 30.0, 32.0, 29.0, 29.153419593345657, 29.153419593345657, 31.0, 17.0, 30.0, 47.0, 20.0, 29.153419593345657, 27.0, 17.0, 29.153419593345657, 11.0, 29.153419593345657, 29.153419593345657, 50.0, 22.0, 45.0, 29.153419593345657, 19.0, 18.0, 19.0, 29.153419593345657, 36.0, 32.0, 25.0, 39.0, 13.0, 21.0, 28.0, 29.153419593345657, 29.153419593345657, 13.0, 42.0, 20.0, 29.153419593345657, 27.0, 29.153419593345657, 47.0, 29.153419593345657, 29.153419593345657, 29.153419593345657, 22.0, 40.0, 29.153419593345657, 17.0, 29.153419593345657, 29.153419593345657, 18.0, 12.0, 17.0, 29.153419593345657, 29.153419593345657, 30.0, 35.0, 25.0, 25.0, 23.0, 40.0, 29.153419593345657, 28.0, 35.0, 48.0, 29.153419593345657, 29.153419593345657, 45.0, 33.0, 30.0, 26.0, 10.0, 23.0, 35.0, 29.153419593345657, 29.153419593345657, 17.0, 28.0, 39.0, 29.153419593345657, 26.0, 29.153419593345657, 19.0, 26.0, 29.153419593345657, 32.0, 29.153419593345657, 29.153419593345657, 11.0, 29.153419593345657, 27.0, 29.153419593345657, 20.0, 36.0, 21.0, 13.0, 27.0, 20.0, 29.153419593345657, 18.0, 46.0, 19.0, 36.0, 30.0, 29.153419593345657, 40.0, 29.0, 26.0, 29.153419593345657, 29.153419593345657, 27.0, 29.153419593345657, 32.0, 27.0, 23.0, 17.0, 20.0, 18.0, 37.0, 33.0, 41.0, 39.0, 24.0, 41.0, 29.153419593345657, 26.0, 29.153419593345657, 48.0, 27.0, 23.0, 31.0], \"y\": [\"26.6\", \"28.1\", \"25.6\", \"35.3\", \"37.6\", \"27.1\", \"43.3\", \"39.3\", \"35.4\", \"23.2\", \"22.2\", \"34.1\", \"36\", \"24.8\", \"19.9\", \"27.6\", \"24\", \"33.2\", \"34\", \"40.2\", \"22.7\", \"27.4\", \"29.7\", \"28\", \"0\", \"19.4\", \"24.2\", \"24.4\", \"34.7\", \"23\", \"46.8\", \"40.5\", \"41.5\", \"0\", \"25\", \"25.4\", \"29\", \"42.7\", \"19.6\", \"28.9\", \"28.6\", \"35.1\", \"32\", \"24.7\", \"32.6\", \"37.7\", \"25\", \"22.4\", \"0\", \"29.3\", \"24.6\", \"32.4\", \"36.6\", \"38.5\", \"26.5\", \"19.1\", \"32\", \"46.7\", \"24.7\", \"33.9\", \"31.6\", \"20.4\", \"28.7\", \"26.1\", \"22.5\", \"26.6\", \"39.6\", \"28.7\", \"22.4\", \"29.5\", \"34.3\", \"31.2\", \"34\", \"33.7\", \"28.2\", \"23.2\", \"34.2\", \"33.6\", \"26.8\", \"42.9\", \"33.3\", \"38.3\", \"21.1\", \"33.8\", \"30.8\", \"28.7\", \"31.2\", \"36.9\", \"21.1\", \"39.5\", \"32.5\", \"32.8\", \"0\", \"32.8\", \"30.5\", \"33.7\", \"27.3\", \"37.4\", \"21.9\", \"40.6\", \"24.6\", \"25.2\", \"29\", \"29.7\", \"37.2\", \"44.2\", \"29.7\", \"32.5\", \"29.6\", \"31.9\", \"28.4\", \"28.9\", \"43.5\", \"29.7\", \"31.2\", \"45\", \"23.2\", \"34.9\", \"27.7\", \"26.8\", \"27.6\", \"22.6\", \"33.1\", \"24.4\", \"24.3\", \"31\", \"40.1\", \"27.3\", \"20.4\", \"37.7\", \"23.9\", \"33.2\", \"27.7\", \"42.8\", \"34.2\", \"30\", \"25.2\", \"28.8\", \"23.6\", \"34.6\", \"35.7\", \"36.7\", \"45.2\", \"25.4\", \"35\", \"29.7\", \"18.4\", \"29.2\", \"33.1\", \"38.2\", \"31.2\", \"52.3\", \"35.4\", \"30.1\", \"31.2\", \"28\", \"24.4\", \"35.8\", \"30.1\", \"28.7\", \"25.9\", \"30.9\", \"32.1\", \"32.4\", \"33.6\", \"40\", \"25.1\", \"25.2\", \"23\", \"33.2\", \"34.2\", \"40.5\", \"27.8\", \"24.9\", \"25.3\", \"35.9\", \"32.4\", \"26\", \"38.7\", \"20.8\", \"36.1\", \"36.9\", \"21.9\", \"35.5\", \"30.7\", \"23.6\", \"35.8\", \"21\", \"39.7\", \"24.8\", \"26.2\", \"39.4\", \"29.5\", \"34.1\", \"19.3\", \"38.1\", \"27.5\", \"35.7\", \"25.6\", \"35.1\", \"30.8\", \"23.1\", \"32.7\", \"23.6\", \"23.9\", \"47.9\", \"33.8\", \"25.9\", \"25.9\", \"32\", \"34.7\", \"36.8\", \"38.5\", \"28.7\", \"23.5\", \"21.8\", \"42.2\", \"31.2\", \"34.4\", \"27.2\", \"42.7\", \"35.3\", \"29.8\", \"39.2\", \"34.9\", \"34\", \"21\", \"27.5\", \"0\", \"35.8\", \"34.9\", \"36.2\", \"25.2\", \"37.2\", \"43.4\", \"30.8\", \"20\", \"25.4\", \"25.1\", \"24.3\", \"22.3\", \"31.6\", \"32\", \"23.7\", \"22.1\", \"27.7\", \"24.7\", \"21.1\", \"24.2\", \"31.6\", \"42.1\", \"21.9\", \"35.7\", \"34.4\", \"42.4\", \"26.2\", \"27.2\", \"18.2\", \"45.3\", \"26\", \"40.6\", \"30.8\", \"0\", \"40.6\", \"22.2\", \"30.4\", \"30\", \"25.6\", \"24.5\", \"37.4\", \"29.9\", \"18.2\", \"36.8\", \"32.2\", \"33.2\", \"25.3\", \"36.5\", \"30.5\", \"21.2\", \"39.9\", \"19.6\", \"37.8\", \"26.7\", \"30.2\", \"25.9\", \"20.8\", \"21.8\", \"35.3\", \"27.6\", \"24\", \"21.8\", \"27.8\", \"36.8\", \"46.1\", \"41.3\", \"33.2\", \"38.8\", \"29.9\", \"28.9\", \"27.3\", \"23.8\", \"25.9\", \"28\", \"35.2\", \"27.8\", \"38.2\", \"40.7\", \"46.5\", \"25.6\", \"26.1\", \"36.8\", \"33.5\", \"32.8\", \"0\", \"26.6\", \"26\", \"30.1\", \"29.3\", \"25.2\", \"37.2\", \"33.3\", \"37.3\", \"33.3\", \"28.6\", \"30.4\", \"25\", \"22.1\", \"24.2\", \"27.3\", \"25.6\", \"37.6\", \"32.8\", \"19.6\", \"25\", \"33.2\", \"0\", \"31.6\", \"21.8\", \"18.2\", \"26.3\", \"30.8\", \"24.6\", \"29.8\", \"45.3\", \"41.3\", \"29.8\", \"33.3\", \"29.6\", \"21.7\", \"36.3\", \"39.5\", \"32\", \"33.1\", \"32.8\", \"28.5\", \"27.4\", \"31.9\", \"27.8\", \"29.9\", \"36.9\", \"25.5\", \"38.1\", \"27.8\", \"46.2\", \"30.1\", \"37.6\", \"26.9\", \"32.4\", \"26.1\", \"38.6\", \"32\", \"31.3\", \"32.5\", \"22.6\", \"29.5\", \"34.7\", \"30.1\", \"35.5\", \"24\", \"27\", \"25\", \"26.5\", \"38.7\", \"22.5\", \"24.3\", \"21.1\", \"39.4\", \"28.5\", \"33.6\", \"45.3\", \"27.8\", \"23.1\", \"27.1\", \"23.7\", \"27.8\", \"35.8\", \"19.5\", \"41.5\", \"24\", \"30.9\", \"32.5\", \"25.8\", \"28.7\", \"20.1\", \"38.4\", \"24.2\", \"40.8\", \"43.5\", \"30.8\", \"37.7\", \"24.7\", \"32.4\", \"34.6\", \"24.7\", \"34.5\", \"26.2\", \"27.5\", \"25.9\", \"28.8\", \"31.6\", \"19.5\", \"29.3\", \"34.3\", \"28\", \"27.6\", \"39.4\", \"26.4\", \"25.2\", \"33.8\", \"34.1\", \"26.8\", \"34.2\", \"21.8\", \"38.9\", \"39\", \"27.7\", \"34.8\", \"34\", \"30.9\", \"33.6\", \"25.4\", \"35.5\", \"57.3\", \"35.6\", \"35.3\", \"24.2\", \"24.2\", \"44.6\", \"0\", \"33.2\", \"23.1\", \"28.3\", \"24.1\", \"24.6\", \"39.1\", \"23.5\", \"25\", \"34.5\", \"44.5\", \"35.9\", \"38.5\", \"28.4\", \"39.8\", \"34.4\", \"31.2\", \"29.6\", \"26.4\", \"29.5\", \"23.1\", \"35.5\", \"29.3\", \"38.1\", \"39.1\", \"32.8\", \"39.4\", \"36.1\", \"32.4\", \"22.9\", \"30.1\", \"29\", \"23.3\", \"35.4\", \"27.4\", \"32\", \"36.6\", \"30.8\", \"28.5\", \"40.6\", \"30\", \"46.3\", \"39\", \"26\", \"32\", \"37.5\", \"28.4\", \"22.5\", \"32.9\", \"36.8\", \"26.2\", \"30.4\"]}],                        {\"template\": {\"data\": {\"bar\": [{\"error_x\": {\"color\": \"#2a3f5f\"}, \"error_y\": {\"color\": \"#2a3f5f\"}, \"marker\": {\"line\": {\"color\": \"#E5ECF6\", \"width\": 0.5}}, \"type\": \"bar\"}], \"barpolar\": [{\"marker\": {\"line\": {\"color\": \"#E5ECF6\", \"width\": 0.5}}, \"type\": \"barpolar\"}], \"carpet\": [{\"aaxis\": {\"endlinecolor\": \"#2a3f5f\", \"gridcolor\": \"white\", \"linecolor\": \"white\", \"minorgridcolor\": \"white\", \"startlinecolor\": \"#2a3f5f\"}, \"baxis\": {\"endlinecolor\": \"#2a3f5f\", \"gridcolor\": \"white\", \"linecolor\": \"white\", \"minorgridcolor\": \"white\", \"startlinecolor\": \"#2a3f5f\"}, \"type\": \"carpet\"}], \"choropleth\": [{\"colorbar\": {\"outlinewidth\": 0, \"ticks\": \"\"}, \"type\": \"choropleth\"}], \"contour\": [{\"colorbar\": {\"outlinewidth\": 0, \"ticks\": \"\"}, \"colorscale\": [[0.0, \"#0d0887\"], [0.1111111111111111, \"#46039f\"], [0.2222222222222222, \"#7201a8\"], [0.3333333333333333, \"#9c179e\"], [0.4444444444444444, \"#bd3786\"], [0.5555555555555556, \"#d8576b\"], [0.6666666666666666, \"#ed7953\"], [0.7777777777777778, \"#fb9f3a\"], [0.8888888888888888, \"#fdca26\"], [1.0, \"#f0f921\"]], \"type\": \"contour\"}], \"contourcarpet\": [{\"colorbar\": {\"outlinewidth\": 0, \"ticks\": \"\"}, \"type\": \"contourcarpet\"}], \"heatmap\": [{\"colorbar\": {\"outlinewidth\": 0, \"ticks\": \"\"}, \"colorscale\": [[0.0, \"#0d0887\"], [0.1111111111111111, \"#46039f\"], [0.2222222222222222, \"#7201a8\"], [0.3333333333333333, \"#9c179e\"], [0.4444444444444444, \"#bd3786\"], [0.5555555555555556, \"#d8576b\"], [0.6666666666666666, \"#ed7953\"], [0.7777777777777778, \"#fb9f3a\"], [0.8888888888888888, \"#fdca26\"], [1.0, \"#f0f921\"]], \"type\": \"heatmap\"}], \"heatmapgl\": [{\"colorbar\": {\"outlinewidth\": 0, \"ticks\": \"\"}, \"colorscale\": [[0.0, \"#0d0887\"], [0.1111111111111111, \"#46039f\"], [0.2222222222222222, \"#7201a8\"], [0.3333333333333333, \"#9c179e\"], [0.4444444444444444, \"#bd3786\"], [0.5555555555555556, \"#d8576b\"], [0.6666666666666666, \"#ed7953\"], [0.7777777777777778, \"#fb9f3a\"], [0.8888888888888888, \"#fdca26\"], [1.0, \"#f0f921\"]], \"type\": \"heatmapgl\"}], \"histogram\": [{\"marker\": {\"colorbar\": {\"outlinewidth\": 0, \"ticks\": \"\"}}, \"type\": \"histogram\"}], \"histogram2d\": [{\"colorbar\": {\"outlinewidth\": 0, \"ticks\": \"\"}, \"colorscale\": [[0.0, \"#0d0887\"], [0.1111111111111111, \"#46039f\"], [0.2222222222222222, \"#7201a8\"], [0.3333333333333333, \"#9c179e\"], [0.4444444444444444, \"#bd3786\"], [0.5555555555555556, \"#d8576b\"], [0.6666666666666666, \"#ed7953\"], [0.7777777777777778, \"#fb9f3a\"], [0.8888888888888888, \"#fdca26\"], [1.0, \"#f0f921\"]], \"type\": \"histogram2d\"}], \"histogram2dcontour\": [{\"colorbar\": {\"outlinewidth\": 0, \"ticks\": \"\"}, \"colorscale\": [[0.0, \"#0d0887\"], [0.1111111111111111, \"#46039f\"], [0.2222222222222222, \"#7201a8\"], [0.3333333333333333, \"#9c179e\"], [0.4444444444444444, \"#bd3786\"], [0.5555555555555556, \"#d8576b\"], [0.6666666666666666, \"#ed7953\"], [0.7777777777777778, \"#fb9f3a\"], [0.8888888888888888, \"#fdca26\"], [1.0, \"#f0f921\"]], \"type\": \"histogram2dcontour\"}], \"mesh3d\": [{\"colorbar\": {\"outlinewidth\": 0, \"ticks\": \"\"}, \"type\": \"mesh3d\"}], \"parcoords\": [{\"line\": {\"colorbar\": {\"outlinewidth\": 0, \"ticks\": \"\"}}, \"type\": \"parcoords\"}], \"pie\": [{\"automargin\": true, \"type\": \"pie\"}], \"scatter\": [{\"marker\": {\"colorbar\": {\"outlinewidth\": 0, \"ticks\": \"\"}}, \"type\": \"scatter\"}], \"scatter3d\": [{\"line\": {\"colorbar\": {\"outlinewidth\": 0, \"ticks\": \"\"}}, \"marker\": {\"colorbar\": {\"outlinewidth\": 0, \"ticks\": \"\"}}, \"type\": \"scatter3d\"}], \"scattercarpet\": [{\"marker\": {\"colorbar\": {\"outlinewidth\": 0, \"ticks\": \"\"}}, \"type\": \"scattercarpet\"}], \"scattergeo\": [{\"marker\": {\"colorbar\": {\"outlinewidth\": 0, \"ticks\": \"\"}}, \"type\": \"scattergeo\"}], \"scattergl\": [{\"marker\": {\"colorbar\": {\"outlinewidth\": 0, \"ticks\": \"\"}}, \"type\": \"scattergl\"}], \"scattermapbox\": [{\"marker\": {\"colorbar\": {\"outlinewidth\": 0, \"ticks\": \"\"}}, \"type\": \"scattermapbox\"}], \"scatterpolar\": [{\"marker\": {\"colorbar\": {\"outlinewidth\": 0, \"ticks\": \"\"}}, \"type\": \"scatterpolar\"}], \"scatterpolargl\": [{\"marker\": {\"colorbar\": {\"outlinewidth\": 0, \"ticks\": \"\"}}, \"type\": \"scatterpolargl\"}], \"scatterternary\": [{\"marker\": {\"colorbar\": {\"outlinewidth\": 0, \"ticks\": \"\"}}, \"type\": \"scatterternary\"}], \"surface\": [{\"colorbar\": {\"outlinewidth\": 0, \"ticks\": \"\"}, \"colorscale\": [[0.0, \"#0d0887\"], [0.1111111111111111, \"#46039f\"], [0.2222222222222222, \"#7201a8\"], [0.3333333333333333, \"#9c179e\"], [0.4444444444444444, \"#bd3786\"], [0.5555555555555556, \"#d8576b\"], [0.6666666666666666, \"#ed7953\"], [0.7777777777777778, \"#fb9f3a\"], [0.8888888888888888, \"#fdca26\"], [1.0, \"#f0f921\"]], \"type\": \"surface\"}], \"table\": [{\"cells\": {\"fill\": {\"color\": \"#EBF0F8\"}, \"line\": {\"color\": \"white\"}}, \"header\": {\"fill\": {\"color\": \"#C8D4E3\"}, \"line\": {\"color\": \"white\"}}, \"type\": \"table\"}]}, \"layout\": {\"annotationdefaults\": {\"arrowcolor\": \"#2a3f5f\", \"arrowhead\": 0, \"arrowwidth\": 1}, \"coloraxis\": {\"colorbar\": {\"outlinewidth\": 0, \"ticks\": \"\"}}, \"colorscale\": {\"diverging\": [[0, \"#8e0152\"], [0.1, \"#c51b7d\"], [0.2, \"#de77ae\"], [0.3, \"#f1b6da\"], [0.4, \"#fde0ef\"], [0.5, \"#f7f7f7\"], [0.6, \"#e6f5d0\"], [0.7, \"#b8e186\"], [0.8, \"#7fbc41\"], [0.9, \"#4d9221\"], [1, \"#276419\"]], \"sequential\": [[0.0, \"#0d0887\"], [0.1111111111111111, \"#46039f\"], [0.2222222222222222, \"#7201a8\"], [0.3333333333333333, \"#9c179e\"], [0.4444444444444444, \"#bd3786\"], [0.5555555555555556, \"#d8576b\"], [0.6666666666666666, \"#ed7953\"], [0.7777777777777778, \"#fb9f3a\"], [0.8888888888888888, \"#fdca26\"], [1.0, \"#f0f921\"]], \"sequentialminus\": [[0.0, \"#0d0887\"], [0.1111111111111111, \"#46039f\"], [0.2222222222222222, \"#7201a8\"], [0.3333333333333333, \"#9c179e\"], [0.4444444444444444, \"#bd3786\"], [0.5555555555555556, \"#d8576b\"], [0.6666666666666666, \"#ed7953\"], [0.7777777777777778, \"#fb9f3a\"], [0.8888888888888888, \"#fdca26\"], [1.0, \"#f0f921\"]]}, \"colorway\": [\"#636efa\", \"#EF553B\", \"#00cc96\", \"#ab63fa\", \"#FFA15A\", \"#19d3f3\", \"#FF6692\", \"#B6E880\", \"#FF97FF\", \"#FECB52\"], \"font\": {\"color\": \"#2a3f5f\"}, \"geo\": {\"bgcolor\": \"white\", \"lakecolor\": \"white\", \"landcolor\": \"#E5ECF6\", \"showlakes\": true, \"showland\": true, \"subunitcolor\": \"white\"}, \"hoverlabel\": {\"align\": \"left\"}, \"hovermode\": \"closest\", \"mapbox\": {\"style\": \"light\"}, \"paper_bgcolor\": \"white\", \"plot_bgcolor\": \"#E5ECF6\", \"polar\": {\"angularaxis\": {\"gridcolor\": \"white\", \"linecolor\": \"white\", \"ticks\": \"\"}, \"bgcolor\": \"#E5ECF6\", \"radialaxis\": {\"gridcolor\": \"white\", \"linecolor\": \"white\", \"ticks\": \"\"}}, \"scene\": {\"xaxis\": {\"backgroundcolor\": \"#E5ECF6\", \"gridcolor\": \"white\", \"gridwidth\": 2, \"linecolor\": \"white\", \"showbackground\": true, \"ticks\": \"\", \"zerolinecolor\": \"white\"}, \"yaxis\": {\"backgroundcolor\": \"#E5ECF6\", \"gridcolor\": \"white\", \"gridwidth\": 2, \"linecolor\": \"white\", \"showbackground\": true, \"ticks\": \"\", \"zerolinecolor\": \"white\"}, \"zaxis\": {\"backgroundcolor\": \"#E5ECF6\", \"gridcolor\": \"white\", \"gridwidth\": 2, \"linecolor\": \"white\", \"showbackground\": true, \"ticks\": \"\", \"zerolinecolor\": \"white\"}}, \"shapedefaults\": {\"line\": {\"color\": \"#2a3f5f\"}}, \"ternary\": {\"aaxis\": {\"gridcolor\": \"white\", \"linecolor\": \"white\", \"ticks\": \"\"}, \"baxis\": {\"gridcolor\": \"white\", \"linecolor\": \"white\", \"ticks\": \"\"}, \"bgcolor\": \"#E5ECF6\", \"caxis\": {\"gridcolor\": \"white\", \"linecolor\": \"white\", \"ticks\": \"\"}}, \"title\": {\"x\": 0.05}, \"xaxis\": {\"automargin\": true, \"gridcolor\": \"white\", \"linecolor\": \"white\", \"ticks\": \"\", \"title\": {\"standoff\": 15}, \"zerolinecolor\": \"white\", \"zerolinewidth\": 2}, \"yaxis\": {\"automargin\": true, \"gridcolor\": \"white\", \"linecolor\": \"white\", \"ticks\": \"\", \"title\": {\"standoff\": 15}, \"zerolinecolor\": \"white\", \"zerolinewidth\": 2}}}, \"title\": {\"text\": \"SkinThickness vs BMI\"}, \"xaxis\": {\"title\": {\"text\": \"SkinThickness\"}, \"zeroline\": false}, \"yaxis\": {\"title\": {\"text\": \"BMI\"}, \"zeroline\": false}},                        {\"responsive\": true}                    ).then(function(){\n",
       "                            \n",
       "var gd = document.getElementById('ca96e512-9804-4e37-ac22-6354e1701bc6');\n",
       "var x = new MutationObserver(function (mutations, observer) {{\n",
       "        var display = window.getComputedStyle(gd).display;\n",
       "        if (!display || display === 'none') {{\n",
       "            console.log([gd, 'removed!']);\n",
       "            Plotly.purge(gd);\n",
       "            observer.disconnect();\n",
       "        }}\n",
       "}});\n",
       "\n",
       "// Listen for the removal of the full notebook cells\n",
       "var notebookContainer = gd.closest('#notebook-container');\n",
       "if (notebookContainer) {{\n",
       "    x.observe(notebookContainer, {childList: true});\n",
       "}}\n",
       "\n",
       "// Listen for the clearing of the current output cell\n",
       "var outputEl = gd.closest('.output');\n",
       "if (outputEl) {{\n",
       "    x.observe(outputEl, {childList: true});\n",
       "}}\n",
       "\n",
       "                        })                };                });            </script>        </div>"
      ]
     },
     "metadata": {},
     "output_type": "display_data"
    }
   ],
   "source": [
    "plot_feat1_feat2('SkinThickness', 'BMI')"
   ]
  },
  {
   "cell_type": "markdown",
   "metadata": {},
   "source": [
    "Here we can see that people with SkinThickness< 30 and BMI <45 are less likly to be affected with diageties"
   ]
  },
  {
   "cell_type": "markdown",
   "metadata": {},
   "source": [
    "#### Feature Scaling and why is it important?\n",
    "\n",
    "It is a part of data pre-processing which is applied to independent variables or features of the data. \n",
    "\n",
    "It is important to normalize the data within a particular range and sometimes it helps in speeding up the calculations in an algorithm. \n",
    "\n",
    "Below line of code shows scaling of features in the dataset. "
   ]
  },
  {
   "cell_type": "markdown",
   "metadata": {},
   "source": [
    "We are doing this step as to to load the data in the model and avoid multi-variable multi-output data problem."
   ]
  },
  {
   "cell_type": "code",
   "execution_count": 29,
   "metadata": {},
   "outputs": [],
   "source": [
    "# scale all the columns except the 'outcome'\n",
    "scaled_data = minmax_scaling(diabetes_df,columns=['Pregnancies','Glucose','BloodPressure','SkinThickness','Insulin','BMI','DiabetesPedigreeFunction','Age'])"
   ]
  },
  {
   "cell_type": "code",
   "execution_count": 30,
   "metadata": {},
   "outputs": [],
   "source": [
    "# defining variables X and Y. Y variable has the target value and X variable has other features in the dataset. \n",
    "X = diabetes_df.iloc[:, :-1].values\n",
    "y = diabetes_df[\"Outcome\"].values"
   ]
  },
  {
   "cell_type": "code",
   "execution_count": 31,
   "metadata": {},
   "outputs": [
    {
     "name": "stdout",
     "output_type": "stream",
     "text": [
      "(537, 8) (537,) (231, 8) (231,)\n"
     ]
    }
   ],
   "source": [
    "# splitting the data into train and test data in the ratio 70% and 30%\n",
    "X_train, X_test, y_train, y_test = train_test_split(X, y, test_size=0.3)\n",
    "print(X_train.shape, y_train.shape, X_test.shape, y_test.shape)\n",
    "#return X_train, X_test, y_train, y_test"
   ]
  },
  {
   "cell_type": "code",
   "execution_count": null,
   "metadata": {},
   "outputs": [],
   "source": [
    "\n",
    "    \n"
   ]
  },
  {
   "cell_type": "markdown",
   "metadata": {},
   "source": [
    "### Applying Machine Learning Techniques\n",
    "\n",
    "We will use Random Forests, K-Nearest Neighbors, Decision Trees to predict the outcome. We will also check for accuracy, AUC-ROC score values. "
   ]
  },
  {
   "cell_type": "markdown",
   "metadata": {},
   "source": [
    "### Logistic Regression"
   ]
  },
  {
   "cell_type": "code",
   "execution_count": 32,
   "metadata": {},
   "outputs": [],
   "source": [
    "X = diabetes_df.drop('Outcome',axis=1)\n",
    "y = diabetes_df['Outcome']\n"
   ]
  },
  {
   "cell_type": "code",
   "execution_count": 33,
   "metadata": {},
   "outputs": [],
   "source": [
    "X_train, X_test, y_train, y_test = train_test_split(X, y, test_size=0.3, random_state=1)"
   ]
  },
  {
   "cell_type": "code",
   "execution_count": 34,
   "metadata": {},
   "outputs": [],
   "source": [
    "from sklearn.preprocessing import MinMaxScaler\n",
    "scale = MinMaxScaler()\n",
    "X_train = scale.fit_transform(X_train)\n",
    "X_test = scale.fit_transform(X_test)"
   ]
  },
  {
   "cell_type": "code",
   "execution_count": 35,
   "metadata": {},
   "outputs": [],
   "source": [
    "from sklearn.linear_model import LogisticRegression\n",
    "lg = LogisticRegression()\n",
    "lg.fit(X_train,y_train)\n",
    "lg_pred = lg.predict(X_test)"
   ]
  },
  {
   "cell_type": "code",
   "execution_count": 36,
   "metadata": {},
   "outputs": [
    {
     "name": "stdout",
     "output_type": "stream",
     "text": [
      "<bound method LogisticRegression.fit of LogisticRegression(C=1.0, class_weight=None, dual=False, fit_intercept=True,\n",
      "                   intercept_scaling=1, l1_ratio=None, max_iter=100,\n",
      "                   multi_class='auto', n_jobs=None, penalty='l2',\n",
      "                   random_state=None, solver='lbfgs', tol=0.0001, verbose=0,\n",
      "                   warm_start=False)>\n"
     ]
    }
   ],
   "source": [
    "\n",
    "print (lg.fit)"
   ]
  },
  {
   "cell_type": "code",
   "execution_count": 37,
   "metadata": {},
   "outputs": [
    {
     "data": {
      "text/plain": [
       "array([0, 0, 0, 0, 0, 0, 0, 0, 0, 0, 1, 0, 1, 1, 0, 1, 0, 0, 0, 0, 0, 0,\n",
       "       1, 0, 0, 0, 0, 1, 0, 0, 0, 0, 0, 1, 0, 1, 0, 0, 0, 0, 0, 0, 0, 0,\n",
       "       0, 0, 1, 1, 0, 0, 0, 0, 1, 0, 1, 0, 0, 0, 1, 0, 1, 0, 1, 0, 0, 0,\n",
       "       0, 0, 1, 1, 1, 1, 0, 0, 1, 0, 1, 0, 0, 1, 1, 0, 0, 0, 0, 1, 1, 0,\n",
       "       0, 0, 0, 0, 0, 0, 1, 0, 0, 0, 1, 0, 0, 0, 1, 0, 0, 0, 0, 1, 0, 0,\n",
       "       0, 0, 0, 0, 0, 0, 0, 0, 0, 0, 0, 1, 0, 0, 0, 0, 0, 0, 1, 0, 1, 0,\n",
       "       1, 0, 0, 0, 0, 1, 0, 0, 1, 0, 0, 1, 1, 0, 0, 0, 0, 0, 0, 1, 0, 0,\n",
       "       1, 1, 0, 0, 0, 0, 1, 1, 0, 0, 0, 0, 0, 1, 1, 1, 1, 1, 0, 0, 1, 0,\n",
       "       1, 0, 0, 0, 0, 1, 0, 1, 0, 0, 0, 1, 0, 0, 0, 0, 0, 0, 1, 0, 0, 0,\n",
       "       0, 1, 1, 1, 0, 0, 1, 1, 0, 0, 0, 1, 0, 0, 0, 1, 0, 0, 0, 0, 0, 0,\n",
       "       0, 0, 0, 1, 0, 0, 0, 0, 0, 1, 0])"
      ]
     },
     "execution_count": 37,
     "metadata": {},
     "output_type": "execute_result"
    }
   ],
   "source": [
    "\n",
    "lg_pred"
   ]
  },
  {
   "cell_type": "code",
   "execution_count": 38,
   "metadata": {},
   "outputs": [
    {
     "name": "stdout",
     "output_type": "stream",
     "text": [
      "[[132  14]\n",
      " [ 37  48]]\n"
     ]
    }
   ],
   "source": [
    "# Predicting the test set results and creating confusion matrix\n",
    "from sklearn.metrics import confusion_matrix\n",
    "confusion_matrix = confusion_matrix(y_test, lg_pred)\n",
    "print(confusion_matrix)"
   ]
  },
  {
   "cell_type": "code",
   "execution_count": 39,
   "metadata": {},
   "outputs": [
    {
     "name": "stdout",
     "output_type": "stream",
     "text": [
      "Accuracy of logistic regression classifier on test set: 1.00\n"
     ]
    }
   ],
   "source": [
    "print('Accuracy of logistic regression classifier on test set: {:.2f}'.format(lg.score(X_test, lg_pred)))"
   ]
  },
  {
   "cell_type": "code",
   "execution_count": 40,
   "metadata": {},
   "outputs": [
    {
     "name": "stdout",
     "output_type": "stream",
     "text": [
      "              precision    recall  f1-score   support\n",
      "\n",
      "           0       0.78      0.90      0.84       146\n",
      "           1       0.77      0.56      0.65        85\n",
      "\n",
      "    accuracy                           0.78       231\n",
      "   macro avg       0.78      0.73      0.75       231\n",
      "weighted avg       0.78      0.78      0.77       231\n",
      "\n"
     ]
    }
   ],
   "source": [
    "from sklearn.metrics import classification_report\n",
    "print(classification_report(y_test, lg_pred))"
   ]
  },
  {
   "cell_type": "markdown",
   "metadata": {},
   "source": [
    "The recall rate of 0 is more as there are high in number compared to 1"
   ]
  },
  {
   "cell_type": "code",
   "execution_count": 41,
   "metadata": {},
   "outputs": [],
   "source": [
    "y_pred_proba = lg.predict_proba(X_test)[:,1]\n",
    "fpr, tpr, thresholds = roc_curve(y_test, y_pred_proba)"
   ]
  },
  {
   "cell_type": "code",
   "execution_count": 42,
   "metadata": {},
   "outputs": [
    {
     "data": {
      "image/png": "[encoded data removed]",
      "text/plain": [
       "<Figure size 432x288 with 1 Axes>"
      ]
     },
     "metadata": {
      "needs_background": "light"
     },
     "output_type": "display_data"
    }
   ],
   "source": [
    "plt.plot([0,1],[0,1],'--')\n",
    "plt.plot(fpr,tpr, label='LG')\n",
    "plt.xlabel('fpr')\n",
    "plt.ylabel('tpr')\n",
    "plt.title('Logistic Regression ROC curve')\n",
    "plt.show()"
   ]
  },
  {
   "cell_type": "code",
   "execution_count": 43,
   "metadata": {},
   "outputs": [
    {
     "name": "stdout",
     "output_type": "stream",
     "text": [
      "The AUC score for the given model is : 0.886140209508461\n"
     ]
    }
   ],
   "source": [
    "print(\"The AUC score for the given model is :\",roc_auc_score(y_test,y_pred_proba))"
   ]
  },
  {
   "cell_type": "markdown",
   "metadata": {},
   "source": [
    "Auc for the Logisitic Regression is 0.88"
   ]
  },
  {
   "cell_type": "markdown",
   "metadata": {},
   "source": [
    "### Decision Tree"
   ]
  },
  {
   "cell_type": "code",
   "execution_count": 44,
   "metadata": {},
   "outputs": [],
   "source": [
    "from sklearn.tree import DecisionTreeClassifier\n",
    "from sklearn.model_selection import train_test_split\n",
    "from sklearn import metrics"
   ]
  },
  {
   "cell_type": "code",
   "execution_count": 45,
   "metadata": {},
   "outputs": [],
   "source": [
    "X_train, X_test, y_train, y_test = train_test_split(X, y, test_size=0.3, random_state=1)"
   ]
  },
  {
   "cell_type": "code",
   "execution_count": 46,
   "metadata": {},
   "outputs": [
    {
     "name": "stdout",
     "output_type": "stream",
     "text": [
      "The accuracy of the Decision Tree is 0.7316017316017316\n"
     ]
    }
   ],
   "source": [
    "\n",
    "from sklearn.preprocessing import StandardScaler\n",
    "scale = StandardScaler()\n",
    "X_train = scale.fit_transform(X_train)\n",
    "X_test = scale.fit_transform(X_test)\n",
    "model=DecisionTreeClassifier()\n",
    "model.fit(X_train,y_train)\n",
    "prediction=model.predict(X_test)\n",
    "print('The accuracy of the Decision Tree is',metrics.accuracy_score(prediction,y_test))"
   ]
  },
  {
   "cell_type": "markdown",
   "metadata": {},
   "source": [
    "## The Accuracy for the Decission Tree is 0.71"
   ]
  },
  {
   "cell_type": "markdown",
   "metadata": {},
   "source": [
    "### Random Forest Classifier\n",
    "\n",
    "Random Forests are also known as random decision forests is a popular ensemble method useful for predicting the outcome. \n",
    "\n",
    "Random forest classifier creates a set of decision trees from randomly selected subset of training set. It then aggregates the votes from different decision trees to decide the final class of the test object.\n",
    "\n",
    "Hyperparameters for Random Forests Classifier: Total Number of trees to be generated and decision tree related parameters like minimum split, split criteria etc."
   ]
  },
  {
   "cell_type": "code",
   "execution_count": 47,
   "metadata": {},
   "outputs": [
    {
     "data": {
      "text/plain": [
       "RandomForestClassifier(bootstrap=True, ccp_alpha=0.0, class_weight=None,\n",
       "                       criterion='gini', max_depth=None, max_features='auto',\n",
       "                       max_leaf_nodes=None, max_samples=None,\n",
       "                       min_impurity_decrease=0.0, min_impurity_split=None,\n",
       "                       min_samples_leaf=1, min_samples_split=2,\n",
       "                       min_weight_fraction_leaf=0.0, n_estimators=300,\n",
       "                       n_jobs=None, oob_score=False, random_state=None,\n",
       "                       verbose=0, warm_start=False)"
      ]
     },
     "execution_count": 47,
     "metadata": {},
     "output_type": "execute_result"
    }
   ],
   "source": [
    "rf_model = RandomForestClassifier(n_estimators=300)\n",
    "rf_model.fit(X_train, y_train)"
   ]
  },
  {
   "cell_type": "code",
   "execution_count": 48,
   "metadata": {},
   "outputs": [
    {
     "name": "stdout",
     "output_type": "stream",
     "text": [
      "Accuracy is 0.805\n",
      "ROC-AUC is 0.874\n"
     ]
    }
   ],
   "source": [
    "# Make predictions on the test set - both \"hard\" predictions, and the scores (percent of trees voting yes)\n",
    "y_pred_class_rf = rf_model.predict(X_test)\n",
    "y_pred_prob_rf = rf_model.predict_proba(X_test)\n",
    "\n",
    "print('Accuracy is {:.3f}'.format(accuracy_score(y_test,y_pred_class_rf)))\n",
    "print('ROC-AUC is {:.3f}'.format(roc_auc_score(y_test,y_pred_prob_rf[:,1])))"
   ]
  },
  {
   "cell_type": "code",
   "execution_count": 49,
   "metadata": {},
   "outputs": [
    {
     "ename": "NameError",
     "evalue": "name 'plot_roc' is not defined",
     "output_type": "error",
     "traceback": [
      "\u001b[0;31m---------------------------------------------------------------------------\u001b[0m",
      "\u001b[0;31mNameError\u001b[0m                                 Traceback (most recent call last)",
      "\u001b[0;32m<ipython-input-49-6a64d6d5f3e9>\u001b[0m in \u001b[0;36m<module>\u001b[0;34m\u001b[0m\n\u001b[0;32m----> 1\u001b[0;31m \u001b[0mplot_roc\u001b[0m\u001b[0;34m(\u001b[0m\u001b[0my_test\u001b[0m\u001b[0;34m,\u001b[0m \u001b[0my_pred_prob_rf\u001b[0m\u001b[0;34m[\u001b[0m\u001b[0;34m:\u001b[0m\u001b[0;34m,\u001b[0m \u001b[0;36m1\u001b[0m\u001b[0;34m]\u001b[0m\u001b[0;34m,\u001b[0m \u001b[0;34m'Random Forests'\u001b[0m\u001b[0;34m)\u001b[0m\u001b[0;34m\u001b[0m\u001b[0;34m\u001b[0m\u001b[0m\n\u001b[0m",
      "\u001b[0;31mNameError\u001b[0m: name 'plot_roc' is not defined"
     ]
    }
   ],
   "source": [
    "\n",
    "plot_roc(y_test, y_pred_prob_rf[:, 1], 'Random Forests')"
   ]
  },
  {
   "cell_type": "markdown",
   "metadata": {},
   "source": [
    "#### Accuracy obtained is 78.4 % and AUC-ROC value is 0.879 by employing Random Forest Model. "
   ]
  },
  {
   "cell_type": "markdown",
   "metadata": {},
   "source": [
    "### Using K-Nearest neighbors method\n",
    "\n",
    "K-Nearest neighbor classifier is a popular algorithm useful for classification problems.\n",
    "\n",
    "K-nearest neighbor algorithm predicts the class of the data point as per the majority of the votes obtained from the neighboring points and calculates distance such as Euclidean distance, hamming distance, cosine distance etc. Based on the votes, label is assigned to the new data point which needs to be predicted.  "
   ]
  },
  {
   "cell_type": "code",
   "execution_count": null,
   "metadata": {},
   "outputs": [],
   "source": [
    "ds_cols = ['Glucose', 'BloodPressure', 'SkinThickness', 'BMI', 'Insulin']"
   ]
  },
  {
   "cell_type": "code",
   "execution_count": null,
   "metadata": {},
   "outputs": [],
   "source": [
    "X = diabetes_df.iloc[:, 0:8]\n",
    "y = diabetes_df.iloc[:, 8]\n",
    "X_train, X_test, y_train, y_test = train_test_split(X, y, random_state=11111, test_size=0.3)\n",
    "print(X_train.shape, y_train.shape, X_test.shape, y_test.shape)"
   ]
  },
  {
   "cell_type": "code",
   "execution_count": null,
   "metadata": {},
   "outputs": [],
   "source": [
    "sc_X = StandardScaler()\n",
    "X_train = sc_X.fit_transform(X_train)\n",
    "X_test = sc_X.transform(X_test)"
   ]
  },
  {
   "cell_type": "code",
   "execution_count": null,
   "metadata": {},
   "outputs": [],
   "source": [
    "# Define the model: Init K-NN\n",
    "classifier = KNeighborsClassifier(n_neighbors=7, p=2, metric='euclidean')"
   ]
  },
  {
   "cell_type": "code",
   "execution_count": null,
   "metadata": {},
   "outputs": [],
   "source": [
    "classifier.fit(X_train, y_train)"
   ]
  },
  {
   "cell_type": "code",
   "execution_count": null,
   "metadata": {},
   "outputs": [],
   "source": [
    "y_pred = classifier.predict(X_test)"
   ]
  },
  {
   "cell_type": "code",
   "execution_count": null,
   "metadata": {},
   "outputs": [],
   "source": [
    "# Evaluate Model\n",
    "from sklearn.metrics import f1_score\n",
    "#evaluate_cm = confusion_matrix(y_test, y_pred)\n",
    "#print (evaluate_cm)\n",
    "print(f1_score(y_test, y_pred))"
   ]
  },
  {
   "cell_type": "code",
   "execution_count": null,
   "metadata": {},
   "outputs": [],
   "source": [
    "# creating the confusion matrix\n",
    "#evaluate_cm = confusion_matrix(y_test, y_pred)\n",
    "#print (evaluate_cm)\n",
    "print('F1 score is ' ,f1_score(y_test, y_pred))\n",
    "print('Accuracy is' , accuracy_score(y_test, y_pred))"
   ]
  },
  {
   "cell_type": "code",
   "execution_count": null,
   "metadata": {},
   "outputs": [],
   "source": [
    "plot_roc(y_test, y_pred, 'KNN')"
   ]
  },
  {
   "cell_type": "markdown",
   "metadata": {},
   "source": [
    "#### Accuracy score obtained from KNN method = 74.8%"
   ]
  },
  {
   "cell_type": "markdown",
   "metadata": {},
   "source": [
    "###  Gradient Boosting Classifier\n",
    "\n",
    "Gradient boosting is a machine learning technique for regression and classification problems, which produces a prediction model in the form of an ensemble of weak prediction models, typically decision trees. \n",
    "\n",
    "It builds the model in a stage-wise fashion like other boosting methods do, and it generalizes them by allowing optimization of an arbitrary differentiable loss function."
   ]
  },
  {
   "cell_type": "code",
   "execution_count": null,
   "metadata": {},
   "outputs": [],
   "source": [
    "params = {'max_depth':9, 'subsample':0.5, 'learning_rate':0.01, 'min_samples_leaf':1, 'random_state':42}\n",
    "gbc = GradientBoostingClassifier(n_estimators=290, **params)\n",
    "clf_ = gbc.fit(X_train, y_train)\n",
    "y_pred = clf_.predict(X_test)\n",
    "print('Accuracy is {}'.format(accuracy_score(y_test,y_pred )))\n",
    "train_predict(gbc, X_train, y_train, X_test, y_test)"
   ]
  },
  {
   "cell_type": "code",
   "execution_count": null,
   "metadata": {},
   "outputs": [],
   "source": [
    "plot_roc(y_test, y_pred, 'GBC')"
   ]
  },
  {
   "cell_type": "markdown",
   "metadata": {},
   "source": [
    "#### Accuracy obtained by applying Gradient Boosting Classifier is 77.9%"
   ]
  },
  {
   "cell_type": "markdown",
   "metadata": {},
   "source": [
    "Using all 5 techniques , we see that best accuracy obtained from Gradient Boosting Classifier which is 77.9%\n",
    "\n",
    "Now, we need to develop a neural network model to see how well it performs and if they can achieve a better accuracy from these models. Wide and deep neural networks usually performs better but we need to experiment and see which model performs better. "
   ]
  },
  {
   "cell_type": "markdown",
   "metadata": {},
   "source": [
    "## Developing Deep Learning Neural Network Model \n",
    "\n",
    "Artificial Neural Network is a computational model based on the biological neural network which consists of various neurons and attempts to simulate the network of neurons so that it can learn the pattern programmatically and make better decisions.\n",
    "\n",
    "ANN comprises of input layer , output layer and hidden layers. Weights are assigned to them and using the backward propagation mechanism, weights are updated accordingly. "
   ]
  },
  {
   "cell_type": "markdown",
   "metadata": {},
   "source": [
    "### Important Terminologies and Concepts to understand Neural Network Model \n",
    "\n",
    "#### Activation Functions:\n",
    "Activation functions play an important role in neural network model because they introduce non-linearity. The main purpose is to convert a input signal of a node in a ANN to an output signal. This output signal now used as an input in the next layer in the stack. \n",
    "\n",
    "In ANN, we compute the sum of products of inputs and their corresponding weights and then apply activation function f(x) to it to get the output layer and feed it as an input to the next layer. There are various kinds of activation function. Only discussing the most popular activation functions used in the project. \n",
    "\n",
    "#### Sigmoid activation function: \n",
    "It is an activation function of form f(x)=1/1+exp(-x) . Range is between 0 and 1. Useful for binary classification problems. \n",
    "\n",
    "#### Tanh activation function:\n",
    "Its mathematical formula is f(x)=1-exp(-2x)/1+exp(-2x). Its output is zero centered because its range in between -1 and 1. Optimization is easier in this case and generally preferred over sigmoid function. \n",
    "\n",
    "#### RELU activation function:\n",
    "It is also popularly called as linear rectified unit. It returns the value provided as input directly, or the value 0.0 if the input is less than zero. \n",
    "\n",
    "Function can be described as g(z) = max{0,z}\n"
   ]
  },
  {
   "cell_type": "code",
   "execution_count": null,
   "metadata": {},
   "outputs": [],
   "source": [
    "\n",
    "import numpy as np\n",
    "import pandas as pd\n",
    "from sklearn.preprocessing import MinMaxScaler"
   ]
  },
  {
   "cell_type": "code",
   "execution_count": null,
   "metadata": {},
   "outputs": [],
   "source": [
    "normalizer = StandardScaler()\n",
    "X_train_norm = normalizer.fit_transform(X_train)\n",
    "X_test_norm = normalizer.transform(X_test)\n",
    "print('X_train_normalized is' , X_train_norm)\n",
    "print('X test normalized is ',X_test_norm)"
   ]
  },
  {
   "cell_type": "markdown",
   "metadata": {},
   "source": [
    "### Developing a neural network model with 1 hidden layer. \n",
    "\n",
    "Here, we have defined a model having 3 dense layers. \n",
    "First is the input layer wherein we have defined an input shape which is 8 and also defined activation function. I have used RELU activation function and as 12 neurons. \n",
    "\n",
    "Second layer consists of a hidden layer having 8 neurons and RELU activation function. \n",
    "\n",
    "Third layer is the output layer having just 1 neuron and used Sigmoid activation function as the output ranges between 0 and 1. Sigmoid functions are useful for binary classification problems. \n",
    "\n",
    "We have used Sequential class from Keras library wherein you can build a model, define the layers, input and output. \n",
    "\n",
    "There are 4 major steps involved in model building:\n",
    "1. Define a model\n",
    "2. Compile the model\n",
    "3. Fit the data into the model\n",
    "4. Predict the outcome"
   ]
  },
  {
   "cell_type": "code",
   "execution_count": null,
   "metadata": {},
   "outputs": [],
   "source": [
    "# definining a model with input, 1 hidden layer and output layer.\n",
    "def nn_model_1(model):\n",
    "    model.add(Dense(12, input_shape=(8,), activation=\"relu\"))\n",
    "    model.add(Dense(8, activation=\"relu\"))\n",
    "    model.add(Dense(1, activation=\"sigmoid\"))\n",
    "    return model"
   ]
  },
  {
   "cell_type": "code",
   "execution_count": null,
   "metadata": {},
   "outputs": [],
   "source": [
    "# calling the above function and initializing the model.\n",
    "model = Sequential()\n",
    "model = nn_model_1(model)"
   ]
  },
  {
   "cell_type": "code",
   "execution_count": null,
   "metadata": {},
   "outputs": [],
   "source": [
    "#prints the model summary\n",
    "model.summary()"
   ]
  },
  {
   "cell_type": "markdown",
   "metadata": {},
   "source": [
    "#### Understanding the model compile method:\n",
    "\n",
    "#### Optimizers used:\n",
    "\n",
    "There are different options of optimizers which can be used in the model such as Adam , SGD and RMSProp. Most popular is SGD which is nothing but Stochastic Gradient Descent.This is useful to minimize the loss function and computes the gradientat each iteration and then helps in updating the weights in the model using backward propagation algorithm. We have used SGD as an optimizer in the model in the whole project. There are others which can be used in the model as well such as Adam or RMSProp.\n",
    "\n",
    "#### Binary Cross Entropy Losses :\n",
    "It is also called as Sigmoid Cross entropy loss. It is basically a sigmoid function and cross-entropy loss. It is independent for each vector component class which is the loss computed for every output vector component not affected by other component values. Since this is a binary classification problem, we have used binary cross entropy loss. \n",
    "\n",
    "#### Learning Rates:\n",
    "Learning Rate is a hyperparameter that controls how much we are adjusting the weights of our network with respect the loss gradient. Lower the learning rate, slower we travel along the downward slope. Equation of new weight calculation is given by:\n",
    "\n",
    "new_weight = existing weight - learning rate * gradient\n",
    "\n",
    "During the model building, we need to test and check the performance of the model. If the learning rate is too low then gradient will be very slow and if the learning rate is too high then the gradient descent can overshoot the minimum and they might fail to converge. \n",
    "\n",
    "Optimal value of the learning rate can be found only when the user tests and check or can have intuition based on the past experiences. In this project, I have tried testing with different learning rates to see the model performance. "
   ]
  },
  {
   "cell_type": "code",
   "execution_count": null,
   "metadata": {},
   "outputs": [],
   "source": [
    "# through this code, we are compiling the above generated model. \n",
    "sgd = SGD(lr=0.05)\n",
    "model.compile(loss=\"binary_crossentropy\",optimizer=sgd, metrics=[\"accuracy\"],sample_weight_mode=None)\n"
   ]
  },
  {
   "cell_type": "markdown",
   "metadata": {},
   "source": [
    "#### Model fit method\n",
    "\n",
    "In below line of code, we have tried fitting the data into the model and the output of the method is stored in a variable called run_hist_1. \n",
    "\n",
    "Verbose =1 signifies that it will show the animated training progress in the output when you run the code. \n",
    "\n",
    "Epochs : It is the hyperparameter set before training the model. One epoch is when an entire dataset is passed both backward and forward through the neural network. It defines the number of times the learning algorithm will work through the entire dataset. We have used different epochs in different models."
   ]
  },
  {
   "cell_type": "code",
   "execution_count": null,
   "metadata": {},
   "outputs": [],
   "source": [
    "run_hist_1 = model.fit(X_train_norm, y_train, validation_data=(X_test_norm, y_test), verbose=1, epochs=200)"
   ]
  },
  {
   "cell_type": "code",
   "execution_count": null,
   "metadata": {},
   "outputs": [],
   "source": [
    "y_pred_class_nn_1 = model.predict_classes(X_test_norm)\n",
    "y_pred_prob_nn_1 = model.predict(X_test_norm)"
   ]
  },
  {
   "cell_type": "code",
   "execution_count": null,
   "metadata": {},
   "outputs": [],
   "source": [
    "# Let's check out the outputs to get a feel for how keras apis work.\n",
    "y_pred_class_nn_1[:10]"
   ]
  },
  {
   "cell_type": "code",
   "execution_count": null,
   "metadata": {},
   "outputs": [],
   "source": [
    "y_pred_prob_nn_1[:10]"
   ]
  },
  {
   "cell_type": "code",
   "execution_count": null,
   "metadata": {},
   "outputs": [],
   "source": [
    "# Print model performance and plot the roc curve\n",
    "print('Accuracy is {:.3f}'.format(accuracy_score(y_test,y_pred_class_nn_1)))\n",
    "print('ROC-AUC is {:.3f}'.format(roc_auc_score(y_test,y_pred_prob_nn_1)))\n",
    "\n",
    "plot_roc(y_test, y_pred_prob_nn_1, 'NN')"
   ]
  },
  {
   "cell_type": "markdown",
   "metadata": {},
   "source": [
    "#### Accuracy obtained from this model is slightly better 75.8% and ROC-AUC value is 0.824 \n",
    "\n",
    "If we tune the hyperpaprameters and add more layers, epochs, learing rate then model might improve. \n",
    "\n",
    "Lets try running for more number of epoch iterations."
   ]
  },
  {
   "cell_type": "code",
   "execution_count": null,
   "metadata": {},
   "outputs": [],
   "source": [
    "run_hist_1.history.keys()"
   ]
  },
  {
   "cell_type": "code",
   "execution_count": null,
   "metadata": {},
   "outputs": [],
   "source": [
    "#plotting the curve to check training and validation accuracy\n",
    "fig, ax = plt.subplots()\n",
    "ax.plot(run_hist_1.history[\"accuracy\"],'r', marker='.', label=\"Training Accuracy\")\n",
    "ax.plot(run_hist_1.history[\"val_accuracy\"],'b', marker='.', label=\"Validation Accuracy\")\n",
    "ax.legend()"
   ]
  },
  {
   "cell_type": "code",
   "execution_count": null,
   "metadata": {},
   "outputs": [],
   "source": [
    "fig, ax = plt.subplots()\n",
    "ax.plot(run_hist_1.history[\"loss\"],'r', marker='.', label=\"Training Loss\")\n",
    "ax.plot(run_hist_1.history[\"val_loss\"],'b', marker='.', label=\"Validation Loss\")\n",
    "ax.legend()"
   ]
  },
  {
   "cell_type": "code",
   "execution_count": null,
   "metadata": {},
   "outputs": [],
   "source": [
    "print('Training loss=',run_hist_1.history[\"loss\"])\n",
    "\n",
    "print('Validation Loss=',run_hist_1.history[\"val_loss\"])"
   ]
  },
  {
   "cell_type": "markdown",
   "metadata": {},
   "source": [
    "#### Increasing the epochs to 400 and checking the performance of the model. \n",
    "\n",
    "Lets increase the number of epochs to 400 and check the performance of the model. Rest all the parameter values will remain unchanged. Here we are trying to check if the number of epochs makes a difference in performance to the model. "
   ]
  },
  {
   "cell_type": "code",
   "execution_count": null,
   "metadata": {},
   "outputs": [],
   "source": [
    "run_hist_400 = model.fit(X_train_norm, y_train, validation_data=(X_test_norm, y_test), epochs=400)"
   ]
  },
  {
   "cell_type": "code",
   "execution_count": null,
   "metadata": {},
   "outputs": [],
   "source": [
    "y_pred_class_nn_2 = model.predict_classes(X_test_norm)\n",
    "y_pred_prob_nn_2 = model.predict(X_test_norm)"
   ]
  },
  {
   "cell_type": "code",
   "execution_count": null,
   "metadata": {},
   "outputs": [],
   "source": [
    "# Print model performance and plot the roc curve\n",
    "print('Accuracy is {:.3f}'.format(accuracy_score(y_test,y_pred_class_nn_2)))\n",
    "print('ROC-AUC is {:.3f}'.format(roc_auc_score(y_test,y_pred_prob_nn_2)))\n",
    "\n",
    "plot_roc(y_test, y_pred_prob_nn_2, 'NN')"
   ]
  },
  {
   "cell_type": "markdown",
   "metadata": {},
   "source": [
    "#### Accuracy obtained is 72.7% and AUC-ROC curve is 0.765\n",
    "\n",
    "We see that there is a slight drop in accuracy and AUC-ROC curve. "
   ]
  },
  {
   "cell_type": "code",
   "execution_count": null,
   "metadata": {},
   "outputs": [],
   "source": [
    "run_hist_400.history.keys()"
   ]
  },
  {
   "cell_type": "code",
   "execution_count": null,
   "metadata": {},
   "outputs": [],
   "source": [
    "#plotting the curve to check training and validation accuracy\n",
    "fig, ax = plt.subplots()\n",
    "ax.plot(run_hist_400.history[\"accuracy\"],'r', marker='.', label=\"Training Accuracy\")\n",
    "ax.plot(run_hist_400.history[\"val_accuracy\"],'b', marker='.', label=\"Validation Accuracy\")\n",
    "ax.legend()"
   ]
  },
  {
   "cell_type": "code",
   "execution_count": null,
   "metadata": {},
   "outputs": [],
   "source": [
    "#Plotting the curve to see the training and validation loss of the model.\n",
    "fig, ax = plt.subplots()\n",
    "ax.plot(run_hist_400.history[\"loss\"],'r', marker='.', label=\"Training Loss\")\n",
    "ax.plot(run_hist_400.history[\"val_loss\"],'b', marker='.', label=\"Validation Loss\")\n",
    "ax.legend()"
   ]
  },
  {
   "cell_type": "markdown",
   "metadata": {},
   "source": [
    "#### Increasing the number of iterations to 600 and check the performance of the model. \n",
    "\n",
    "Lets now increase number of epochs to 600 and check the performance of the model. "
   ]
  },
  {
   "cell_type": "code",
   "execution_count": null,
   "metadata": {},
   "outputs": [],
   "source": [
    "run_hist_600 = model.fit(X_train_norm, y_train, validation_data=(X_test_norm, y_test), epochs=600)"
   ]
  },
  {
   "cell_type": "code",
   "execution_count": null,
   "metadata": {},
   "outputs": [],
   "source": [
    "# predicting the outcome after the data is fit into the model.\n",
    "y_pred_class_nn_600 = model.predict_classes(X_test_norm)\n",
    "y_pred_prob_nn_600 = model.predict(X_test_norm)"
   ]
  },
  {
   "cell_type": "code",
   "execution_count": null,
   "metadata": {},
   "outputs": [],
   "source": [
    "# Print model performance and plot the roc curve\n",
    "print('Accuracy is {:.3f}'.format(accuracy_score(y_test,y_pred_class_nn_600)))\n",
    "print('ROC-AUC is {:.3f}'.format(roc_auc_score(y_test,y_pred_prob_nn_600)))\n",
    "\n",
    "plot_roc(y_test, y_pred_prob_nn_600, 'NN')"
   ]
  },
  {
   "cell_type": "markdown",
   "metadata": {},
   "source": [
    "#### Accuracy obtained is 71.9% and AUC-ROC curve is 0.750\n"
   ]
  },
  {
   "cell_type": "code",
   "execution_count": null,
   "metadata": {},
   "outputs": [],
   "source": [
    "run_hist_600.history.keys()"
   ]
  },
  {
   "cell_type": "code",
   "execution_count": null,
   "metadata": {},
   "outputs": [],
   "source": [
    "#plotting the curve to check training and validation accuracy\n",
    "fig, ax = plt.subplots()\n",
    "ax.plot(run_hist_600.history[\"accuracy\"],'r', marker='.', label=\"Training Accuracy\")\n",
    "ax.plot(run_hist_600.history[\"val_accuracy\"],'b', marker='.', label=\"Validation Accuracy\")\n",
    "ax.legend()"
   ]
  },
  {
   "cell_type": "code",
   "execution_count": null,
   "metadata": {},
   "outputs": [],
   "source": [
    "fig, ax = plt.subplots()\n",
    "ax.plot(run_hist_600.history[\"loss\"],'r', marker='.', label=\"Training Loss\")\n",
    "ax.plot(run_hist_600.history[\"val_loss\"],'b', marker='.', label=\"Validation Loss\")\n",
    "ax.legend()"
   ]
  },
  {
   "cell_type": "markdown",
   "metadata": {},
   "source": [
    "We see that 200 epochs in the above model gave the best accuracy, when we started increasing the number of epochs to 400 and 600 then accuracy was either constant or slightly dropped which means that model is not learning any furthur with increase in number of epochs. \n",
    "\n",
    "Inorder to improve the model, we need to modify the learning rate to see if there is any improvement. "
   ]
  },
  {
   "cell_type": "code",
   "execution_count": null,
   "metadata": {},
   "outputs": [],
   "source": [
    "sgd = SGD(lr=1e-3)\n",
    "model.compile(loss=\"binary_crossentropy\",optimizer=adam, metrics=[\"accuracy\"],sample_weight_mode=None)\n"
   ]
  },
  {
   "cell_type": "code",
   "execution_count": null,
   "metadata": {},
   "outputs": [],
   "source": [
    "run_hist_200 = model.fit(X_train_norm, y_train, validation_data=(X_test_norm, y_test), verbose=1, epochs=200)"
   ]
  },
  {
   "cell_type": "code",
   "execution_count": null,
   "metadata": {},
   "outputs": [],
   "source": [
    "y_pred_class_nn_200 = model.predict_classes(X_test_norm)\n",
    "y_pred_prob_nn_200 = model.predict(X_test_norm)"
   ]
  },
  {
   "cell_type": "code",
   "execution_count": null,
   "metadata": {},
   "outputs": [],
   "source": [
    "# Print model performance and plot the roc curve\n",
    "print('Accuracy is {:.3f}'.format(accuracy_score(y_test,y_pred_class_nn_200)))\n",
    "print('ROC-AUC is {:.3f}'.format(roc_auc_score(y_test,y_pred_prob_nn_200)))\n",
    "\n",
    "plot_roc(y_test, y_pred_prob_nn_2, 'NN')"
   ]
  },
  {
   "cell_type": "markdown",
   "metadata": {},
   "source": [
    "#### Accuracy obtained is 72.3% and ROC-AUC is 0.781\n",
    "\n",
    "Plotting the curve for training and validation accuracy. "
   ]
  },
  {
   "cell_type": "code",
   "execution_count": null,
   "metadata": {},
   "outputs": [],
   "source": [
    "#plotting the curve to check training and validation accuracy\n",
    "fig, ax = plt.subplots()\n",
    "ax.plot(run_hist_600.history[\"accuracy\"],'r', marker='.', label=\"Training Accuracy\")\n",
    "ax.plot(run_hist_600.history[\"val_accuracy\"],'b', marker='.', label=\"Validation Accuracy\")\n",
    "ax.legend()"
   ]
  },
  {
   "cell_type": "markdown",
   "metadata": {},
   "source": [
    "Plotting the curve for training and validation loss of the model. "
   ]
  },
  {
   "cell_type": "code",
   "execution_count": null,
   "metadata": {},
   "outputs": [],
   "source": [
    "fig, ax = plt.subplots()\n",
    "ax.plot(run_hist_600.history[\"loss\"],'r', marker='.', label=\"Training Loss\")\n",
    "ax.plot(run_hist_600.history[\"val_loss\"],'b', marker='.', label=\"Validation Loss\")\n",
    "ax.legend()"
   ]
  },
  {
   "cell_type": "markdown",
   "metadata": {},
   "source": [
    "We see that there is not much improvement in Accuracy and ROC-AUC curve values. Hence we need to fine tune the model to improve the performance. We need to check for different learning rates, optimizers such as adam or RMSprop or sgd if the values improve. \n",
    "\n",
    "Now let's try developing a more complex model with more number of layers and check the performance of the model."
   ]
  },
  {
   "cell_type": "markdown",
   "metadata": {},
   "source": [
    "### Trying to build another model with more number of hidden layers"
   ]
  },
  {
   "cell_type": "code",
   "execution_count": null,
   "metadata": {},
   "outputs": [],
   "source": [
    "nn_model_2 = Sequential()\n",
    "nn_model_2.add(Dense(64, input_shape=(8,), activation=\"relu\"))\n",
    "nn_model_2.add(Dense(32, activation=\"relu\"))\n",
    "nn_model_2.add(Dense(16, activation=\"relu\"))\n",
    "nn_model_2.add(Dense(8,  activation=\"relu\"))\n",
    "nn_model_2.add(Dense(1, activation =\"sigmoid\"))\n"
   ]
  },
  {
   "cell_type": "code",
   "execution_count": null,
   "metadata": {},
   "outputs": [],
   "source": [
    "nn_model_2.summary()"
   ]
  },
  {
   "cell_type": "code",
   "execution_count": null,
   "metadata": {},
   "outputs": [],
   "source": [
    "sgd = SGD(lr=1e-3, momentum=0.9)\n",
    "nn_model_2.compile(loss=\"binary_crossentropy\", optimizer=sgd,metrics=[\"accuracy\"])\n",
    "run_hist_2 = nn_model_2.fit(X_train_norm, y_train, validation_data=(X_test_norm, y_test), epochs=200)"
   ]
  },
  {
   "cell_type": "code",
   "execution_count": null,
   "metadata": {},
   "outputs": [],
   "source": [
    "y_pred_class_nn_mod2 = model.predict_classes(X_test_norm)\n",
    "y_pred_prob_nn_mod2 = model.predict(X_test_norm)"
   ]
  },
  {
   "cell_type": "code",
   "execution_count": null,
   "metadata": {},
   "outputs": [],
   "source": [
    "#plotting the curve to check training and validation accuracy\n",
    "fig, ax = plt.subplots()\n",
    "ax.plot(run_hist_2.history[\"accuracy\"],'r', marker='.', label=\"Training Accuracy\")\n",
    "ax.plot(run_hist_2.history[\"val_accuracy\"],'b', marker='.', label=\"Validation Accuracy\")\n",
    "ax.legend()"
   ]
  },
  {
   "cell_type": "code",
   "execution_count": null,
   "metadata": {},
   "outputs": [],
   "source": [
    "#Plotting curves for Training Loss and Validation loss\n",
    "fig, ax = plt.subplots()\n",
    "ax.plot(run_hist_2.history[\"loss\"],'r', marker='.', label=\"Training Loss\")\n",
    "ax.plot(run_hist_2.history[\"val_loss\"],'b', marker='.', label=\"Validation Loss\")\n",
    "ax.legend()"
   ]
  },
  {
   "cell_type": "code",
   "execution_count": null,
   "metadata": {},
   "outputs": [],
   "source": [
    "# Print model performance and plot the roc curve\n",
    "print('accuracy is {:.3f}'.format(accuracy_score(y_test,y_pred_class_nn_mod2)))\n",
    "print('roc-auc is {:.3f}'.format(roc_auc_score(y_test,y_pred_prob_nn_mod2)))\n",
    "\n",
    "plot_roc(y_test, y_pred_prob_nn_mod2, 'NN')"
   ]
  },
  {
   "cell_type": "markdown",
   "metadata": {},
   "source": [
    "#### Accuracy obtained from this model is 72.3% for epochs=200 , learning rate=1e-3. \n",
    "\n",
    "Now let's try for 400 epochs. "
   ]
  },
  {
   "cell_type": "code",
   "execution_count": null,
   "metadata": {},
   "outputs": [],
   "source": [
    "run_hist_400 = nn_model_2.fit(X_train_norm, y_train, validation_data=(X_test_norm, y_test), epochs=400)"
   ]
  },
  {
   "cell_type": "code",
   "execution_count": null,
   "metadata": {},
   "outputs": [],
   "source": [
    "y_pred_class_nn_400 = nn_model_2.predict_classes(X_test_norm)\n",
    "y_pred_prob_nn_400 = nn_model_2.predict(X_test_norm)"
   ]
  },
  {
   "cell_type": "code",
   "execution_count": null,
   "metadata": {},
   "outputs": [],
   "source": [
    "#plotting the curve to check training and validation accuracy\n",
    "fig, ax = plt.subplots()\n",
    "ax.plot(run_hist_400.history[\"accuracy\"],'r', marker='.', label=\"Training Accuracy\")\n",
    "ax.plot(run_hist_400.history[\"val_accuracy\"],'b', marker='.', label=\"Validation Accuracy\")\n",
    "ax.legend()"
   ]
  },
  {
   "cell_type": "code",
   "execution_count": null,
   "metadata": {},
   "outputs": [],
   "source": [
    "#Plotting curves for Training Loss and Validation loss\n",
    "fig, ax = plt.subplots()\n",
    "ax.plot(run_hist_400.history[\"loss\"],'r', marker='.', label=\"Training Loss\")\n",
    "ax.plot(run_hist_400.history[\"val_loss\"],'b', marker='.', label=\"Validation Loss\")\n",
    "ax.legend()"
   ]
  },
  {
   "cell_type": "code",
   "execution_count": null,
   "metadata": {},
   "outputs": [],
   "source": [
    "# Print model performance and plot the roc curve\n",
    "print('accuracy is {:.3f}'.format(accuracy_score(y_test,y_pred_class_nn_400)))\n",
    "print('roc-auc is {:.3f}'.format(roc_auc_score(y_test,y_pred_prob_nn_400)))\n",
    "\n",
    "plot_roc(y_test, y_pred_prob_nn_400, 'NN')"
   ]
  },
  {
   "cell_type": "markdown",
   "metadata": {},
   "source": [
    "#### Accuracy obtained for epochs = 400 is 73.2%\n",
    "\n",
    "We see that accuracy is slightly better than previous model. \n",
    "\n",
    "Now, let's check for epochs = 600 wherein model improves or not. "
   ]
  },
  {
   "cell_type": "code",
   "execution_count": null,
   "metadata": {},
   "outputs": [],
   "source": [
    "run_hist_600 = nn_model_2.fit(X_train_norm, y_train, validation_data=(X_test_norm, y_test), epochs=600)"
   ]
  },
  {
   "cell_type": "code",
   "execution_count": null,
   "metadata": {},
   "outputs": [],
   "source": [
    "y_pred_class_nn_600 = nn_model_2.predict_classes(X_test_norm)\n",
    "y_pred_prob_nn_600 = nn_model_2.predict(X_test_norm)"
   ]
  },
  {
   "cell_type": "code",
   "execution_count": null,
   "metadata": {},
   "outputs": [],
   "source": [
    "#plotting the curve to check training and validation accuracy\n",
    "fig, ax = plt.subplots()\n",
    "ax.plot(run_hist_600.history[\"accuracy\"],'r', marker='.', label=\"Training Accuracy\")\n",
    "ax.plot(run_hist_600.history[\"val_accuracy\"],'b', marker='.', label=\"Validation Accuracy\")\n",
    "ax.legend()"
   ]
  },
  {
   "cell_type": "code",
   "execution_count": null,
   "metadata": {},
   "outputs": [],
   "source": [
    "#Plotting curves for Training Loss and Validation loss\n",
    "fig, ax = plt.subplots()\n",
    "ax.plot(run_hist_600.history[\"loss\"],'r', marker='.', label=\"Training Loss\")\n",
    "ax.plot(run_hist_600.history[\"val_loss\"],'b', marker='.', label=\"Validation Loss\")\n",
    "ax.legend()"
   ]
  },
  {
   "cell_type": "code",
   "execution_count": null,
   "metadata": {},
   "outputs": [],
   "source": [
    "# Print model performance and plot the roc curve\n",
    "print('accuracy is {:.3f}'.format(accuracy_score(y_test,y_pred_class_nn_600)))\n",
    "print('roc-auc is {:.3f}'.format(roc_auc_score(y_test,y_pred_prob_nn_600)))\n",
    "\n",
    "plot_roc(y_test, y_pred_prob_nn_600, 'NN')"
   ]
  },
  {
   "cell_type": "markdown",
   "metadata": {},
   "source": [
    "We observe that we reach an accuracy of 70.6% "
   ]
  },
  {
   "cell_type": "markdown",
   "metadata": {},
   "source": [
    "### Building more complex model"
   ]
  },
  {
   "cell_type": "code",
   "execution_count": null,
   "metadata": {},
   "outputs": [],
   "source": [
    "def model_4(model):\n",
    "    model.add(Dense(1024, input_dim=8, activation='relu'))\n",
    "    model.add(Dense(512, activation='relu'))\n",
    "    model.add(Dense(256, activation='relu'))\n",
    "    model.add(Dense(128, activation='relu'))\n",
    "    model.add(Dense(64, activation='relu'))\n",
    "    model.add(Dense(32, activation='relu'))\n",
    "    model.add(Dense(16, activation='relu'))\n",
    "    model.add(Dense(8, activation='relu'))\n",
    "    model.add(Dense(1, activation='sigmoid'))\n",
    "    return model"
   ]
  },
  {
   "cell_type": "code",
   "execution_count": null,
   "metadata": {},
   "outputs": [],
   "source": [
    "model = Sequential()\n",
    "model = model_4(model)"
   ]
  },
  {
   "cell_type": "code",
   "execution_count": null,
   "metadata": {},
   "outputs": [],
   "source": [
    "# compile the model\n",
    "model.compile(\n",
    "loss = 'binary_crossentropy',\n",
    "optimizer = SGD(lr=1e-4, decay=1e-6, momentum=0.9),\n",
    "metrics = ['accuracy']\n",
    ")"
   ]
  },
  {
   "cell_type": "code",
   "execution_count": null,
   "metadata": {},
   "outputs": [],
   "source": [
    "mystr = model.summary()"
   ]
  },
  {
   "cell_type": "code",
   "execution_count": null,
   "metadata": {},
   "outputs": [],
   "source": [
    "history = model.fit(X_train_norm, y_train, validation_data=(X_test_norm, y_test), epochs=600,verbose=1,validation_steps = 1)"
   ]
  },
  {
   "cell_type": "code",
   "execution_count": null,
   "metadata": {},
   "outputs": [],
   "source": [
    "loss = history.history['loss']\n",
    "val_loss = history.history['val_loss']\n",
    "acc = history.history['accuracy']\n",
    "val_acc = history.history['val_accuracy']"
   ]
  },
  {
   "cell_type": "code",
   "execution_count": null,
   "metadata": {},
   "outputs": [],
   "source": [
    "# Evaluate the losses of the model \n",
    "epochs = range(1, len(loss)+1)\n",
    "plt.plot(epochs, loss, color='red', label='Training Loss')\n",
    "plt.plot(epochs, val_loss, color='blue', label='Validation Loss')\n",
    "plt.title('Training and Validation Loss')\n",
    "plt.xlabel('Epochs')\n",
    "plt.ylabel('Loss')\n",
    "plt.legend()\n",
    "plt.show()\n"
   ]
  },
  {
   "cell_type": "code",
   "execution_count": null,
   "metadata": {},
   "outputs": [],
   "source": [
    "# Evaluate the accuracy of the model\n",
    "plt.plot(epochs, acc, color='red', label='Training acc')\n",
    "plt.plot(epochs, val_acc, color='green', label='Validation acc')\n",
    "plt.title('Training and validation accuracy')\n",
    "plt.xlabel('Epochs')\n",
    "plt.ylabel('Loss')\n",
    "plt.legend()\n",
    "plt.show()"
   ]
  },
  {
   "cell_type": "code",
   "execution_count": null,
   "metadata": {},
   "outputs": [],
   "source": [
    "y_pred_class_nn_mod5 = model.predict_classes(X_test_norm)\n",
    "y_pred_prob_nn_mod5 = model.predict(X_test_norm)"
   ]
  },
  {
   "cell_type": "code",
   "execution_count": null,
   "metadata": {},
   "outputs": [],
   "source": [
    "# Print model performance and plot the roc curve\n",
    "print('accuracy is {:.3f}'.format(accuracy_score(y_test,y_pred_class_nn_mod5)))\n",
    "print('roc-auc is {:.3f}'.format(roc_auc_score(y_test,y_pred_prob_nn_mod5)))\n",
    "\n",
    "plot_roc(y_test, y_pred_prob_nn_mod5, 'NN')"
   ]
  },
  {
   "cell_type": "markdown",
   "metadata": {},
   "source": [
    "#### Accuracy obtained from this model is 64.9%"
   ]
  },
  {
   "cell_type": "code",
   "execution_count": null,
   "metadata": {},
   "outputs": [],
   "source": [
    "# Train the model for the given number of epochs\n",
    "\n",
    "history_700 = model.fit(X_train_noarm, y_train,steps_per_epoch= 10, validation_data=(X_test_norm, y_test), epochs=700,verbose=1,validation_steps = 10)"
   ]
  },
  {
   "cell_type": "code",
   "execution_count": null,
   "metadata": {},
   "outputs": [],
   "source": [
    "loss = history.history['loss']\n",
    "val_loss = history.history['val_loss']\n",
    "acc = history.history['accuracy']\n",
    "val_acc = history.history['val_accuracy']"
   ]
  },
  {
   "cell_type": "code",
   "execution_count": null,
   "metadata": {},
   "outputs": [],
   "source": [
    "y_pred_class_nn_mod6 = model.predict_classes(X_test_norm)\n",
    "y_pred_prob_nn_mod6 = model.predict(X_test_norm)"
   ]
  },
  {
   "cell_type": "code",
   "execution_count": null,
   "metadata": {},
   "outputs": [],
   "source": [
    "# Evaluate the losses of the model \n",
    "epochs = range(1, len(loss)+1)\n",
    "plt.plot(epochs, loss, color='red', label='Training Loss')\n",
    "plt.plot(epochs, val_loss, color='blue', label='Validation Loss')\n",
    "plt.title('Training and Validation Loss')\n",
    "plt.xlabel('Epochs')\n",
    "plt.ylabel('Loss')\n",
    "plt.legend()\n",
    "plt.show()"
   ]
  },
  {
   "cell_type": "code",
   "execution_count": null,
   "metadata": {},
   "outputs": [],
   "source": [
    "# Evaluate the accuracy of the model\n",
    "plt.plot(epochs, acc, color='red', label='Training acc')\n",
    "plt.plot(epochs, val_acc, color='green', label='Validation acc')\n",
    "plt.title('Training and validation accuracy')\n",
    "plt.xlabel('Epochs')\n",
    "plt.ylabel('Loss')\n",
    "plt.legend()\n",
    "plt.show()"
   ]
  },
  {
   "cell_type": "code",
   "execution_count": null,
   "metadata": {},
   "outputs": [],
   "source": [
    "# Print model performance and plot the roc curve\n",
    "print('accuracy is {:.3f}'.format(accuracy_score(y_test,y_pred_class_nn_mod6)))\n",
    "print('roc-auc is {:.3f}'.format(roc_auc_score(y_test,y_pred_prob_nn_mod6)))\n",
    "\n",
    "plot_roc(y_test, y_pred_prob_nn_mod6, 'NN')"
   ]
  },
  {
   "cell_type": "markdown",
   "metadata": {},
   "source": [
    "#### Accuracy obtained from this model is 77.9%"
   ]
  },
  {
   "cell_type": "markdown",
   "metadata": {},
   "source": [
    "Now, lets modify the model to accomodate new learning rate and then check the performance. "
   ]
  },
  {
   "cell_type": "code",
   "execution_count": null,
   "metadata": {},
   "outputs": [],
   "source": [
    "model_1 = Sequential()\n",
    "model_1 = model_4(model_1)"
   ]
  },
  {
   "cell_type": "code",
   "execution_count": null,
   "metadata": {},
   "outputs": [],
   "source": [
    "# compile the model\n",
    "model_1.compile(\n",
    "loss = 'binary_crossentropy',\n",
    "optimizer = SGD(lr=0.05, decay=1e-6, momentum=0.9),\n",
    "metrics = ['accuracy']\n",
    ")"
   ]
  },
  {
   "cell_type": "code",
   "execution_count": null,
   "metadata": {},
   "outputs": [],
   "source": [
    "# Train the model for the given number of epochs\n",
    "\n",
    "history = model_1.fit(X_train_norm, y_train,steps_per_epoch= 20, validation_data=(X_test_norm, y_test), epochs=700,verbose=1,validation_steps = 10)"
   ]
  },
  {
   "cell_type": "code",
   "execution_count": null,
   "metadata": {},
   "outputs": [],
   "source": [
    "loss = history.history['loss']\n",
    "val_loss = history.history['val_loss']\n",
    "acc = history.history['accuracy']\n",
    "val_acc = history.history['val_accuracy']"
   ]
  },
  {
   "cell_type": "code",
   "execution_count": null,
   "metadata": {},
   "outputs": [],
   "source": [
    "y_pred_class_nn_mod7 = model_1.predict_classes(X_test_norm)\n",
    "y_pred_prob_nn_mod7 = model_1.predict(X_test_norm)"
   ]
  },
  {
   "cell_type": "code",
   "execution_count": null,
   "metadata": {},
   "outputs": [],
   "source": [
    "# Evaluate the losses of the model \n",
    "epochs = range(1, len(loss)+1)\n",
    "plt.plot(epochs, loss, color='red', label='Training Loss')\n",
    "plt.plot(epochs, val_loss, color='blue', label='Validation Loss')\n",
    "plt.title('Training and Validation Loss')\n",
    "plt.xlabel('Epochs')\n",
    "plt.ylabel('Loss')\n",
    "plt.legend()\n",
    "plt.show()"
   ]
  },
  {
   "cell_type": "code",
   "execution_count": null,
   "metadata": {},
   "outputs": [],
   "source": [
    "# Evaluate the accuracy of the model\n",
    "plt.plot(epochs, acc, color='red', label='Training acc')\n",
    "plt.plot(epochs, val_acc, color='green', label='Validation acc')\n",
    "plt.title('Training and validation accuracy')\n",
    "plt.xlabel('Epochs')\n",
    "plt.ylabel('Loss')\n",
    "plt.legend()\n",
    "plt.show()"
   ]
  },
  {
   "cell_type": "code",
   "execution_count": null,
   "metadata": {},
   "outputs": [],
   "source": [
    "# Print model performance and plot the roc curve\n",
    "print('accuracy is {:.3f}'.format(accuracy_score(y_test,y_pred_class_nn_mod7)))\n",
    "print('roc-auc is {:.3f}'.format(roc_auc_score(y_test,y_pred_prob_nn_mod7)))\n",
    "\n",
    "plot_roc(y_test, y_pred_prob_nn_mod7, 'NN')"
   ]
  },
  {
   "cell_type": "markdown",
   "metadata": {},
   "source": [
    "#### Accuracy obtained from this model is 74.2% and AUC-ROC value is 0.788"
   ]
  },
  {
   "cell_type": "markdown",
   "metadata": {},
   "source": [
    "## Conclusion\n",
    "\n",
    "We used various machine learning and deep learning techniques to predict the outcome and evaluated the model based on the accuracy score and ROC-AUC curve obtained. During the model building and evaluation, we have calculated and plotted training and validation accuracy curve as well as training and validation losses curves. \n",
    "\n",
    "Here are the results:\n",
    "\n",
    "Random Forest Technique : Accuracy score : 72.3%   \n",
    "\n",
    "K-Nearest Neighbors     : Accuracy score : 75.3%        \n",
    "\n",
    "Gradient Boosting       : Accuracy score : 78.3%        \n",
    "\n",
    "ANN Model 1             : Best Accuracy score: 77.5%    AUC-ROC : 0.814\n",
    "\n",
    "ANN Model 2             : Best Accuracy score: 73.2%    AUC-ROC : 0.774\n",
    "\n",
    "ANN Model 3             : Best Accuracy score: 76.2%    AUC-ROC : 0.769\n",
    "\n",
    "If hyperparameters in deep learning are tuned more and regularization techniques are applied then model performance can be improved and this can give better accuracy then other machine learning models. \n",
    "\n",
    "We tried developing different models with different number of layers, learning rates and different activation functions."
   ]
  },
  {
   "cell_type": "markdown",
   "metadata": {},
   "source": [
    "### Contribution:\n",
    "\n",
    "60% of the code has been developed by me and the rest of the code has been referred from other sources like research paper, blogs and github. "
   ]
  },
  {
   "cell_type": "markdown",
   "metadata": {},
   "source": [
    "### Citation: \n",
    "\n",
    "https://tensorflow-object-detection-api-tutorial.readthedocs.io/en/latest/install.html\n",
    "\n",
    "https://towardsdatascience.com/understanding-learning-rates-and-how-it-improves-performance-in-deep-learning-d0d4059c1c10\n",
    "\n",
    "https://www.geeksforgeeks.org/python-how-and-where-to-apply-feature-scaling/\n",
    "\n",
    "https://medium.com/machine-learning-101/chapter-5-random-forest-classifier-56dc7425c3e1\n",
    "\n",
    "https://towardsdatascience.com/machine-learning-basics-with-the-k-nearest-neighbors-algorithm-6a6e71d01761\n",
    "\n",
    "https://www.jeremyjordan.me/nn-learning-rate/\n",
    "\n",
    "https://keras.io/metrics/\n",
    "\n",
    "https://towardsdatascience.com/activation-functions-and-its-types-which-is-better-a9a5310cc8f\n",
    "\n",
    "https://machinelearningmastery.com/rectified-linear-activation-function-for-deep-learning-neural-networks/\n",
    "\n",
    "https://keras.io/optimizers/\n",
    "\n",
    "http://ruder.io/optimizing-gradient-descent/index.html#stochasticgradientdescent\n",
    "\n",
    "https://towardsdatascience.com/understanding-learning-rates-and-how-it-improves-performance-in-deep-learning-d0d4059c1c10\n",
    "\n",
    "https://www.kaggle.com/adhishthite/pima-dataset-prediction-model-with-keras-80\n",
    "\n",
    "https://www.kaggle.com/uciml/pima-indians-diabetes-database"
   ]
  },
  {
   "cell_type": "markdown",
   "metadata": {},
   "source": [
    "## License\n",
    "\n",
    "Copyright 2020 POOJITHA MUPPALLA \n",
    "\n",
    "Permission is hereby granted, free of charge, to any person obtaining a copy of this software and associated documentation files (the \"Software\"), to deal in the Software without restriction, including without limitation the rights to use, copy, modify, merge, publish, distribute, sublicense, and/or sell copies of the Software, and to permit persons to whom the Software is furnished to do so, subject to the following conditions:\n",
    "The above copyright notice and this permission notice shall be included in all copies or substantial portions of the Software.\n",
    "\n",
    "THE SOFTWARE IS PROVIDED \"AS IS\", WITHOUT WARRANTY OF ANY KIND, EXPRESS OR IMPLIED, INCLUDING BUT NOT LIMITED TO THE WARRANTIES OF MERCHANTABILITY, FITNESS FOR A PARTICULAR PURPOSE AND NONINFRINGEMENT. IN NO EVENT SHALL THE AUTHORS OR COPYRIGHT HOLDERS BE LIABLE FOR ANY CLAIM, DAMAGES OR OTHER LIABILITY, WHETHER IN AN ACTION OF CONTRACT, TORT OR OTHERWISE, ARISING FROM, OUT OF OR IN CONNECTION WITH THE SOFTWARE OR THE USE OR OTHER DEALINGS IN THE SOFTWARE."
   ]
  }
 ],
 "metadata": {
  "kernelspec": {
   "display_name": "Python 3",
   "language": "python",
   "name": "python3"
  },
  "language_info": {
   "codemirror_mode": {
    "name": "ipython",
    "version": 3
   },
   "file_extension": ".py",
   "mimetype": "text/x-python",
   "name": "python",
   "nbconvert_exporter": "python",
   "pygments_lexer": "ipython3",
   "version": "3.7.6"
  }
 },
 "nbformat": 4,
 "nbformat_minor": 2
}
